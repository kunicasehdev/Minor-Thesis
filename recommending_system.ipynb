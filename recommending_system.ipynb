{
  "nbformat": 4,
  "nbformat_minor": 0,
  "metadata": {
    "kernelspec": {
      "display_name": "Python 3",
      "language": "python",
      "name": "python3"
    },
    "language_info": {
      "codemirror_mode": {
        "name": "ipython",
        "version": 3
      },
      "file_extension": ".py",
      "mimetype": "text/x-python",
      "name": "python",
      "nbconvert_exporter": "python",
      "pygments_lexer": "ipython3",
      "version": "3.6.6"
    },
    "colab": {
      "name": "recommending system.ipynb",
      "provenance": []
    }
  },
  "cells": [
    {
      "cell_type": "markdown",
      "metadata": {
        "id": "Cd5ARYSnCBEX",
        "colab_type": "text"
      },
      "source": [
        "## Preface"
      ]
    },
    {
      "cell_type": "markdown",
      "metadata": {
        "id": "QHcp2A14CBEY",
        "colab_type": "text"
      },
      "source": [
        "Due to easy availibilty of enormous items(services) on your favourite online platforms like *e-commerce*, *job portal*, *food delivery*, *music or video streaming*, it is very hard and time consuming to find out the desired item of your choice quickly. These platforms could help you by **recommending** items as per your interest and preference by just analyzing your past interaction or behaviour with the system.  \n",
        "\n",
        "From **Amazon** to **Linkedin**, **Uber eats** to **Spotify**, **Netflix** to **Facebook**, **Recommender systems** are most extensively used to suggest \"Similar items\", \"Relevant jobs\", \"preferred foods\", \"Movies of interest\" etc to their users. \n",
        "\n",
        "**Recommender system** with appropiate item suggestions helps in boosting sales, increasing revenue, retaining customers and also adds competitive advantage. \n",
        "There are basically two kind of **recommendation** methods.\n",
        "1. **Content based recommendation**\n",
        "2. **Collaborative filtering**"
      ]
    },
    {
      "cell_type": "markdown",
      "metadata": {
        "id": "ISgSBkeTCBEY",
        "colab_type": "text"
      },
      "source": [
        "**Content based recommendation ** is based on similarity among users/items obtained through their **attributes**. It uses the additional information(meta data) about the **users** or **items** i.e. it relies on what kind of **content** is already available. This meta data could be **user's demograpic information** like *age*, *gender*, *job*, *location*, *skillsets* etc. Similarly for **items** it can be *item name*, *specifications*, *category*, *registration date* etc.\n",
        "\n",
        "So the core idea is to recommend items by finding similar items/users to the concerned **item/user** based on their **attributes**. \n",
        "\n",
        "In this kernel, I am going to discuss about **Content based recommendation** using **News category** dataset. The goal is to recommend **news articles** which are similar to the already read article by using attributes like article *headline*, *category*, *author* and *publishing date*.\n",
        "\n",
        "So let's get started without any further delay."
      ]
    },
    {
      "cell_type": "markdown",
      "metadata": {
        "id": "gePOWqH8CBEZ",
        "colab_type": "text"
      },
      "source": [
        "## Notebook - Table of Content"
      ]
    },
    {
      "cell_type": "markdown",
      "metadata": {
        "id": "oJl6k4_RCBEa",
        "colab_type": "text"
      },
      "source": [
        "1. [**Importing necessary Libraries**](# 1.-Importing-necessary-Libraries)   \n",
        "2. [**Loading Data**](#2.-Loading-Data)  \n",
        "3. [**Data Preprocessing**](#3.-Data-Preprocessing)  \n",
        "    3.a [**Fetching only the articles from 2018**](#3.a-Fetching-only-the-articles-from-2018)  \n",
        "    3.b [**Removing all the short headline articles**](#3.b-Removing-all-the-short-headline-articles)  \n",
        "    3.c [**Checking and removing all the duplicates**](#3.c-Checking-and-removing-all-the-duplicates)  \n",
        "    3.d [**Checking for missing values**](#3.d-Checking-for-missing-values)  \n",
        "4. [**Basic Data Exploration**](#4.-Basic-Data-Exploration)  \n",
        "    4.a [**Basic statistics - Number of articles,authors,categories**](#4.a-Basic-statistics---Number-of-articles,authors,categories)  \n",
        "    4.b [**Distribution of articles category-wise**](#4.b-Distribution-of-articles-category-wise)  \n",
        "    4.c [**Number of articles per month**](#4.c-Number-of-articles-per-month)   \n",
        "    4.d [**PDF for length of headlines**](#4.d-PDF-for-length-of-headlines)\n",
        "5. [**Text Preprocessing**](#5.-Text-Preprocessing)  \n",
        "    5.a [**Stopwords removal**](#5.a-Stopwords-removal)  \n",
        "    5.b [**Lemmatization**](#5.b-Lemmatization)  \n"
      ]
    },
    {
      "cell_type": "markdown",
      "metadata": {
        "id": "x8YEAIWhCBEb",
        "colab_type": "text"
      },
      "source": [
        "## 1. Importing necessary Libraries"
      ]
    },
    {
      "cell_type": "code",
      "metadata": {
        "id": "MzVHiikxCBEb",
        "colab_type": "code",
        "colab": {}
      },
      "source": [
        "import numpy as np\n",
        "import pandas as pd\n",
        "\n",
        "import os\n",
        "import math\n",
        "import time\n",
        "\n",
        "import matplotlib.pyplot as plt\n",
        "import seaborn as sns\n",
        "import plotly.figure_factory as ff\n",
        "import plotly.graph_objects as go\n",
        "import plotly.express as px\n",
        "\n",
        "# Below libraries are for text processing using NLTK\n",
        "from nltk.corpus import stopwords\n",
        "from nltk.tokenize import word_tokenize\n",
        "from nltk.stem import WordNetLemmatizer\n",
        "\n",
        "# Below libraries are for feature representation using sklearn\n",
        "from sklearn.feature_extraction.text import CountVectorizer\n",
        "from sklearn.feature_extraction.text import TfidfVectorizer\n",
        "\n",
        "# Below libraries are for similarity matrices using sklearn\n",
        "from sklearn.metrics.pairwise import cosine_similarity  \n",
        "from sklearn.metrics import pairwise_distances"
      ],
      "execution_count": null,
      "outputs": []
    },
    {
      "cell_type": "markdown",
      "metadata": {
        "id": "cVoSJElNCBEe",
        "colab_type": "text"
      },
      "source": [
        "## 2. Loading Data"
      ]
    },
    {
      "cell_type": "code",
      "metadata": {
        "id": "ovSaf67mCBEf",
        "colab_type": "code",
        "colab": {}
      },
      "source": [
        "news_articles = pd.read_json(\"/kaggle/input/news-category-dataset/News_Category_Dataset_v2.json\", lines = True)"
      ],
      "execution_count": null,
      "outputs": []
    },
    {
      "cell_type": "code",
      "metadata": {
        "id": "QocDjwWtCBEj",
        "colab_type": "code",
        "colab": {},
        "outputId": "da4b5417-1aea-4824-b422-31c0f6844478"
      },
      "source": [
        "news_articles.info()"
      ],
      "execution_count": null,
      "outputs": [
        {
          "output_type": "stream",
          "text": [
            "<class 'pandas.core.frame.DataFrame'>\n",
            "RangeIndex: 200853 entries, 0 to 200852\n",
            "Data columns (total 6 columns):\n",
            "category             200853 non-null object\n",
            "headline             200853 non-null object\n",
            "authors              200853 non-null object\n",
            "link                 200853 non-null object\n",
            "short_description    200853 non-null object\n",
            "date                 200853 non-null datetime64[ns]\n",
            "dtypes: datetime64[ns](1), object(5)\n",
            "memory usage: 9.2+ MB\n"
          ],
          "name": "stdout"
        }
      ]
    },
    {
      "cell_type": "markdown",
      "metadata": {
        "id": "Ard_KsnKCBEm",
        "colab_type": "text"
      },
      "source": [
        "The dataset contains about two million records of six different features. "
      ]
    },
    {
      "cell_type": "code",
      "metadata": {
        "id": "qE56gsguCBEn",
        "colab_type": "code",
        "colab": {},
        "outputId": "e853f0e9-1788-4468-d9c8-3f950b543e28"
      },
      "source": [
        "news_articles.head()"
      ],
      "execution_count": null,
      "outputs": [
        {
          "output_type": "execute_result",
          "data": {
            "text/html": [
              "<div>\n",
              "<style scoped>\n",
              "    .dataframe tbody tr th:only-of-type {\n",
              "        vertical-align: middle;\n",
              "    }\n",
              "\n",
              "    .dataframe tbody tr th {\n",
              "        vertical-align: top;\n",
              "    }\n",
              "\n",
              "    .dataframe thead th {\n",
              "        text-align: right;\n",
              "    }\n",
              "</style>\n",
              "<table border=\"1\" class=\"dataframe\">\n",
              "  <thead>\n",
              "    <tr style=\"text-align: right;\">\n",
              "      <th></th>\n",
              "      <th>category</th>\n",
              "      <th>headline</th>\n",
              "      <th>authors</th>\n",
              "      <th>link</th>\n",
              "      <th>short_description</th>\n",
              "      <th>date</th>\n",
              "    </tr>\n",
              "  </thead>\n",
              "  <tbody>\n",
              "    <tr>\n",
              "      <th>0</th>\n",
              "      <td>CRIME</td>\n",
              "      <td>There Were 2 Mass Shootings In Texas Last Week...</td>\n",
              "      <td>Melissa Jeltsen</td>\n",
              "      <td>https://www.huffingtonpost.com/entry/texas-ama...</td>\n",
              "      <td>She left her husband. He killed their children...</td>\n",
              "      <td>2018-05-26</td>\n",
              "    </tr>\n",
              "    <tr>\n",
              "      <th>1</th>\n",
              "      <td>ENTERTAINMENT</td>\n",
              "      <td>Will Smith Joins Diplo And Nicky Jam For The 2...</td>\n",
              "      <td>Andy McDonald</td>\n",
              "      <td>https://www.huffingtonpost.com/entry/will-smit...</td>\n",
              "      <td>Of course it has a song.</td>\n",
              "      <td>2018-05-26</td>\n",
              "    </tr>\n",
              "    <tr>\n",
              "      <th>2</th>\n",
              "      <td>ENTERTAINMENT</td>\n",
              "      <td>Hugh Grant Marries For The First Time At Age 57</td>\n",
              "      <td>Ron Dicker</td>\n",
              "      <td>https://www.huffingtonpost.com/entry/hugh-gran...</td>\n",
              "      <td>The actor and his longtime girlfriend Anna Ebe...</td>\n",
              "      <td>2018-05-26</td>\n",
              "    </tr>\n",
              "    <tr>\n",
              "      <th>3</th>\n",
              "      <td>ENTERTAINMENT</td>\n",
              "      <td>Jim Carrey Blasts 'Castrato' Adam Schiff And D...</td>\n",
              "      <td>Ron Dicker</td>\n",
              "      <td>https://www.huffingtonpost.com/entry/jim-carre...</td>\n",
              "      <td>The actor gives Dems an ass-kicking for not fi...</td>\n",
              "      <td>2018-05-26</td>\n",
              "    </tr>\n",
              "    <tr>\n",
              "      <th>4</th>\n",
              "      <td>ENTERTAINMENT</td>\n",
              "      <td>Julianna Margulies Uses Donald Trump Poop Bags...</td>\n",
              "      <td>Ron Dicker</td>\n",
              "      <td>https://www.huffingtonpost.com/entry/julianna-...</td>\n",
              "      <td>The \"Dietland\" actress said using the bags is ...</td>\n",
              "      <td>2018-05-26</td>\n",
              "    </tr>\n",
              "  </tbody>\n",
              "</table>\n",
              "</div>"
            ],
            "text/plain": [
              "        category                                           headline  \\\n",
              "0          CRIME  There Were 2 Mass Shootings In Texas Last Week...   \n",
              "1  ENTERTAINMENT  Will Smith Joins Diplo And Nicky Jam For The 2...   \n",
              "2  ENTERTAINMENT    Hugh Grant Marries For The First Time At Age 57   \n",
              "3  ENTERTAINMENT  Jim Carrey Blasts 'Castrato' Adam Schiff And D...   \n",
              "4  ENTERTAINMENT  Julianna Margulies Uses Donald Trump Poop Bags...   \n",
              "\n",
              "           authors                                               link  \\\n",
              "0  Melissa Jeltsen  https://www.huffingtonpost.com/entry/texas-ama...   \n",
              "1    Andy McDonald  https://www.huffingtonpost.com/entry/will-smit...   \n",
              "2       Ron Dicker  https://www.huffingtonpost.com/entry/hugh-gran...   \n",
              "3       Ron Dicker  https://www.huffingtonpost.com/entry/jim-carre...   \n",
              "4       Ron Dicker  https://www.huffingtonpost.com/entry/julianna-...   \n",
              "\n",
              "                                   short_description       date  \n",
              "0  She left her husband. He killed their children... 2018-05-26  \n",
              "1                           Of course it has a song. 2018-05-26  \n",
              "2  The actor and his longtime girlfriend Anna Ebe... 2018-05-26  \n",
              "3  The actor gives Dems an ass-kicking for not fi... 2018-05-26  \n",
              "4  The \"Dietland\" actress said using the bags is ... 2018-05-26  "
            ]
          },
          "metadata": {
            "tags": []
          },
          "execution_count": 4
        }
      ]
    },
    {
      "cell_type": "markdown",
      "metadata": {
        "id": "YW1UcCVqCBEp",
        "colab_type": "text"
      },
      "source": [
        "## 3. Data Preprocessing"
      ]
    },
    {
      "cell_type": "markdown",
      "metadata": {
        "id": "LACxFf8rCBEq",
        "colab_type": "text"
      },
      "source": [
        "### 3.a Fetching only the articles from 2018  "
      ]
    },
    {
      "cell_type": "markdown",
      "metadata": {
        "id": "S1_kS7uJCBEq",
        "colab_type": "text"
      },
      "source": [
        "Since the dataset size is quite large so processing through entire dataset may consume too much time. To refrain from this, we are only considering the latest articles from the year 2018. "
      ]
    },
    {
      "cell_type": "code",
      "metadata": {
        "id": "EzICLkpJCBEr",
        "colab_type": "code",
        "colab": {}
      },
      "source": [
        "news_articles = news_articles[news_articles['date'] >= pd.Timestamp(2018,1,1)]"
      ],
      "execution_count": null,
      "outputs": []
    },
    {
      "cell_type": "code",
      "metadata": {
        "id": "SetlAOhACBEu",
        "colab_type": "code",
        "colab": {},
        "outputId": "a54add59-9616-4027-85b6-4887ff404e06"
      },
      "source": [
        "news_articles.shape"
      ],
      "execution_count": null,
      "outputs": [
        {
          "output_type": "execute_result",
          "data": {
            "text/plain": [
              "(8583, 6)"
            ]
          },
          "metadata": {
            "tags": []
          },
          "execution_count": 6
        }
      ]
    },
    {
      "cell_type": "markdown",
      "metadata": {
        "id": "paz4oksUCBEw",
        "colab_type": "text"
      },
      "source": [
        "Now, the number of news articles comes down to 8583."
      ]
    },
    {
      "cell_type": "markdown",
      "metadata": {
        "id": "s7YdAdzCCBEw",
        "colab_type": "text"
      },
      "source": [
        "### 3.b Removing all the short headline articles "
      ]
    },
    {
      "cell_type": "markdown",
      "metadata": {
        "id": "ZYP1vPApCBEx",
        "colab_type": "text"
      },
      "source": [
        "After stop words removal from headline, the articles with very short headline may become blank headline articles. So let's remove all the articles with less words(<5) in the headline.   "
      ]
    },
    {
      "cell_type": "code",
      "metadata": {
        "id": "HJKuixVSCBEx",
        "colab_type": "code",
        "colab": {},
        "outputId": "648123d5-214c-4bd6-caaf-4997212190ef"
      },
      "source": [
        "news_articles = news_articles[news_articles['headline'].apply(lambda x: len(x.split())>5)]\n",
        "print(\"Total number of articles after removal of headlines with short title:\", news_articles.shape[0])"
      ],
      "execution_count": null,
      "outputs": [
        {
          "output_type": "stream",
          "text": [
            "Total number of articles after removal of headlines with short title: 8530\n"
          ],
          "name": "stdout"
        }
      ]
    },
    {
      "cell_type": "markdown",
      "metadata": {
        "id": "eXOCMm1mCBE1",
        "colab_type": "text"
      },
      "source": [
        "### 3.c Checking and removing all the duplicates"
      ]
    },
    {
      "cell_type": "markdown",
      "metadata": {
        "id": "6RAXUxhgCBE1",
        "colab_type": "text"
      },
      "source": [
        "Since some articles are exactly same in headlines, so let's remove all such articles having duplicate headline appearance."
      ]
    },
    {
      "cell_type": "code",
      "metadata": {
        "id": "6jlbUsXECBE2",
        "colab_type": "code",
        "colab": {},
        "outputId": "80262799-9808-4f55-d58c-c0b82158215b"
      },
      "source": [
        "news_articles.sort_values('headline',inplace=True, ascending=False)\n",
        "duplicated_articles_series = news_articles.duplicated('headline', keep = False)\n",
        "news_articles = news_articles[~duplicated_articles_series]\n",
        "print(\"Total number of articles after removing duplicates:\", news_articles.shape[0])"
      ],
      "execution_count": null,
      "outputs": [
        {
          "output_type": "stream",
          "text": [
            "Total number of articles after removing duplicates: 8485\n"
          ],
          "name": "stdout"
        }
      ]
    },
    {
      "cell_type": "markdown",
      "metadata": {
        "id": "cq6x9zPyCBE4",
        "colab_type": "text"
      },
      "source": [
        "### 3.d Checking for missing values"
      ]
    },
    {
      "cell_type": "code",
      "metadata": {
        "id": "RQILcDwqCBE5",
        "colab_type": "code",
        "colab": {},
        "outputId": "e5797287-51cf-4dc8-c445-d7aa0a7e4467"
      },
      "source": [
        "news_articles.isna().sum()"
      ],
      "execution_count": null,
      "outputs": [
        {
          "output_type": "execute_result",
          "data": {
            "text/plain": [
              "category             0\n",
              "headline             0\n",
              "authors              0\n",
              "link                 0\n",
              "short_description    0\n",
              "date                 0\n",
              "dtype: int64"
            ]
          },
          "metadata": {
            "tags": []
          },
          "execution_count": 9
        }
      ]
    },
    {
      "cell_type": "markdown",
      "metadata": {
        "id": "9ZfVg-bnCBE8",
        "colab_type": "text"
      },
      "source": [
        "## 4. Basic Data Exploration "
      ]
    },
    {
      "cell_type": "markdown",
      "metadata": {
        "id": "Kf9rOer9CBE9",
        "colab_type": "text"
      },
      "source": [
        "### 4.a Basic statistics - Number of articles,authors,categories"
      ]
    },
    {
      "cell_type": "code",
      "metadata": {
        "id": "CX147Ab6CBE9",
        "colab_type": "code",
        "colab": {},
        "outputId": "75fab0f0-b17c-47e9-ccc6-2f424382cebe"
      },
      "source": [
        "print(\"Total number of articles : \", news_articles.shape[0])\n",
        "print(\"Total number of authors : \", news_articles[\"authors\"].nunique())\n",
        "print(\"Total number of unqiue categories : \", news_articles[\"category\"].nunique())"
      ],
      "execution_count": null,
      "outputs": [
        {
          "output_type": "stream",
          "text": [
            "Total number of articles :  8485\n",
            "Total number of authors :  892\n",
            "Total number of unqiue categories :  26\n"
          ],
          "name": "stdout"
        }
      ]
    },
    {
      "cell_type": "markdown",
      "metadata": {
        "id": "yVHmux1pCBFA",
        "colab_type": "text"
      },
      "source": [
        "### 4.b Distribution of articles category-wise"
      ]
    },
    {
      "cell_type": "code",
      "metadata": {
        "id": "-MB-ZCaGCBFA",
        "colab_type": "code",
        "colab": {},
        "outputId": "48a2ead4-77de-46df-8a02-3877d810bdfa"
      },
      "source": [
        "fig = go.Figure([go.Bar(x=news_articles[\"category\"].value_counts().index, y=news_articles[\"category\"].value_counts().values)])\n",
        "fig['layout'].update(title={\"text\" : 'Distribution of articles category-wise','y':0.9,'x':0.5,'xanchor': 'center','yanchor': 'top'}, xaxis_title=\"Category name\",yaxis_title=\"Number of articles\")\n",
        "fig.update_layout(width=800,height=700)\n",
        "fig"
      ],
      "execution_count": null,
      "outputs": [
        {
          "output_type": "display_data",
          "data": {
            "text/html": [
              "        <script type=\"text/javascript\">\n",
              "        window.PlotlyConfig = {MathJaxConfig: 'local'};\n",
              "        if (window.MathJax) {MathJax.Hub.Config({SVG: {font: \"STIX-Web\"}});}\n",
              "        if (typeof require !== 'undefined') {\n",
              "        require.undef(\"plotly\");\n",
              "        requirejs.config({\n",
              "            paths: {\n",
              "                'plotly': ['https://cdn.plot.ly/plotly-latest.min']\n",
              "            }\n",
              "        });\n",
              "        require(['plotly'], function(Plotly) {\n",
              "            window._Plotly = Plotly;\n",
              "        });\n",
              "        }\n",
              "        </script>\n",
              "        "
            ]
          },
          "metadata": {
            "tags": []
          }
        },
        {
          "output_type": "display_data",
          "data": {
            "text/html": [
              "<div>\n",
              "        \n",
              "        \n",
              "            <div id=\"7e18ee9b-7b17-4faa-aad8-b82b1bd91667\" class=\"plotly-graph-div\" style=\"height:700px; width:800px;\"></div>\n",
              "            <script type=\"text/javascript\">\n",
              "                require([\"plotly\"], function(Plotly) {\n",
              "                    window.PLOTLYENV=window.PLOTLYENV || {};\n",
              "                    \n",
              "                if (document.getElementById(\"7e18ee9b-7b17-4faa-aad8-b82b1bd91667\")) {\n",
              "                    Plotly.newPlot(\n",
              "                        '7e18ee9b-7b17-4faa-aad8-b82b1bd91667',\n",
              "                        [{\"type\": \"bar\", \"x\": [\"POLITICS\", \"ENTERTAINMENT\", \"WORLD NEWS\", \"QUEER VOICES\", \"COMEDY\", \"BLACK VOICES\", \"SPORTS\", \"MEDIA\", \"WOMEN\", \"WEIRD NEWS\", \"CRIME\", \"BUSINESS\", \"LATINO VOICES\", \"IMPACT\", \"TRAVEL\", \"RELIGION\", \"TECH\", \"SCIENCE\", \"STYLE\", \"PARENTS\", \"EDUCATION\", \"GREEN\", \"HEALTHY LIVING\", \"ARTS & CULTURE\", \"TASTE\", \"COLLEGE\"], \"y\": [3042, 1699, 557, 451, 443, 406, 364, 290, 226, 205, 170, 85, 83, 73, 72, 63, 53, 40, 34, 32, 31, 28, 15, 13, 9, 1]}],\n",
              "                        {\"height\": 700, \"template\": {\"data\": {\"bar\": [{\"error_x\": {\"color\": \"#2a3f5f\"}, \"error_y\": {\"color\": \"#2a3f5f\"}, \"marker\": {\"line\": {\"color\": \"#E5ECF6\", \"width\": 0.5}}, \"type\": \"bar\"}], \"barpolar\": [{\"marker\": {\"line\": {\"color\": \"#E5ECF6\", \"width\": 0.5}}, \"type\": \"barpolar\"}], \"carpet\": [{\"aaxis\": {\"endlinecolor\": \"#2a3f5f\", \"gridcolor\": \"white\", \"linecolor\": \"white\", \"minorgridcolor\": \"white\", \"startlinecolor\": \"#2a3f5f\"}, \"baxis\": {\"endlinecolor\": \"#2a3f5f\", \"gridcolor\": \"white\", \"linecolor\": \"white\", \"minorgridcolor\": \"white\", \"startlinecolor\": \"#2a3f5f\"}, \"type\": \"carpet\"}], \"choropleth\": [{\"colorbar\": {\"outlinewidth\": 0, \"ticks\": \"\"}, \"type\": \"choropleth\"}], \"contour\": [{\"colorbar\": {\"outlinewidth\": 0, \"ticks\": \"\"}, \"colorscale\": [[0.0, \"#0d0887\"], [0.1111111111111111, \"#46039f\"], [0.2222222222222222, \"#7201a8\"], [0.3333333333333333, \"#9c179e\"], [0.4444444444444444, \"#bd3786\"], [0.5555555555555556, \"#d8576b\"], [0.6666666666666666, \"#ed7953\"], [0.7777777777777778, \"#fb9f3a\"], [0.8888888888888888, \"#fdca26\"], [1.0, \"#f0f921\"]], \"type\": \"contour\"}], \"contourcarpet\": [{\"colorbar\": {\"outlinewidth\": 0, \"ticks\": \"\"}, \"type\": \"contourcarpet\"}], \"heatmap\": [{\"colorbar\": {\"outlinewidth\": 0, \"ticks\": \"\"}, \"colorscale\": [[0.0, \"#0d0887\"], [0.1111111111111111, \"#46039f\"], [0.2222222222222222, \"#7201a8\"], [0.3333333333333333, \"#9c179e\"], [0.4444444444444444, \"#bd3786\"], [0.5555555555555556, \"#d8576b\"], [0.6666666666666666, \"#ed7953\"], [0.7777777777777778, \"#fb9f3a\"], [0.8888888888888888, \"#fdca26\"], [1.0, \"#f0f921\"]], \"type\": \"heatmap\"}], \"heatmapgl\": [{\"colorbar\": {\"outlinewidth\": 0, \"ticks\": \"\"}, \"colorscale\": [[0.0, \"#0d0887\"], [0.1111111111111111, \"#46039f\"], [0.2222222222222222, \"#7201a8\"], [0.3333333333333333, \"#9c179e\"], [0.4444444444444444, \"#bd3786\"], [0.5555555555555556, \"#d8576b\"], [0.6666666666666666, \"#ed7953\"], [0.7777777777777778, \"#fb9f3a\"], [0.8888888888888888, \"#fdca26\"], [1.0, \"#f0f921\"]], \"type\": \"heatmapgl\"}], \"histogram\": [{\"marker\": {\"colorbar\": {\"outlinewidth\": 0, \"ticks\": \"\"}}, \"type\": \"histogram\"}], \"histogram2d\": [{\"colorbar\": {\"outlinewidth\": 0, \"ticks\": \"\"}, \"colorscale\": [[0.0, \"#0d0887\"], [0.1111111111111111, \"#46039f\"], [0.2222222222222222, \"#7201a8\"], [0.3333333333333333, \"#9c179e\"], [0.4444444444444444, \"#bd3786\"], [0.5555555555555556, \"#d8576b\"], [0.6666666666666666, \"#ed7953\"], [0.7777777777777778, \"#fb9f3a\"], [0.8888888888888888, \"#fdca26\"], [1.0, \"#f0f921\"]], \"type\": \"histogram2d\"}], \"histogram2dcontour\": [{\"colorbar\": {\"outlinewidth\": 0, \"ticks\": \"\"}, \"colorscale\": [[0.0, \"#0d0887\"], [0.1111111111111111, \"#46039f\"], [0.2222222222222222, \"#7201a8\"], [0.3333333333333333, \"#9c179e\"], [0.4444444444444444, \"#bd3786\"], [0.5555555555555556, \"#d8576b\"], [0.6666666666666666, \"#ed7953\"], [0.7777777777777778, \"#fb9f3a\"], [0.8888888888888888, \"#fdca26\"], [1.0, \"#f0f921\"]], \"type\": \"histogram2dcontour\"}], \"mesh3d\": [{\"colorbar\": {\"outlinewidth\": 0, \"ticks\": \"\"}, \"type\": \"mesh3d\"}], \"parcoords\": [{\"line\": {\"colorbar\": {\"outlinewidth\": 0, \"ticks\": \"\"}}, \"type\": \"parcoords\"}], \"scatter\": [{\"marker\": {\"colorbar\": {\"outlinewidth\": 0, \"ticks\": \"\"}}, \"type\": \"scatter\"}], \"scatter3d\": [{\"line\": {\"colorbar\": {\"outlinewidth\": 0, \"ticks\": \"\"}}, \"marker\": {\"colorbar\": {\"outlinewidth\": 0, \"ticks\": \"\"}}, \"type\": \"scatter3d\"}], \"scattercarpet\": [{\"marker\": {\"colorbar\": {\"outlinewidth\": 0, \"ticks\": \"\"}}, \"type\": \"scattercarpet\"}], \"scattergeo\": [{\"marker\": {\"colorbar\": {\"outlinewidth\": 0, \"ticks\": \"\"}}, \"type\": \"scattergeo\"}], \"scattergl\": [{\"marker\": {\"colorbar\": {\"outlinewidth\": 0, \"ticks\": \"\"}}, \"type\": \"scattergl\"}], \"scattermapbox\": [{\"marker\": {\"colorbar\": {\"outlinewidth\": 0, \"ticks\": \"\"}}, \"type\": \"scattermapbox\"}], \"scatterpolar\": [{\"marker\": {\"colorbar\": {\"outlinewidth\": 0, \"ticks\": \"\"}}, \"type\": \"scatterpolar\"}], \"scatterpolargl\": [{\"marker\": {\"colorbar\": {\"outlinewidth\": 0, \"ticks\": \"\"}}, \"type\": \"scatterpolargl\"}], \"scatterternary\": [{\"marker\": {\"colorbar\": {\"outlinewidth\": 0, \"ticks\": \"\"}}, \"type\": \"scatterternary\"}], \"surface\": [{\"colorbar\": {\"outlinewidth\": 0, \"ticks\": \"\"}, \"colorscale\": [[0.0, \"#0d0887\"], [0.1111111111111111, \"#46039f\"], [0.2222222222222222, \"#7201a8\"], [0.3333333333333333, \"#9c179e\"], [0.4444444444444444, \"#bd3786\"], [0.5555555555555556, \"#d8576b\"], [0.6666666666666666, \"#ed7953\"], [0.7777777777777778, \"#fb9f3a\"], [0.8888888888888888, \"#fdca26\"], [1.0, \"#f0f921\"]], \"type\": \"surface\"}], \"table\": [{\"cells\": {\"fill\": {\"color\": \"#EBF0F8\"}, \"line\": {\"color\": \"white\"}}, \"header\": {\"fill\": {\"color\": \"#C8D4E3\"}, \"line\": {\"color\": \"white\"}}, \"type\": \"table\"}]}, \"layout\": {\"annotationdefaults\": {\"arrowcolor\": \"#2a3f5f\", \"arrowhead\": 0, \"arrowwidth\": 1}, \"colorscale\": {\"diverging\": [[0, \"#8e0152\"], [0.1, \"#c51b7d\"], [0.2, \"#de77ae\"], [0.3, \"#f1b6da\"], [0.4, \"#fde0ef\"], [0.5, \"#f7f7f7\"], [0.6, \"#e6f5d0\"], [0.7, \"#b8e186\"], [0.8, \"#7fbc41\"], [0.9, \"#4d9221\"], [1, \"#276419\"]], \"sequential\": [[0.0, \"#0d0887\"], [0.1111111111111111, \"#46039f\"], [0.2222222222222222, \"#7201a8\"], [0.3333333333333333, \"#9c179e\"], [0.4444444444444444, \"#bd3786\"], [0.5555555555555556, \"#d8576b\"], [0.6666666666666666, \"#ed7953\"], [0.7777777777777778, \"#fb9f3a\"], [0.8888888888888888, \"#fdca26\"], [1.0, \"#f0f921\"]], \"sequentialminus\": [[0.0, \"#0d0887\"], [0.1111111111111111, \"#46039f\"], [0.2222222222222222, \"#7201a8\"], [0.3333333333333333, \"#9c179e\"], [0.4444444444444444, \"#bd3786\"], [0.5555555555555556, \"#d8576b\"], [0.6666666666666666, \"#ed7953\"], [0.7777777777777778, \"#fb9f3a\"], [0.8888888888888888, \"#fdca26\"], [1.0, \"#f0f921\"]]}, \"colorway\": [\"#636efa\", \"#EF553B\", \"#00cc96\", \"#ab63fa\", \"#FFA15A\", \"#19d3f3\", \"#FF6692\", \"#B6E880\", \"#FF97FF\", \"#FECB52\"], \"font\": {\"color\": \"#2a3f5f\"}, \"geo\": {\"bgcolor\": \"white\", \"lakecolor\": \"white\", \"landcolor\": \"#E5ECF6\", \"showlakes\": true, \"showland\": true, \"subunitcolor\": \"white\"}, \"hoverlabel\": {\"align\": \"left\"}, \"hovermode\": \"closest\", \"mapbox\": {\"style\": \"light\"}, \"paper_bgcolor\": \"white\", \"plot_bgcolor\": \"#E5ECF6\", \"polar\": {\"angularaxis\": {\"gridcolor\": \"white\", \"linecolor\": \"white\", \"ticks\": \"\"}, \"bgcolor\": \"#E5ECF6\", \"radialaxis\": {\"gridcolor\": \"white\", \"linecolor\": \"white\", \"ticks\": \"\"}}, \"scene\": {\"xaxis\": {\"backgroundcolor\": \"#E5ECF6\", \"gridcolor\": \"white\", \"gridwidth\": 2, \"linecolor\": \"white\", \"showbackground\": true, \"ticks\": \"\", \"zerolinecolor\": \"white\"}, \"yaxis\": {\"backgroundcolor\": \"#E5ECF6\", \"gridcolor\": \"white\", \"gridwidth\": 2, \"linecolor\": \"white\", \"showbackground\": true, \"ticks\": \"\", \"zerolinecolor\": \"white\"}, \"zaxis\": {\"backgroundcolor\": \"#E5ECF6\", \"gridcolor\": \"white\", \"gridwidth\": 2, \"linecolor\": \"white\", \"showbackground\": true, \"ticks\": \"\", \"zerolinecolor\": \"white\"}}, \"shapedefaults\": {\"line\": {\"color\": \"#2a3f5f\"}}, \"ternary\": {\"aaxis\": {\"gridcolor\": \"white\", \"linecolor\": \"white\", \"ticks\": \"\"}, \"baxis\": {\"gridcolor\": \"white\", \"linecolor\": \"white\", \"ticks\": \"\"}, \"bgcolor\": \"#E5ECF6\", \"caxis\": {\"gridcolor\": \"white\", \"linecolor\": \"white\", \"ticks\": \"\"}}, \"title\": {\"x\": 0.05}, \"xaxis\": {\"automargin\": true, \"gridcolor\": \"white\", \"linecolor\": \"white\", \"ticks\": \"\", \"zerolinecolor\": \"white\", \"zerolinewidth\": 2}, \"yaxis\": {\"automargin\": true, \"gridcolor\": \"white\", \"linecolor\": \"white\", \"ticks\": \"\", \"zerolinecolor\": \"white\", \"zerolinewidth\": 2}}}, \"title\": {\"text\": \"Distribution of articles category-wise\", \"x\": 0.5, \"xanchor\": \"center\", \"y\": 0.9, \"yanchor\": \"top\"}, \"width\": 800, \"xaxis\": {\"title\": {\"text\": \"Category name\"}}, \"yaxis\": {\"title\": {\"text\": \"Number of articles\"}}},\n",
              "                        {\"responsive\": true}\n",
              "                    ).then(function(){\n",
              "                            \n",
              "var gd = document.getElementById('7e18ee9b-7b17-4faa-aad8-b82b1bd91667');\n",
              "var x = new MutationObserver(function (mutations, observer) {{\n",
              "        var display = window.getComputedStyle(gd).display;\n",
              "        if (!display || display === 'none') {{\n",
              "            console.log([gd, 'removed!']);\n",
              "            Plotly.purge(gd);\n",
              "            observer.disconnect();\n",
              "        }}\n",
              "}});\n",
              "\n",
              "// Listen for the removal of the full notebook cells\n",
              "var notebookContainer = gd.closest('#notebook-container');\n",
              "if (notebookContainer) {{\n",
              "    x.observe(notebookContainer, {childList: true});\n",
              "}}\n",
              "\n",
              "// Listen for the clearing of the current output cell\n",
              "var outputEl = gd.closest('.output');\n",
              "if (outputEl) {{\n",
              "    x.observe(outputEl, {childList: true});\n",
              "}}\n",
              "\n",
              "                        })\n",
              "                };\n",
              "                });\n",
              "            </script>\n",
              "        </div>"
            ]
          },
          "metadata": {
            "tags": []
          }
        }
      ]
    },
    {
      "cell_type": "markdown",
      "metadata": {
        "id": "fF5OdnBZCBFD",
        "colab_type": "text"
      },
      "source": [
        "From the bar chart, we can observe that **politics** category has **highest** number of articles then **entertainment** and so on.  "
      ]
    },
    {
      "cell_type": "markdown",
      "metadata": {
        "id": "fx0ZaVhtCBFE",
        "colab_type": "text"
      },
      "source": [
        "### 4.c Number of articles per month"
      ]
    },
    {
      "cell_type": "markdown",
      "metadata": {
        "id": "ifWLRhEJCBFE",
        "colab_type": "text"
      },
      "source": [
        "Let's first group the data on monthly basis using **resample()** function. "
      ]
    },
    {
      "cell_type": "code",
      "metadata": {
        "id": "uqlURuqsCBFE",
        "colab_type": "code",
        "colab": {},
        "outputId": "b6c57c10-60ce-4ca2-bf65-5edd305e520f"
      },
      "source": [
        "news_articles_per_month = news_articles.resample('m',on = 'date')['headline'].count()\n",
        "news_articles_per_month"
      ],
      "execution_count": null,
      "outputs": [
        {
          "output_type": "execute_result",
          "data": {
            "text/plain": [
              "date\n",
              "2018-01-31    2065\n",
              "2018-02-28    1694\n",
              "2018-03-31    1778\n",
              "2018-04-30    1580\n",
              "2018-05-31    1368\n",
              "Freq: M, Name: headline, dtype: int64"
            ]
          },
          "metadata": {
            "tags": []
          },
          "execution_count": 12
        }
      ]
    },
    {
      "cell_type": "code",
      "metadata": {
        "id": "S6ezR0luCBFG",
        "colab_type": "code",
        "colab": {},
        "outputId": "45aac577-a5e6-40ba-d58c-71aa958a7397"
      },
      "source": [
        "fig = go.Figure([go.Bar(x=news_articles_per_month.index.strftime(\"%b\"), y=news_articles_per_month)])\n",
        "fig['layout'].update(title={\"text\" : 'Distribution of articles month-wise','y':0.9,'x':0.5,'xanchor': 'center','yanchor': 'top'}, xaxis_title=\"Month\",yaxis_title=\"Number of articles\")\n",
        "fig.update_layout(width=500,height=500)\n",
        "fig"
      ],
      "execution_count": null,
      "outputs": [
        {
          "output_type": "display_data",
          "data": {
            "text/html": [
              "<div>\n",
              "        \n",
              "        \n",
              "            <div id=\"cdeb8fa2-4ae3-410a-92a5-ba6162bb03df\" class=\"plotly-graph-div\" style=\"height:500px; width:500px;\"></div>\n",
              "            <script type=\"text/javascript\">\n",
              "                require([\"plotly\"], function(Plotly) {\n",
              "                    window.PLOTLYENV=window.PLOTLYENV || {};\n",
              "                    \n",
              "                if (document.getElementById(\"cdeb8fa2-4ae3-410a-92a5-ba6162bb03df\")) {\n",
              "                    Plotly.newPlot(\n",
              "                        'cdeb8fa2-4ae3-410a-92a5-ba6162bb03df',\n",
              "                        [{\"type\": \"bar\", \"x\": [\"Jan\", \"Feb\", \"Mar\", \"Apr\", \"May\"], \"y\": [2065, 1694, 1778, 1580, 1368]}],\n",
              "                        {\"height\": 500, \"template\": {\"data\": {\"bar\": [{\"error_x\": {\"color\": \"#2a3f5f\"}, \"error_y\": {\"color\": \"#2a3f5f\"}, \"marker\": {\"line\": {\"color\": \"#E5ECF6\", \"width\": 0.5}}, \"type\": \"bar\"}], \"barpolar\": [{\"marker\": {\"line\": {\"color\": \"#E5ECF6\", \"width\": 0.5}}, \"type\": \"barpolar\"}], \"carpet\": [{\"aaxis\": {\"endlinecolor\": \"#2a3f5f\", \"gridcolor\": \"white\", \"linecolor\": \"white\", \"minorgridcolor\": \"white\", \"startlinecolor\": \"#2a3f5f\"}, \"baxis\": {\"endlinecolor\": \"#2a3f5f\", \"gridcolor\": \"white\", \"linecolor\": \"white\", \"minorgridcolor\": \"white\", \"startlinecolor\": \"#2a3f5f\"}, \"type\": \"carpet\"}], \"choropleth\": [{\"colorbar\": {\"outlinewidth\": 0, \"ticks\": \"\"}, \"type\": \"choropleth\"}], \"contour\": [{\"colorbar\": {\"outlinewidth\": 0, \"ticks\": \"\"}, \"colorscale\": [[0.0, \"#0d0887\"], [0.1111111111111111, \"#46039f\"], [0.2222222222222222, \"#7201a8\"], [0.3333333333333333, \"#9c179e\"], [0.4444444444444444, \"#bd3786\"], [0.5555555555555556, \"#d8576b\"], [0.6666666666666666, \"#ed7953\"], [0.7777777777777778, \"#fb9f3a\"], [0.8888888888888888, \"#fdca26\"], [1.0, \"#f0f921\"]], \"type\": \"contour\"}], \"contourcarpet\": [{\"colorbar\": {\"outlinewidth\": 0, \"ticks\": \"\"}, \"type\": \"contourcarpet\"}], \"heatmap\": [{\"colorbar\": {\"outlinewidth\": 0, \"ticks\": \"\"}, \"colorscale\": [[0.0, \"#0d0887\"], [0.1111111111111111, \"#46039f\"], [0.2222222222222222, \"#7201a8\"], [0.3333333333333333, \"#9c179e\"], [0.4444444444444444, \"#bd3786\"], [0.5555555555555556, \"#d8576b\"], [0.6666666666666666, \"#ed7953\"], [0.7777777777777778, \"#fb9f3a\"], [0.8888888888888888, \"#fdca26\"], [1.0, \"#f0f921\"]], \"type\": \"heatmap\"}], \"heatmapgl\": [{\"colorbar\": {\"outlinewidth\": 0, \"ticks\": \"\"}, \"colorscale\": [[0.0, \"#0d0887\"], [0.1111111111111111, \"#46039f\"], [0.2222222222222222, \"#7201a8\"], [0.3333333333333333, \"#9c179e\"], [0.4444444444444444, \"#bd3786\"], [0.5555555555555556, \"#d8576b\"], [0.6666666666666666, \"#ed7953\"], [0.7777777777777778, \"#fb9f3a\"], [0.8888888888888888, \"#fdca26\"], [1.0, \"#f0f921\"]], \"type\": \"heatmapgl\"}], \"histogram\": [{\"marker\": {\"colorbar\": {\"outlinewidth\": 0, \"ticks\": \"\"}}, \"type\": \"histogram\"}], \"histogram2d\": [{\"colorbar\": {\"outlinewidth\": 0, \"ticks\": \"\"}, \"colorscale\": [[0.0, \"#0d0887\"], [0.1111111111111111, \"#46039f\"], [0.2222222222222222, \"#7201a8\"], [0.3333333333333333, \"#9c179e\"], [0.4444444444444444, \"#bd3786\"], [0.5555555555555556, \"#d8576b\"], [0.6666666666666666, \"#ed7953\"], [0.7777777777777778, \"#fb9f3a\"], [0.8888888888888888, \"#fdca26\"], [1.0, \"#f0f921\"]], \"type\": \"histogram2d\"}], \"histogram2dcontour\": [{\"colorbar\": {\"outlinewidth\": 0, \"ticks\": \"\"}, \"colorscale\": [[0.0, \"#0d0887\"], [0.1111111111111111, \"#46039f\"], [0.2222222222222222, \"#7201a8\"], [0.3333333333333333, \"#9c179e\"], [0.4444444444444444, \"#bd3786\"], [0.5555555555555556, \"#d8576b\"], [0.6666666666666666, \"#ed7953\"], [0.7777777777777778, \"#fb9f3a\"], [0.8888888888888888, \"#fdca26\"], [1.0, \"#f0f921\"]], \"type\": \"histogram2dcontour\"}], \"mesh3d\": [{\"colorbar\": {\"outlinewidth\": 0, \"ticks\": \"\"}, \"type\": \"mesh3d\"}], \"parcoords\": [{\"line\": {\"colorbar\": {\"outlinewidth\": 0, \"ticks\": \"\"}}, \"type\": \"parcoords\"}], \"scatter\": [{\"marker\": {\"colorbar\": {\"outlinewidth\": 0, \"ticks\": \"\"}}, \"type\": \"scatter\"}], \"scatter3d\": [{\"line\": {\"colorbar\": {\"outlinewidth\": 0, \"ticks\": \"\"}}, \"marker\": {\"colorbar\": {\"outlinewidth\": 0, \"ticks\": \"\"}}, \"type\": \"scatter3d\"}], \"scattercarpet\": [{\"marker\": {\"colorbar\": {\"outlinewidth\": 0, \"ticks\": \"\"}}, \"type\": \"scattercarpet\"}], \"scattergeo\": [{\"marker\": {\"colorbar\": {\"outlinewidth\": 0, \"ticks\": \"\"}}, \"type\": \"scattergeo\"}], \"scattergl\": [{\"marker\": {\"colorbar\": {\"outlinewidth\": 0, \"ticks\": \"\"}}, \"type\": \"scattergl\"}], \"scattermapbox\": [{\"marker\": {\"colorbar\": {\"outlinewidth\": 0, \"ticks\": \"\"}}, \"type\": \"scattermapbox\"}], \"scatterpolar\": [{\"marker\": {\"colorbar\": {\"outlinewidth\": 0, \"ticks\": \"\"}}, \"type\": \"scatterpolar\"}], \"scatterpolargl\": [{\"marker\": {\"colorbar\": {\"outlinewidth\": 0, \"ticks\": \"\"}}, \"type\": \"scatterpolargl\"}], \"scatterternary\": [{\"marker\": {\"colorbar\": {\"outlinewidth\": 0, \"ticks\": \"\"}}, \"type\": \"scatterternary\"}], \"surface\": [{\"colorbar\": {\"outlinewidth\": 0, \"ticks\": \"\"}, \"colorscale\": [[0.0, \"#0d0887\"], [0.1111111111111111, \"#46039f\"], [0.2222222222222222, \"#7201a8\"], [0.3333333333333333, \"#9c179e\"], [0.4444444444444444, \"#bd3786\"], [0.5555555555555556, \"#d8576b\"], [0.6666666666666666, \"#ed7953\"], [0.7777777777777778, \"#fb9f3a\"], [0.8888888888888888, \"#fdca26\"], [1.0, \"#f0f921\"]], \"type\": \"surface\"}], \"table\": [{\"cells\": {\"fill\": {\"color\": \"#EBF0F8\"}, \"line\": {\"color\": \"white\"}}, \"header\": {\"fill\": {\"color\": \"#C8D4E3\"}, \"line\": {\"color\": \"white\"}}, \"type\": \"table\"}]}, \"layout\": {\"annotationdefaults\": {\"arrowcolor\": \"#2a3f5f\", \"arrowhead\": 0, \"arrowwidth\": 1}, \"colorscale\": {\"diverging\": [[0, \"#8e0152\"], [0.1, \"#c51b7d\"], [0.2, \"#de77ae\"], [0.3, \"#f1b6da\"], [0.4, \"#fde0ef\"], [0.5, \"#f7f7f7\"], [0.6, \"#e6f5d0\"], [0.7, \"#b8e186\"], [0.8, \"#7fbc41\"], [0.9, \"#4d9221\"], [1, \"#276419\"]], \"sequential\": [[0.0, \"#0d0887\"], [0.1111111111111111, \"#46039f\"], [0.2222222222222222, \"#7201a8\"], [0.3333333333333333, \"#9c179e\"], [0.4444444444444444, \"#bd3786\"], [0.5555555555555556, \"#d8576b\"], [0.6666666666666666, \"#ed7953\"], [0.7777777777777778, \"#fb9f3a\"], [0.8888888888888888, \"#fdca26\"], [1.0, \"#f0f921\"]], \"sequentialminus\": [[0.0, \"#0d0887\"], [0.1111111111111111, \"#46039f\"], [0.2222222222222222, \"#7201a8\"], [0.3333333333333333, \"#9c179e\"], [0.4444444444444444, \"#bd3786\"], [0.5555555555555556, \"#d8576b\"], [0.6666666666666666, \"#ed7953\"], [0.7777777777777778, \"#fb9f3a\"], [0.8888888888888888, \"#fdca26\"], [1.0, \"#f0f921\"]]}, \"colorway\": [\"#636efa\", \"#EF553B\", \"#00cc96\", \"#ab63fa\", \"#FFA15A\", \"#19d3f3\", \"#FF6692\", \"#B6E880\", \"#FF97FF\", \"#FECB52\"], \"font\": {\"color\": \"#2a3f5f\"}, \"geo\": {\"bgcolor\": \"white\", \"lakecolor\": \"white\", \"landcolor\": \"#E5ECF6\", \"showlakes\": true, \"showland\": true, \"subunitcolor\": \"white\"}, \"hoverlabel\": {\"align\": \"left\"}, \"hovermode\": \"closest\", \"mapbox\": {\"style\": \"light\"}, \"paper_bgcolor\": \"white\", \"plot_bgcolor\": \"#E5ECF6\", \"polar\": {\"angularaxis\": {\"gridcolor\": \"white\", \"linecolor\": \"white\", \"ticks\": \"\"}, \"bgcolor\": \"#E5ECF6\", \"radialaxis\": {\"gridcolor\": \"white\", \"linecolor\": \"white\", \"ticks\": \"\"}}, \"scene\": {\"xaxis\": {\"backgroundcolor\": \"#E5ECF6\", \"gridcolor\": \"white\", \"gridwidth\": 2, \"linecolor\": \"white\", \"showbackground\": true, \"ticks\": \"\", \"zerolinecolor\": \"white\"}, \"yaxis\": {\"backgroundcolor\": \"#E5ECF6\", \"gridcolor\": \"white\", \"gridwidth\": 2, \"linecolor\": \"white\", \"showbackground\": true, \"ticks\": \"\", \"zerolinecolor\": \"white\"}, \"zaxis\": {\"backgroundcolor\": \"#E5ECF6\", \"gridcolor\": \"white\", \"gridwidth\": 2, \"linecolor\": \"white\", \"showbackground\": true, \"ticks\": \"\", \"zerolinecolor\": \"white\"}}, \"shapedefaults\": {\"line\": {\"color\": \"#2a3f5f\"}}, \"ternary\": {\"aaxis\": {\"gridcolor\": \"white\", \"linecolor\": \"white\", \"ticks\": \"\"}, \"baxis\": {\"gridcolor\": \"white\", \"linecolor\": \"white\", \"ticks\": \"\"}, \"bgcolor\": \"#E5ECF6\", \"caxis\": {\"gridcolor\": \"white\", \"linecolor\": \"white\", \"ticks\": \"\"}}, \"title\": {\"x\": 0.05}, \"xaxis\": {\"automargin\": true, \"gridcolor\": \"white\", \"linecolor\": \"white\", \"ticks\": \"\", \"zerolinecolor\": \"white\", \"zerolinewidth\": 2}, \"yaxis\": {\"automargin\": true, \"gridcolor\": \"white\", \"linecolor\": \"white\", \"ticks\": \"\", \"zerolinecolor\": \"white\", \"zerolinewidth\": 2}}}, \"title\": {\"text\": \"Distribution of articles month-wise\", \"x\": 0.5, \"xanchor\": \"center\", \"y\": 0.9, \"yanchor\": \"top\"}, \"width\": 500, \"xaxis\": {\"title\": {\"text\": \"Month\"}}, \"yaxis\": {\"title\": {\"text\": \"Number of articles\"}}},\n",
              "                        {\"responsive\": true}\n",
              "                    ).then(function(){\n",
              "                            \n",
              "var gd = document.getElementById('cdeb8fa2-4ae3-410a-92a5-ba6162bb03df');\n",
              "var x = new MutationObserver(function (mutations, observer) {{\n",
              "        var display = window.getComputedStyle(gd).display;\n",
              "        if (!display || display === 'none') {{\n",
              "            console.log([gd, 'removed!']);\n",
              "            Plotly.purge(gd);\n",
              "            observer.disconnect();\n",
              "        }}\n",
              "}});\n",
              "\n",
              "// Listen for the removal of the full notebook cells\n",
              "var notebookContainer = gd.closest('#notebook-container');\n",
              "if (notebookContainer) {{\n",
              "    x.observe(notebookContainer, {childList: true});\n",
              "}}\n",
              "\n",
              "// Listen for the clearing of the current output cell\n",
              "var outputEl = gd.closest('.output');\n",
              "if (outputEl) {{\n",
              "    x.observe(outputEl, {childList: true});\n",
              "}}\n",
              "\n",
              "                        })\n",
              "                };\n",
              "                });\n",
              "            </script>\n",
              "        </div>"
            ]
          },
          "metadata": {
            "tags": []
          }
        }
      ]
    },
    {
      "cell_type": "markdown",
      "metadata": {
        "id": "Ig-uaXJECBFJ",
        "colab_type": "text"
      },
      "source": [
        "From the bar chart, we can observe that **January** month has **highest** number of articles then **March** and so on.  "
      ]
    },
    {
      "cell_type": "markdown",
      "metadata": {
        "id": "nr8c8xHtCBFJ",
        "colab_type": "text"
      },
      "source": [
        "### 4.d PDF for the length of headlines "
      ]
    },
    {
      "cell_type": "code",
      "metadata": {
        "id": "XQyLlS04CBFK",
        "colab_type": "code",
        "colab": {},
        "outputId": "ab849275-01b6-4f07-ff26-0d9aa2f93daf"
      },
      "source": [
        "fig = ff.create_distplot([news_articles['headline'].str.len()], [\"ht\"],show_hist=False,show_rug=False)\n",
        "fig['layout'].update(title={'text':'PDF','y':0.9,'x':0.5,'xanchor': 'center','yanchor': 'top'}, xaxis_title=\"Length of a headline\",yaxis_title=\"probability\")\n",
        "fig.update_layout(showlegend = False,width=500,height=500)\n",
        "fig"
      ],
      "execution_count": null,
      "outputs": [
        {
          "output_type": "display_data",
          "data": {
            "text/html": [
              "<div>\n",
              "        \n",
              "        \n",
              "            <div id=\"7894b677-a0a2-4aa9-b417-503cbe6c5f2f\" class=\"plotly-graph-div\" style=\"height:500px; width:500px;\"></div>\n",
              "            <script type=\"text/javascript\">\n",
              "                require([\"plotly\"], function(Plotly) {\n",
              "                    window.PLOTLYENV=window.PLOTLYENV || {};\n",
              "                    \n",
              "                if (document.getElementById(\"7894b677-a0a2-4aa9-b417-503cbe6c5f2f\")) {\n",
              "                    Plotly.newPlot(\n",
              "                        '7894b677-a0a2-4aa9-b417-503cbe6c5f2f',\n",
              "                        [{\"legendgroup\": \"ht\", \"marker\": {\"color\": \"rgb(31, 119, 180)\"}, \"mode\": \"lines\", \"name\": \"ht\", \"showlegend\": true, \"type\": \"scatter\", \"x\": [25.0, 25.21, 25.42, 25.63, 25.84, 26.05, 26.26, 26.47, 26.68, 26.89, 27.1, 27.31, 27.52, 27.73, 27.94, 28.15, 28.36, 28.57, 28.78, 28.990000000000002, 29.2, 29.41, 29.62, 29.83, 30.04, 30.25, 30.46, 30.67, 30.88, 31.09, 31.3, 31.509999999999998, 31.72, 31.93, 32.14, 32.35, 32.56, 32.769999999999996, 32.980000000000004, 33.19, 33.4, 33.61, 33.82, 34.03, 34.24, 34.45, 34.66, 34.87, 35.08, 35.29, 35.5, 35.71, 35.92, 36.13, 36.34, 36.55, 36.76, 36.97, 37.18, 37.39, 37.6, 37.81, 38.019999999999996, 38.230000000000004, 38.44, 38.65, 38.86, 39.07, 39.28, 39.49, 39.7, 39.91, 40.12, 40.33, 40.54, 40.75, 40.96, 41.17, 41.379999999999995, 41.59, 41.8, 42.010000000000005, 42.22, 42.43, 42.64, 42.85, 43.06, 43.269999999999996, 43.480000000000004, 43.69, 43.9, 44.11, 44.32, 44.53, 44.739999999999995, 44.95, 45.16, 45.370000000000005, 45.58, 45.79, 46.0, 46.21, 46.42, 46.629999999999995, 46.84, 47.05, 47.260000000000005, 47.47, 47.68, 47.89, 48.1, 48.31, 48.519999999999996, 48.730000000000004, 48.94, 49.15, 49.36, 49.57, 49.78, 49.989999999999995, 50.2, 50.41, 50.620000000000005, 50.83, 51.04, 51.25, 51.46, 51.67, 51.879999999999995, 52.09, 52.3, 52.510000000000005, 52.72, 52.93, 53.14, 53.35, 53.56, 53.769999999999996, 53.980000000000004, 54.19, 54.4, 54.61, 54.82, 55.03, 55.239999999999995, 55.45, 55.66, 55.870000000000005, 56.08, 56.29, 56.5, 56.71, 56.92, 57.13, 57.34, 57.55, 57.76, 57.97, 58.18, 58.39, 58.6, 58.81, 59.02, 59.23, 59.44, 59.65, 59.86, 60.07, 60.28, 60.49, 60.7, 60.91, 61.12, 61.33, 61.54, 61.75, 61.96, 62.17, 62.38, 62.59, 62.8, 63.01, 63.22, 63.43, 63.64, 63.85, 64.06, 64.27000000000001, 64.47999999999999, 64.69, 64.9, 65.11, 65.32, 65.53, 65.74000000000001, 65.95, 66.16, 66.37, 66.58, 66.78999999999999, 67.0, 67.21000000000001, 67.42, 67.63, 67.84, 68.05, 68.25999999999999, 68.47, 68.68, 68.89, 69.1, 69.31, 69.52000000000001, 69.72999999999999, 69.94, 70.15, 70.36, 70.57, 70.78, 70.99000000000001, 71.2, 71.41, 71.62, 71.83, 72.03999999999999, 72.25, 72.46000000000001, 72.67, 72.88, 73.09, 73.3, 73.50999999999999, 73.72, 73.93, 74.14, 74.35, 74.56, 74.77000000000001, 74.97999999999999, 75.19, 75.4, 75.61, 75.82, 76.03, 76.24000000000001, 76.45, 76.66, 76.87, 77.08, 77.28999999999999, 77.5, 77.71000000000001, 77.92, 78.13, 78.34, 78.55, 78.75999999999999, 78.97, 79.18, 79.39, 79.6, 79.81, 80.02000000000001, 80.22999999999999, 80.44, 80.65, 80.86, 81.07, 81.28, 81.49000000000001, 81.7, 81.91, 82.12, 82.33, 82.53999999999999, 82.75, 82.96000000000001, 83.17, 83.38, 83.59, 83.8, 84.00999999999999, 84.22, 84.43, 84.64, 84.85, 85.06, 85.27000000000001, 85.47999999999999, 85.69, 85.9, 86.11, 86.32, 86.53, 86.74000000000001, 86.95, 87.16, 87.37, 87.58, 87.78999999999999, 88.0, 88.21000000000001, 88.42, 88.63, 88.84, 89.05, 89.26, 89.47, 89.68, 89.89, 90.1, 90.31, 90.52, 90.73, 90.94, 91.15, 91.36, 91.57, 91.78, 91.99, 92.2, 92.41, 92.62, 92.83, 93.04, 93.25, 93.46, 93.67, 93.88, 94.09, 94.3, 94.51, 94.72, 94.93, 95.14, 95.35, 95.56, 95.77, 95.98, 96.19, 96.4, 96.61, 96.82, 97.03, 97.24, 97.45, 97.66, 97.87, 98.08, 98.29, 98.5, 98.71, 98.92, 99.13, 99.34, 99.55, 99.76, 99.97, 100.18, 100.39, 100.6, 100.81, 101.02, 101.23, 101.44, 101.65, 101.86, 102.07, 102.28, 102.49, 102.7, 102.91, 103.12, 103.33, 103.54, 103.75, 103.96, 104.17, 104.38, 104.59, 104.8, 105.01, 105.22, 105.43, 105.64, 105.85, 106.06, 106.27, 106.48, 106.69, 106.9, 107.11, 107.32, 107.53, 107.74, 107.95, 108.16, 108.37, 108.58, 108.79, 109.0, 109.21, 109.42, 109.63, 109.84, 110.05, 110.26, 110.47, 110.68, 110.89, 111.1, 111.31, 111.52, 111.73, 111.94, 112.15, 112.36, 112.57, 112.78, 112.99, 113.2, 113.41, 113.62, 113.83, 114.04, 114.25, 114.46, 114.67, 114.88, 115.09, 115.3, 115.51, 115.72, 115.93, 116.14, 116.35, 116.56, 116.77, 116.98, 117.19, 117.4, 117.61, 117.82, 118.03, 118.24, 118.45, 118.66, 118.87, 119.08, 119.29, 119.5, 119.71, 119.92, 120.13, 120.34, 120.55, 120.76, 120.97, 121.18, 121.39, 121.6, 121.81, 122.02, 122.23, 122.44, 122.65, 122.86, 123.07, 123.28, 123.49, 123.7, 123.91, 124.12, 124.33, 124.54, 124.75, 124.96, 125.17, 125.38, 125.59, 125.8, 126.01, 126.22, 126.43, 126.64, 126.85, 127.06, 127.27, 127.48, 127.69, 127.9, 128.11, 128.32, 128.53, 128.74, 128.95, 129.16, 129.37, 129.57999999999998, 129.79000000000002], \"xaxis\": \"x\", \"y\": [9.761758669784215e-05, 0.00010325831164921103, 0.0001084329845912932, 0.0001131355320267272, 0.00011739554705294587, 0.00012127819250782847, 0.00012488160912757547, 0.00012833195525104211, 0.00013177643189014795, 0.000135374848979986, 0.00013929044182645805, 0.00014368073236925103, 0.00014868923626863332, 0.0001544387412644792, 0.00016102673140292527, 0.00016852332096544393, 0.00017697181358664377, 0.00018639174269529776, 0.00019678400672695868, 0.0002081375120278088, 0.00022043659839849893, 0.00023366845992195287, 0.00024782979166326974, 0.0002629319869246314, 0.00027900436808591143, 0.0002960951387077445, 0.0003142699738284915, 0.0003336083963901047, 0.0003541982989159281, 0.00037612914273380015, 0.0003994844888055315, 0.0004243345767575593, 0.00045072966975756806, 0.00047869482521141623, 0.0005082266416629181, 0.0005392923804376617, 0.0005718316778924338, 0.0006057608628306198, 0.0006409796861002985, 0.0006773800678026515, 0.0007148562837941945, 0.0007533158588123265, 0.0007926903196818814, 0.0008329448989887273, 0.0008740862762707749, 0.0009161675068253669, 0.00095928942092176, 0.0010035979772622108, 0.0010492773171879265, 0.0010965385775688287, 0.0011456048617448987, 0.001196693115262218, 0.0012499939786775143, 0.0013056509639736594, 0.0013637404956690037, 0.0014242544477831784, 0.0014870867751478572, 0.001552025672616529, 0.0016187523995630352, 0.0016868474921832935, 0.0017558045765632, 0.0018250514258213717, 0.0018939773179972484, 0.0019619651964370545, 0.002028426661705342, 0.002092837481302812, 0.002154771130992942, 0.0022139279074072076, 0.0022701573875331094, 0.0023234724490875354, 0.0023740536784553823, 0.0024222437319847473, 0.0024685320178051318, 0.0025135308541624256, 0.0025579449587034044, 0.0026025366590684204, 0.0026480895309619686, 0.002695373230119138, 0.0027451120812465066, 0.002797959541451437, 0.002854480016790886, 0.002915138749240913, 0.0029802996917890727, 0.0030502305384277665, 0.003125113452383846, 0.003205059600984135, 0.0032901253954067365, 0.003380328356429597, 0.0034756607640522358, 0.0035760996575330086, 0.0036816122753240543, 0.0037921565971155463, 0.0039076772101853275, 0.004028097216372367, 0.004153307285671967, 0.004283153225892821, 0.004417423569427549, 0.004555838685686466, 0.004698042827815269, 0.00484360033585292, 0.004991996966339557, 0.005142647018395638, 0.005294906591970928, 0.005448092954861864, 0.005601509618588827, 0.005754476337090127, 0.005906362857341759, 0.00605662488365812, 0.006204840390061565, 0.006350744155946926, 0.006494258241045015, 0.006635516087953936, 0.006774878070925938, 0.006912936614930908, 0.007050509491608967, 0.007188620543307961, 0.0073284678589321944, 0.007471380274267577, 0.00761876392957106, 0.007772041415647669, 0.007932586703422562, 0.00810165951621963, 0.008280343019261574, 0.008469488639556887, 0.008669671488645657, 0.008881159263509299, 0.009103896693224561, 0.009337506644419905, 0.00958130797181679, 0.009834349178494899, 0.01009545600655938, 0.010363290273910298, 0.010636416652497602, 0.010913373675907502, 0.011192745080378578, 0.011473227619748626, 0.011753691736740034, 0.01203323189875493, 0.012311203990691555, 0.012587247873389516, 0.012861294036193871, 0.013133554165455382, 0.013404496382548736, 0.013674806832988261, 0.01394534018145866, 0.01421706232659694, 0.01449098922929828, 0.014768126084912342, 0.015049411107787467, 0.015335667900042675, 0.015627569737537993, 0.01592561815283594, 0.01623013699422801, 0.016541281794396054, 0.016859062921967375, 0.01718337975698376, 0.017514062164769452, 0.017850914954905414, 0.018193760874126694, 0.018542478010862867, 0.018897028242755947, 0.019257474439761984, 0.019623985404989063, 0.019996828831073166, 0.020376353710116785, 0.020762964522700458, 0.021157090052918406, 0.02155914979521024, 0.02196952065867375, 0.022388506113396996, 0.02281630917847914, 0.023253009859076357, 0.02369854693237771, 0.024152703467159562, 0.024615095204686112, 0.02508516094701054, 0.02556215436005776, 0.02604513703087201, 0.026532973123543694, 0.027024326452204935, 0.027517661139171378, 0.02801124718531895, 0.028503172217300417, 0.028991360399367127, 0.029473599046849944, 0.029947572917581714, 0.03041090556071104, 0.03086120654021602, 0.03129612287941681, 0.03171339272826884, 0.03211089905005894, 0.032486721052225984, 0.03283918112957734, 0.03316688522641146, 0.033468754741167714, 0.03374404838726987, 0.03399237279136029, 0.03421368106624736, 0.03440825915069343, 0.03457670036141293, 0.034719869335134323, 0.03483885730674201, 0.034934931405029956, 0.03500948126300701, 0.03506396663960631, 0.035099869846005056, 0.035118656498551774, 0.03512174745673859, 0.03511050377380055, 0.03508622516799521, 0.03505016104214987, 0.03500353160186725, 0.034947555330075576, 0.0348834781418276, 0.034812599111200486, 0.03473628782074213, 0.0346559891519142, 0.034573212653510835, 0.0344895053604274, 0.034406408892512674, 0.034325403609304, 0.03424784428914458, 0.03417489302194894, 0.03410745558923842, 0.03404612746690158, 0.033991154731795856, 0.033942413682985444, 0.033899411084066404, 0.03386130483422515, 0.0338269428466241, 0.033794916205301395, 0.033763621490200436, 0.03373132663232513, 0.033696234822439323, 0.03365654178638746, 0.03361048301286217, 0.03355636906990358, 0.033492608741665486, 0.033417721132612016, 0.03333033894003943, 0.03322920567349602, 0.03311316966962091, 0.03298117736471167, 0.03283226756715941, 0.032665567586965094, 0.032480291215573213, 0.03227573787612208, 0.032051291907231445, 0.03180642096275049, 0.03154067289115714, 0.031253671116212925, 0.0309451093341004, 0.030614747099714783, 0.03026240842306135, 0.029887985691917845, 0.029491450989889874, 0.02907287617237718, 0.028632461957088434, 0.028170574912188905, 0.027687789769248308, 0.02718493316267165, 0.02666312391157663, 0.02612380448881393, 0.0255687584782191, 0.02500010963834814, 0.024420299614257797, 0.023832043230493483, 0.02323826245339298, 0.022642002282646793, 0.02204633376441573, 0.02145425077817548, 0.020868568057493438, 0.020291827958758456, 0.0197262227790953, 0.01917353802408022, 0.01863512009661765, 0.01811186963905955, 0.01760425946131928, 0.017112373878386284, 0.016635964581261684, 0.01617451704070547, 0.015727320985906, 0.015293538723397424, 0.01487226590182291, 0.014462580657378881, 0.014063578718992014, 0.013674393814412477, 0.01329420440202257, 0.01292222918420533, 0.01255771490230424, 0.012199920487473221, 0.011848101719050482, 0.01150150014980254, 0.011159339269712945, 0.010820829806407566, 0.010485184831237986, 0.01015164409176957, 0.009819505851874674, 0.009488163597470156, 0.009157144337846507, 0.008826144944319955, 0.008495063029400233, 0.008164019257937803, 0.007833368646307655, 0.00750369927544615, 0.007175817834576238, 0.006850722436117663, 0.006529564112763868, 0.0062135992484505685, 0.005904135843798515, 0.005602476929538283, 0.005309864594709188, 0.005027427987457314, 0.004756138292900874, 0.004496773131135141, 0.0042498921005831485, 0.004015824379964543, 0.0037946684640526944, 0.0035863033116586, 0.0033904094901321493, 0.003206498358536381, 0.003033946974806971, 0.0028720362550548, 0.002719989950545626, 0.002577012216579763, 0.002442321889809449, 0.0023151820195234916, 0.0021949236640659273, 0.0020809634189888617, 0.0019728145506063225, 0.0018700919417583308, 0.0017725113046804877, 0.0016798832816906659, 0.0015921031519892112, 0.001509136913218505, 0.0014310045323554647, 0.0013577611816062431, 0.0012894773035462624, 0.0012262183884862697, 0.001168025388752301, 0.0011148967240168163, 0.0010667728292998277, 0.0010235241431301465, 0.0009849433127080212, 0.0009507421994354607, 0.0009205540065175131, 0.0008939405364246929, 0.000870404245388501, 0.0008494044264998877, 0.0008303765557562883, 0.0008127536067378973, 0.0007959880022272285, 0.0007795728373271684, 0.0007630610790948529, 0.000746081611881537, 0.0007283512360024428, 0.000709682014966627, 0.0006899836763023676, 0.000669261077688122, 0.0006476070326815711, 0.0006251910337996199, 0.0006022446062442176, 0.0005790441698250868, 0.0005558923801139234, 0.0005330989651360286, 0.0005109620739265167, 0.0004897511103212791, 0.0004696919406688828, 0.0004509552384143406, 0.0004336485628647663, 0.0004178125668635519, 0.000403421494630712, 0.00039038787667853057, 0.00037857106760395696, 0.0003677890222683074, 0.0003578324859798905, 0.00034848060430634604, 0.0003395168551154121, 0.000330744181636901, 0.000321998266313707, 0.00031315802865766073, 0.0003041526458663784, 0.0002949646649582695, 0.0002856290765215268, 0.0002762285267053313, 0.00026688512948290055, 0.00025774958180250205, 0.00024898846138829254, 0.0002407706887933597, 0.00023325415753354194, 0.0002265734818276414, 0.00022082969010333501, 0.000216082518202526, 0.0002123457461118489, 0.00020958579383335932, 0.00020772356259108298, 0.00020663929173416813, 0.00020618001147838997, 0.0002061690161497189, 0.00020641666830967248, 0.00020673177525479134, 0.0002069327582488494, 0.0002068578622038712, 0.0002063737284513548, 0.0002053817728525292, 0.00020382197047437542, 0.00020167383821166255, 0.00019895461673475332, 0.0001957148686637743, 0.00019203191425218262, 0.00018800170132821073, 0.00018372983559342062, 0.00017932256599836435, 0.000174878517809498, 0.0001704818895276084, 0.00016619768293563917, 0.00016206933002503704, 0.00015811883534701628, 0.00015434929194561324, 0.00015074938091707603, 0.00014729925612926842, 0.00014397707060405878, 0.00014076533689631502, 0.0001376563390122931, 0.0001346559263229148, 0.00013178520860665854, 0.0001290799148395765, 0.00012658744905577656, 0.0001243619436129864, 0.0001224578429895678, 0.00012092272337107191, 0.00011979014557421581, 0.00011907334162947718, 0.00011876044947758102, 0.00011881184688309127, 0.00011915991472134372, 0.00011971130730353343, 0.00012035155230739875, 0.00012095157346921203, 0.00012137554976341175, 0.0001214894129054644, 0.00012116924966130134, 0.00012030891639003097, 0.00011882628149137478, 0.00011666767079289509, 0.00011381028041287294, 0.00011026251835882504, 0.0001060624181660303, 0.00010127441697416693, 9.598489390850045e-05, 9.029691647679635e-05, 8.432464370171399e-05, 7.818779165260996e-05, 7.200649115269524e-05, 6.589677244719024e-05, 5.9966811671791446e-05, 5.431398173119905e-05, 4.902267543072437e-05, 4.4162817353004514e-05, 3.9788954960531854e-05, 3.593981696316475e-05, 3.2638243429310416e-05, 2.989142087057638e-05, 2.769138926443666e-05, 2.601581965971535e-05, 2.4829084747520574e-05, 2.4083656444045812e-05, 2.372186207596672e-05, 2.367801429032204e-05, 2.3880901419585085e-05, 2.425658843725816e-05, 2.4731438684004562e-05, 2.52352286037523e-05, 2.5704197071359343e-05, 2.608385205999885e-05, 2.6331353663338638e-05, 2.6417305467678368e-05, 2.63268157085411e-05, 2.6059733445391758e-05, 2.563001945037811e-05, 2.5064271781007865e-05, 2.439948666165286e-05, 2.3680190946740838e-05, 2.29551283137235e-05, 2.22737137497139e-05, 2.16824875252199e-05, 2.1221799811869423e-05, 2.092294087816006e-05, 2.080590101343646e-05, 2.087790147978194e-05, 2.1132785959737773e-05, 2.1551304597523976e-05, 2.2102263451051494e-05, 2.2744454675241208e-05, 2.342923070272761e-05, 2.410354257825299e-05, 2.471323160799353e-05, 2.5206347199808914e-05, 2.5536263922106548e-05, 2.5664387958778052e-05], \"yaxis\": \"y\"}],\n",
              "                        {\"barmode\": \"overlay\", \"height\": 500, \"hovermode\": \"closest\", \"legend\": {\"traceorder\": \"reversed\"}, \"showlegend\": false, \"template\": {\"data\": {\"bar\": [{\"error_x\": {\"color\": \"#2a3f5f\"}, \"error_y\": {\"color\": \"#2a3f5f\"}, \"marker\": {\"line\": {\"color\": \"#E5ECF6\", \"width\": 0.5}}, \"type\": \"bar\"}], \"barpolar\": [{\"marker\": {\"line\": {\"color\": \"#E5ECF6\", \"width\": 0.5}}, \"type\": \"barpolar\"}], \"carpet\": [{\"aaxis\": {\"endlinecolor\": \"#2a3f5f\", \"gridcolor\": \"white\", \"linecolor\": \"white\", \"minorgridcolor\": \"white\", \"startlinecolor\": \"#2a3f5f\"}, \"baxis\": {\"endlinecolor\": \"#2a3f5f\", \"gridcolor\": \"white\", \"linecolor\": \"white\", \"minorgridcolor\": \"white\", \"startlinecolor\": \"#2a3f5f\"}, \"type\": \"carpet\"}], \"choropleth\": [{\"colorbar\": {\"outlinewidth\": 0, \"ticks\": \"\"}, \"type\": \"choropleth\"}], \"contour\": [{\"colorbar\": {\"outlinewidth\": 0, \"ticks\": \"\"}, \"colorscale\": [[0.0, \"#0d0887\"], [0.1111111111111111, \"#46039f\"], [0.2222222222222222, \"#7201a8\"], [0.3333333333333333, \"#9c179e\"], [0.4444444444444444, \"#bd3786\"], [0.5555555555555556, \"#d8576b\"], [0.6666666666666666, \"#ed7953\"], [0.7777777777777778, \"#fb9f3a\"], [0.8888888888888888, \"#fdca26\"], [1.0, \"#f0f921\"]], \"type\": \"contour\"}], \"contourcarpet\": [{\"colorbar\": {\"outlinewidth\": 0, \"ticks\": \"\"}, \"type\": \"contourcarpet\"}], \"heatmap\": [{\"colorbar\": {\"outlinewidth\": 0, \"ticks\": \"\"}, \"colorscale\": [[0.0, \"#0d0887\"], [0.1111111111111111, \"#46039f\"], [0.2222222222222222, \"#7201a8\"], [0.3333333333333333, \"#9c179e\"], [0.4444444444444444, \"#bd3786\"], [0.5555555555555556, \"#d8576b\"], [0.6666666666666666, \"#ed7953\"], [0.7777777777777778, \"#fb9f3a\"], [0.8888888888888888, \"#fdca26\"], [1.0, \"#f0f921\"]], \"type\": \"heatmap\"}], \"heatmapgl\": [{\"colorbar\": {\"outlinewidth\": 0, \"ticks\": \"\"}, \"colorscale\": [[0.0, \"#0d0887\"], [0.1111111111111111, \"#46039f\"], [0.2222222222222222, \"#7201a8\"], [0.3333333333333333, \"#9c179e\"], [0.4444444444444444, \"#bd3786\"], [0.5555555555555556, \"#d8576b\"], [0.6666666666666666, \"#ed7953\"], [0.7777777777777778, \"#fb9f3a\"], [0.8888888888888888, \"#fdca26\"], [1.0, \"#f0f921\"]], \"type\": \"heatmapgl\"}], \"histogram\": [{\"marker\": {\"colorbar\": {\"outlinewidth\": 0, \"ticks\": \"\"}}, \"type\": \"histogram\"}], \"histogram2d\": [{\"colorbar\": {\"outlinewidth\": 0, \"ticks\": \"\"}, \"colorscale\": [[0.0, \"#0d0887\"], [0.1111111111111111, \"#46039f\"], [0.2222222222222222, \"#7201a8\"], [0.3333333333333333, \"#9c179e\"], [0.4444444444444444, \"#bd3786\"], [0.5555555555555556, \"#d8576b\"], [0.6666666666666666, \"#ed7953\"], [0.7777777777777778, \"#fb9f3a\"], [0.8888888888888888, \"#fdca26\"], [1.0, \"#f0f921\"]], \"type\": \"histogram2d\"}], \"histogram2dcontour\": [{\"colorbar\": {\"outlinewidth\": 0, \"ticks\": \"\"}, \"colorscale\": [[0.0, \"#0d0887\"], [0.1111111111111111, \"#46039f\"], [0.2222222222222222, \"#7201a8\"], [0.3333333333333333, \"#9c179e\"], [0.4444444444444444, \"#bd3786\"], [0.5555555555555556, \"#d8576b\"], [0.6666666666666666, \"#ed7953\"], [0.7777777777777778, \"#fb9f3a\"], [0.8888888888888888, \"#fdca26\"], [1.0, \"#f0f921\"]], \"type\": \"histogram2dcontour\"}], \"mesh3d\": [{\"colorbar\": {\"outlinewidth\": 0, \"ticks\": \"\"}, \"type\": \"mesh3d\"}], \"parcoords\": [{\"line\": {\"colorbar\": {\"outlinewidth\": 0, \"ticks\": \"\"}}, \"type\": \"parcoords\"}], \"scatter\": [{\"marker\": {\"colorbar\": {\"outlinewidth\": 0, \"ticks\": \"\"}}, \"type\": \"scatter\"}], \"scatter3d\": [{\"line\": {\"colorbar\": {\"outlinewidth\": 0, \"ticks\": \"\"}}, \"marker\": {\"colorbar\": {\"outlinewidth\": 0, \"ticks\": \"\"}}, \"type\": \"scatter3d\"}], \"scattercarpet\": [{\"marker\": {\"colorbar\": {\"outlinewidth\": 0, \"ticks\": \"\"}}, \"type\": \"scattercarpet\"}], \"scattergeo\": [{\"marker\": {\"colorbar\": {\"outlinewidth\": 0, \"ticks\": \"\"}}, \"type\": \"scattergeo\"}], \"scattergl\": [{\"marker\": {\"colorbar\": {\"outlinewidth\": 0, \"ticks\": \"\"}}, \"type\": \"scattergl\"}], \"scattermapbox\": [{\"marker\": {\"colorbar\": {\"outlinewidth\": 0, \"ticks\": \"\"}}, \"type\": \"scattermapbox\"}], \"scatterpolar\": [{\"marker\": {\"colorbar\": {\"outlinewidth\": 0, \"ticks\": \"\"}}, \"type\": \"scatterpolar\"}], \"scatterpolargl\": [{\"marker\": {\"colorbar\": {\"outlinewidth\": 0, \"ticks\": \"\"}}, \"type\": \"scatterpolargl\"}], \"scatterternary\": [{\"marker\": {\"colorbar\": {\"outlinewidth\": 0, \"ticks\": \"\"}}, \"type\": \"scatterternary\"}], \"surface\": [{\"colorbar\": {\"outlinewidth\": 0, \"ticks\": \"\"}, \"colorscale\": [[0.0, \"#0d0887\"], [0.1111111111111111, \"#46039f\"], [0.2222222222222222, \"#7201a8\"], [0.3333333333333333, \"#9c179e\"], [0.4444444444444444, \"#bd3786\"], [0.5555555555555556, \"#d8576b\"], [0.6666666666666666, \"#ed7953\"], [0.7777777777777778, \"#fb9f3a\"], [0.8888888888888888, \"#fdca26\"], [1.0, \"#f0f921\"]], \"type\": \"surface\"}], \"table\": [{\"cells\": {\"fill\": {\"color\": \"#EBF0F8\"}, \"line\": {\"color\": \"white\"}}, \"header\": {\"fill\": {\"color\": \"#C8D4E3\"}, \"line\": {\"color\": \"white\"}}, \"type\": \"table\"}]}, \"layout\": {\"annotationdefaults\": {\"arrowcolor\": \"#2a3f5f\", \"arrowhead\": 0, \"arrowwidth\": 1}, \"colorscale\": {\"diverging\": [[0, \"#8e0152\"], [0.1, \"#c51b7d\"], [0.2, \"#de77ae\"], [0.3, \"#f1b6da\"], [0.4, \"#fde0ef\"], [0.5, \"#f7f7f7\"], [0.6, \"#e6f5d0\"], [0.7, \"#b8e186\"], [0.8, \"#7fbc41\"], [0.9, \"#4d9221\"], [1, \"#276419\"]], \"sequential\": [[0.0, \"#0d0887\"], [0.1111111111111111, \"#46039f\"], [0.2222222222222222, \"#7201a8\"], [0.3333333333333333, \"#9c179e\"], [0.4444444444444444, \"#bd3786\"], [0.5555555555555556, \"#d8576b\"], [0.6666666666666666, \"#ed7953\"], [0.7777777777777778, \"#fb9f3a\"], [0.8888888888888888, \"#fdca26\"], [1.0, \"#f0f921\"]], \"sequentialminus\": [[0.0, \"#0d0887\"], [0.1111111111111111, \"#46039f\"], [0.2222222222222222, \"#7201a8\"], [0.3333333333333333, \"#9c179e\"], [0.4444444444444444, \"#bd3786\"], [0.5555555555555556, \"#d8576b\"], [0.6666666666666666, \"#ed7953\"], [0.7777777777777778, \"#fb9f3a\"], [0.8888888888888888, \"#fdca26\"], [1.0, \"#f0f921\"]]}, \"colorway\": [\"#636efa\", \"#EF553B\", \"#00cc96\", \"#ab63fa\", \"#FFA15A\", \"#19d3f3\", \"#FF6692\", \"#B6E880\", \"#FF97FF\", \"#FECB52\"], \"font\": {\"color\": \"#2a3f5f\"}, \"geo\": {\"bgcolor\": \"white\", \"lakecolor\": \"white\", \"landcolor\": \"#E5ECF6\", \"showlakes\": true, \"showland\": true, \"subunitcolor\": \"white\"}, \"hoverlabel\": {\"align\": \"left\"}, \"hovermode\": \"closest\", \"mapbox\": {\"style\": \"light\"}, \"paper_bgcolor\": \"white\", \"plot_bgcolor\": \"#E5ECF6\", \"polar\": {\"angularaxis\": {\"gridcolor\": \"white\", \"linecolor\": \"white\", \"ticks\": \"\"}, \"bgcolor\": \"#E5ECF6\", \"radialaxis\": {\"gridcolor\": \"white\", \"linecolor\": \"white\", \"ticks\": \"\"}}, \"scene\": {\"xaxis\": {\"backgroundcolor\": \"#E5ECF6\", \"gridcolor\": \"white\", \"gridwidth\": 2, \"linecolor\": \"white\", \"showbackground\": true, \"ticks\": \"\", \"zerolinecolor\": \"white\"}, \"yaxis\": {\"backgroundcolor\": \"#E5ECF6\", \"gridcolor\": \"white\", \"gridwidth\": 2, \"linecolor\": \"white\", \"showbackground\": true, \"ticks\": \"\", \"zerolinecolor\": \"white\"}, \"zaxis\": {\"backgroundcolor\": \"#E5ECF6\", \"gridcolor\": \"white\", \"gridwidth\": 2, \"linecolor\": \"white\", \"showbackground\": true, \"ticks\": \"\", \"zerolinecolor\": \"white\"}}, \"shapedefaults\": {\"line\": {\"color\": \"#2a3f5f\"}}, \"ternary\": {\"aaxis\": {\"gridcolor\": \"white\", \"linecolor\": \"white\", \"ticks\": \"\"}, \"baxis\": {\"gridcolor\": \"white\", \"linecolor\": \"white\", \"ticks\": \"\"}, \"bgcolor\": \"#E5ECF6\", \"caxis\": {\"gridcolor\": \"white\", \"linecolor\": \"white\", \"ticks\": \"\"}}, \"title\": {\"x\": 0.05}, \"xaxis\": {\"automargin\": true, \"gridcolor\": \"white\", \"linecolor\": \"white\", \"ticks\": \"\", \"zerolinecolor\": \"white\", \"zerolinewidth\": 2}, \"yaxis\": {\"automargin\": true, \"gridcolor\": \"white\", \"linecolor\": \"white\", \"ticks\": \"\", \"zerolinecolor\": \"white\", \"zerolinewidth\": 2}}}, \"title\": {\"text\": \"PDF\", \"x\": 0.5, \"xanchor\": \"center\", \"y\": 0.9, \"yanchor\": \"top\"}, \"width\": 500, \"xaxis\": {\"anchor\": \"y2\", \"domain\": [0.0, 1.0], \"title\": {\"text\": \"Length of a headline\"}, \"zeroline\": false}, \"yaxis\": {\"anchor\": \"free\", \"domain\": [0.0, 1], \"position\": 0.0, \"title\": {\"text\": \"probability\"}}},\n",
              "                        {\"responsive\": true}\n",
              "                    ).then(function(){\n",
              "                            \n",
              "var gd = document.getElementById('7894b677-a0a2-4aa9-b417-503cbe6c5f2f');\n",
              "var x = new MutationObserver(function (mutations, observer) {{\n",
              "        var display = window.getComputedStyle(gd).display;\n",
              "        if (!display || display === 'none') {{\n",
              "            console.log([gd, 'removed!']);\n",
              "            Plotly.purge(gd);\n",
              "            observer.disconnect();\n",
              "        }}\n",
              "}});\n",
              "\n",
              "// Listen for the removal of the full notebook cells\n",
              "var notebookContainer = gd.closest('#notebook-container');\n",
              "if (notebookContainer) {{\n",
              "    x.observe(notebookContainer, {childList: true});\n",
              "}}\n",
              "\n",
              "// Listen for the clearing of the current output cell\n",
              "var outputEl = gd.closest('.output');\n",
              "if (outputEl) {{\n",
              "    x.observe(outputEl, {childList: true});\n",
              "}}\n",
              "\n",
              "                        })\n",
              "                };\n",
              "                });\n",
              "            </script>\n",
              "        </div>"
            ]
          },
          "metadata": {
            "tags": []
          }
        }
      ]
    },
    {
      "cell_type": "markdown",
      "metadata": {
        "id": "x9X_SafgCBFM",
        "colab_type": "text"
      },
      "source": [
        "The probability distribution function of headline length is almost similar to a **Guassian distribution**, where most of the headlines are 58 to 80 words long in length. "
      ]
    },
    {
      "cell_type": "markdown",
      "metadata": {
        "id": "ldkCkKdYCBFN",
        "colab_type": "text"
      },
      "source": [
        "By Data processing in Step 2, we get a subset of original dataset which has different index labels so let's make the indices uniform ranging from 0 to total number of articles. "
      ]
    },
    {
      "cell_type": "code",
      "metadata": {
        "id": "X2v-jjowCBFN",
        "colab_type": "code",
        "colab": {}
      },
      "source": [
        "news_articles.index = range(news_articles.shape[0])"
      ],
      "execution_count": null,
      "outputs": []
    },
    {
      "cell_type": "code",
      "metadata": {
        "id": "_6wXr_KOCBFP",
        "colab_type": "code",
        "colab": {}
      },
      "source": [
        "# Adding a new column containing both day of the week and month, it will be required later while recommending based on day of the week and month\n",
        "news_articles[\"day and month\"] = news_articles[\"date\"].dt.strftime(\"%a\") + \"_\" + news_articles[\"date\"].dt.strftime(\"%b\")"
      ],
      "execution_count": null,
      "outputs": []
    },
    {
      "cell_type": "markdown",
      "metadata": {
        "id": "Cb97hva1CBFQ",
        "colab_type": "text"
      },
      "source": [
        "Since after text preprocessing the original headlines will be modified and it doesn't make sense to recommend articles by displaying modified headlines so let's copy the dataset into some other dataset and perform text preprocessing on the later."
      ]
    },
    {
      "cell_type": "code",
      "metadata": {
        "id": "-YR1tw1SCBFR",
        "colab_type": "code",
        "colab": {}
      },
      "source": [
        "news_articles_temp = news_articles.copy()"
      ],
      "execution_count": null,
      "outputs": []
    },
    {
      "cell_type": "markdown",
      "metadata": {
        "id": "r2Tq53iqCBFT",
        "colab_type": "text"
      },
      "source": [
        "## 5. Text Preprocessing"
      ]
    },
    {
      "cell_type": "markdown",
      "metadata": {
        "id": "UNNJvzPNCBFU",
        "colab_type": "text"
      },
      "source": [
        "### 5.a Stopwords removal"
      ]
    },
    {
      "cell_type": "markdown",
      "metadata": {
        "id": "7uE7BQHzCBFU",
        "colab_type": "text"
      },
      "source": [
        "Stop words are not much helpful in analyis and also their inclusion consumes much time during processing so let's remove these. "
      ]
    },
    {
      "cell_type": "code",
      "metadata": {
        "id": "zNW2Q3-_CBFU",
        "colab_type": "code",
        "colab": {}
      },
      "source": [
        "stop_words = set(stopwords.words('english'))"
      ],
      "execution_count": null,
      "outputs": []
    },
    {
      "cell_type": "code",
      "metadata": {
        "id": "MgUTXG4kCBFW",
        "colab_type": "code",
        "colab": {},
        "outputId": "ea9997e2-13a4-40d1-a690-5f78230591d3"
      },
      "source": [
        "for i in range(len(news_articles_temp[\"headline\"])):\n",
        "    string = \"\"\n",
        "    for word in news_articles_temp[\"headline\"][i].split():\n",
        "        word = (\"\".join(e for e in word if e.isalnum()))\n",
        "        word = word.lower()\n",
        "        if not word in stop_words:\n",
        "          string += word + \" \"  \n",
        "    if(i%1000==0):\n",
        "      print(i)           # To track number of records processed\n",
        "    news_articles_temp.at[i,\"headline\"] = string.strip()"
      ],
      "execution_count": null,
      "outputs": [
        {
          "output_type": "stream",
          "text": [
            "0\n",
            "1000\n",
            "2000\n",
            "3000\n",
            "4000\n",
            "5000\n",
            "6000\n",
            "7000\n",
            "8000\n"
          ],
          "name": "stdout"
        }
      ]
    },
    {
      "cell_type": "markdown",
      "metadata": {
        "id": "5mi1gEoCCBFa",
        "colab_type": "text"
      },
      "source": [
        "### 5.b Lemmatization"
      ]
    },
    {
      "cell_type": "markdown",
      "metadata": {
        "id": "OSUQDJchCBFa",
        "colab_type": "text"
      },
      "source": [
        "Let's find the base form(lemma) of words to consider different inflections of a word same as lemma."
      ]
    },
    {
      "cell_type": "code",
      "metadata": {
        "id": "-X4NZedaCBFb",
        "colab_type": "code",
        "colab": {}
      },
      "source": [
        "lemmatizer = WordNetLemmatizer()"
      ],
      "execution_count": null,
      "outputs": []
    },
    {
      "cell_type": "code",
      "metadata": {
        "id": "TMzTHkTWCBFd",
        "colab_type": "code",
        "colab": {},
        "outputId": "839de9bb-b3e5-46e1-db46-06c433bca421"
      },
      "source": [
        "for i in range(len(news_articles_temp[\"headline\"])):\n",
        "    string = \"\"\n",
        "    for w in word_tokenize(news_articles_temp[\"headline\"][i]):\n",
        "        string += lemmatizer.lemmatize(w,pos = \"v\") + \" \"\n",
        "    news_articles_temp.at[i, \"headline\"] = string.strip()\n",
        "    if(i%1000==0):\n",
        "        print(i)           # To track number of records processed"
      ],
      "execution_count": null,
      "outputs": [
        {
          "output_type": "stream",
          "text": [
            "0\n",
            "1000\n",
            "2000\n",
            "3000\n",
            "4000\n",
            "5000\n",
            "6000\n",
            "7000\n",
            "8000\n"
          ],
          "name": "stdout"
        }
      ]
    },
    {
      "cell_type": "markdown",
      "metadata": {
        "id": "tQDazwMcCBFf",
        "colab_type": "text"
      },
      "source": [
        "Generally, we assess **similarity** based on **distance**. If the **distance** is minimum then high **similarity** and if it is maximum then low **similarity**.\n",
        "To calculate the **distance**, we need to represent the headline as a **d-dimensional** vector. Then we can find out the **similarity** based on the **distance** between vectors.\n",
        "\n",
        "There are multiple methods to represent a **text** as **d-dimensional** vector like **Bag of words**, **TF-IDF method**, **Word2Vec embedding** etc. Each method has its own advantages and disadvantages. \n"
      ]
    }
  ]
}