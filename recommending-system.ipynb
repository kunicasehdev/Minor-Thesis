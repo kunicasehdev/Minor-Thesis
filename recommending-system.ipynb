{
 "cells": [
  {
   "cell_type": "markdown",
   "metadata": {},
   "source": [
    "## Preface"
   ]
  },
  {
   "cell_type": "markdown",
   "metadata": {},
   "source": [
    "Due to easy availibilty of enormous items(services) on your favourite online platforms like *e-commerce*, *job portal*, *food delivery*, *music or video streaming*, it is very hard and time consuming to find out the desired item of your choice quickly. These platforms could help you by **recommending** items as per your interest and preference by just analyzing your past interaction or behaviour with the system.  \n",
    "\n",
    "From **Amazon** to **Linkedin**, **Uber eats** to **Spotify**, **Netflix** to **Facebook**, **Recommender systems** are most extensively used to suggest \"Similar items\", \"Relevant jobs\", \"preferred foods\", \"Movies of interest\" etc to their users. \n",
    "\n",
    "**Recommender system** with appropiate item suggestions helps in boosting sales, increasing revenue, retaining customers and also adds competitive advantage. \n",
    "There are basically two kind of **recommendation** methods.\n",
    "1. **Content based recommendation**\n",
    "2. **Collaborative filtering**"
   ]
  },
  {
   "cell_type": "markdown",
   "metadata": {},
   "source": [
    "**Content based recommendation ** is based on similarity among users/items obtained through their **attributes**. It uses the additional information(meta data) about the **users** or **items** i.e. it relies on what kind of **content** is already available. This meta data could be **user's demograpic information** like *age*, *gender*, *job*, *location*, *skillsets* etc. Similarly for **items** it can be *item name*, *specifications*, *category*, *registration date* etc.\n",
    "\n",
    "So the core idea is to recommend items by finding similar items/users to the concerned **item/user** based on their **attributes**. \n",
    "\n",
    "In this kernel, I am going to discuss about **Content based recommendation** using **News category** dataset. The goal is to recommend **news articles** which are similar to the already read article by using attributes like article *headline*, *category*, *author* and *publishing date*.\n",
    "\n",
    "So let's get started without any further delay."
   ]
  },
  {
   "cell_type": "markdown",
   "metadata": {},
   "source": [
    "## Notebook - Table of Content"
   ]
  },
  {
   "cell_type": "markdown",
   "metadata": {},
   "source": [
    "1. [**Importing necessary Libraries**](# 1.-Importing-necessary-Libraries)   \n",
    "2. [**Loading Data**](#2.-Loading-Data)  \n",
    "3. [**Data Preprocessing**](#3.-Data-Preprocessing)  \n",
    "    3.a [**Fetching only the articles from 2018**](#3.a-Fetching-only-the-articles-from-2018)  \n",
    "    3.b [**Removing all the short headline articles**](#3.b-Removing-all-the-short-headline-articles)  \n",
    "    3.c [**Checking and removing all the duplicates**](#3.c-Checking-and-removing-all-the-duplicates)  \n",
    "    3.d [**Checking for missing values**](#3.d-Checking-for-missing-values)  \n",
    "4. [**Basic Data Exploration**](#4.-Basic-Data-Exploration)  \n",
    "    4.a [**Basic statistics - Number of articles,authors,categories**](#4.a-Basic-statistics---Number-of-articles,authors,categories)  \n",
    "    4.b [**Distribution of articles category-wise**](#4.b-Distribution-of-articles-category-wise)  \n",
    "    4.c [**Number of articles per month**](#4.c-Number-of-articles-per-month)   \n",
    "    4.d [**PDF for length of headlines**](#4.d-PDF-for-length-of-headlines)\n",
    "5. [**Text Preprocessing**](#5.-Text-Preprocessing)  \n",
    "    5.a [**Stopwords removal**](#5.a-Stopwords-removal)  \n",
    "    5.b [**Lemmatization**](#5.b-Lemmatization)  \n",
    "6. [**Headline based similarity on new articles**](#6.-Headline-based-similarity-on-new-articles)  \n",
    "    6.a [**Using Bag of Words method**](#6.a-Using-Bag-of-Words method)  \n",
    "    6.b [**Using TF-IDF method**](#6.b-Using-TF-IDF-method)  \n",
    "    6.c [**Using Word2Vec embedding**](#6.c-Using-Word2Vec-embedding)   \n",
    "    6.d [**Weighted similarity based on headline and category**](#6.d-Weighted-similarity-based-on-headline-and-category)  \n",
    "    6.e [**Weighted similarity based on headline, category and author**](#6.e-Weighted-similarity-based-on-headline,-category-and-author)  \n",
    "    6.f [**Weighted similarity based on headline, category, author and publishing day**](#6.f-Weighted-similarity-based-on-headline,-category,-author-and-publishing-day)  \n",
    " "
   ]
  },
  {
   "cell_type": "markdown",
   "metadata": {},
   "source": [
    "## 1. Importing necessary Libraries"
   ]
  },
  {
   "cell_type": "code",
   "execution_count": 1,
   "metadata": {},
   "outputs": [],
   "source": [
    "import numpy as np\n",
    "import pandas as pd\n",
    "\n",
    "import os\n",
    "import math\n",
    "import time\n",
    "\n",
    "import matplotlib.pyplot as plt\n",
    "import seaborn as sns\n",
    "import plotly.figure_factory as ff\n",
    "import plotly.graph_objects as go\n",
    "import plotly.express as px\n",
    "\n",
    "# Below libraries are for text processing using NLTK\n",
    "from nltk.corpus import stopwords\n",
    "from nltk.tokenize import word_tokenize\n",
    "from nltk.stem import WordNetLemmatizer\n",
    "\n",
    "# Below libraries are for feature representation using sklearn\n",
    "from sklearn.feature_extraction.text import CountVectorizer\n",
    "from sklearn.feature_extraction.text import TfidfVectorizer\n",
    "\n",
    "# Below libraries are for similarity matrices using sklearn\n",
    "from sklearn.metrics.pairwise import cosine_similarity  \n",
    "from sklearn.metrics import pairwise_distances"
   ]
  },
  {
   "cell_type": "markdown",
   "metadata": {},
   "source": [
    "## 2. Loading Data"
   ]
  },
  {
   "cell_type": "code",
   "execution_count": 2,
   "metadata": {},
   "outputs": [],
   "source": [
    "news_articles = pd.read_json(\"/kaggle/input/news-category-dataset/News_Category_Dataset_v2.json\", lines = True)"
   ]
  },
  {
   "cell_type": "code",
   "execution_count": 3,
   "metadata": {},
   "outputs": [
    {
     "name": "stdout",
     "output_type": "stream",
     "text": [
      "<class 'pandas.core.frame.DataFrame'>\n",
      "RangeIndex: 200853 entries, 0 to 200852\n",
      "Data columns (total 6 columns):\n",
      "category             200853 non-null object\n",
      "headline             200853 non-null object\n",
      "authors              200853 non-null object\n",
      "link                 200853 non-null object\n",
      "short_description    200853 non-null object\n",
      "date                 200853 non-null datetime64[ns]\n",
      "dtypes: datetime64[ns](1), object(5)\n",
      "memory usage: 9.2+ MB\n"
     ]
    }
   ],
   "source": [
    "news_articles.info()"
   ]
  },
  {
   "cell_type": "markdown",
   "metadata": {},
   "source": [
    "The dataset contains about two million records of six different features. "
   ]
  },
  {
   "cell_type": "code",
   "execution_count": 4,
   "metadata": {},
   "outputs": [
    {
     "data": {
      "text/html": [
       "<div>\n",
       "<style scoped>\n",
       "    .dataframe tbody tr th:only-of-type {\n",
       "        vertical-align: middle;\n",
       "    }\n",
       "\n",
       "    .dataframe tbody tr th {\n",
       "        vertical-align: top;\n",
       "    }\n",
       "\n",
       "    .dataframe thead th {\n",
       "        text-align: right;\n",
       "    }\n",
       "</style>\n",
       "<table border=\"1\" class=\"dataframe\">\n",
       "  <thead>\n",
       "    <tr style=\"text-align: right;\">\n",
       "      <th></th>\n",
       "      <th>category</th>\n",
       "      <th>headline</th>\n",
       "      <th>authors</th>\n",
       "      <th>link</th>\n",
       "      <th>short_description</th>\n",
       "      <th>date</th>\n",
       "    </tr>\n",
       "  </thead>\n",
       "  <tbody>\n",
       "    <tr>\n",
       "      <th>0</th>\n",
       "      <td>CRIME</td>\n",
       "      <td>There Were 2 Mass Shootings In Texas Last Week...</td>\n",
       "      <td>Melissa Jeltsen</td>\n",
       "      <td>https://www.huffingtonpost.com/entry/texas-ama...</td>\n",
       "      <td>She left her husband. He killed their children...</td>\n",
       "      <td>2018-05-26</td>\n",
       "    </tr>\n",
       "    <tr>\n",
       "      <th>1</th>\n",
       "      <td>ENTERTAINMENT</td>\n",
       "      <td>Will Smith Joins Diplo And Nicky Jam For The 2...</td>\n",
       "      <td>Andy McDonald</td>\n",
       "      <td>https://www.huffingtonpost.com/entry/will-smit...</td>\n",
       "      <td>Of course it has a song.</td>\n",
       "      <td>2018-05-26</td>\n",
       "    </tr>\n",
       "    <tr>\n",
       "      <th>2</th>\n",
       "      <td>ENTERTAINMENT</td>\n",
       "      <td>Hugh Grant Marries For The First Time At Age 57</td>\n",
       "      <td>Ron Dicker</td>\n",
       "      <td>https://www.huffingtonpost.com/entry/hugh-gran...</td>\n",
       "      <td>The actor and his longtime girlfriend Anna Ebe...</td>\n",
       "      <td>2018-05-26</td>\n",
       "    </tr>\n",
       "    <tr>\n",
       "      <th>3</th>\n",
       "      <td>ENTERTAINMENT</td>\n",
       "      <td>Jim Carrey Blasts 'Castrato' Adam Schiff And D...</td>\n",
       "      <td>Ron Dicker</td>\n",
       "      <td>https://www.huffingtonpost.com/entry/jim-carre...</td>\n",
       "      <td>The actor gives Dems an ass-kicking for not fi...</td>\n",
       "      <td>2018-05-26</td>\n",
       "    </tr>\n",
       "    <tr>\n",
       "      <th>4</th>\n",
       "      <td>ENTERTAINMENT</td>\n",
       "      <td>Julianna Margulies Uses Donald Trump Poop Bags...</td>\n",
       "      <td>Ron Dicker</td>\n",
       "      <td>https://www.huffingtonpost.com/entry/julianna-...</td>\n",
       "      <td>The \"Dietland\" actress said using the bags is ...</td>\n",
       "      <td>2018-05-26</td>\n",
       "    </tr>\n",
       "  </tbody>\n",
       "</table>\n",
       "</div>"
      ],
      "text/plain": [
       "        category                                           headline  \\\n",
       "0          CRIME  There Were 2 Mass Shootings In Texas Last Week...   \n",
       "1  ENTERTAINMENT  Will Smith Joins Diplo And Nicky Jam For The 2...   \n",
       "2  ENTERTAINMENT    Hugh Grant Marries For The First Time At Age 57   \n",
       "3  ENTERTAINMENT  Jim Carrey Blasts 'Castrato' Adam Schiff And D...   \n",
       "4  ENTERTAINMENT  Julianna Margulies Uses Donald Trump Poop Bags...   \n",
       "\n",
       "           authors                                               link  \\\n",
       "0  Melissa Jeltsen  https://www.huffingtonpost.com/entry/texas-ama...   \n",
       "1    Andy McDonald  https://www.huffingtonpost.com/entry/will-smit...   \n",
       "2       Ron Dicker  https://www.huffingtonpost.com/entry/hugh-gran...   \n",
       "3       Ron Dicker  https://www.huffingtonpost.com/entry/jim-carre...   \n",
       "4       Ron Dicker  https://www.huffingtonpost.com/entry/julianna-...   \n",
       "\n",
       "                                   short_description       date  \n",
       "0  She left her husband. He killed their children... 2018-05-26  \n",
       "1                           Of course it has a song. 2018-05-26  \n",
       "2  The actor and his longtime girlfriend Anna Ebe... 2018-05-26  \n",
       "3  The actor gives Dems an ass-kicking for not fi... 2018-05-26  \n",
       "4  The \"Dietland\" actress said using the bags is ... 2018-05-26  "
      ]
     },
     "execution_count": 4,
     "metadata": {},
     "output_type": "execute_result"
    }
   ],
   "source": [
    "news_articles.head()"
   ]
  },
  {
   "cell_type": "markdown",
   "metadata": {},
   "source": [
    "## 3. Data Preprocessing"
   ]
  },
  {
   "cell_type": "markdown",
   "metadata": {},
   "source": [
    "### 3.a Fetching only the articles from 2018  "
   ]
  },
  {
   "cell_type": "markdown",
   "metadata": {},
   "source": [
    "Since the dataset size is quite large so processing through entire dataset may consume too much time. To refrain from this, we are only considering the latest articles from the year 2018. "
   ]
  },
  {
   "cell_type": "code",
   "execution_count": 5,
   "metadata": {},
   "outputs": [],
   "source": [
    "news_articles = news_articles[news_articles['date'] >= pd.Timestamp(2018,1,1)]"
   ]
  },
  {
   "cell_type": "code",
   "execution_count": 6,
   "metadata": {},
   "outputs": [
    {
     "data": {
      "text/plain": [
       "(8583, 6)"
      ]
     },
     "execution_count": 6,
     "metadata": {},
     "output_type": "execute_result"
    }
   ],
   "source": [
    "news_articles.shape"
   ]
  },
  {
   "cell_type": "markdown",
   "metadata": {},
   "source": [
    "Now, the number of news articles comes down to 8583."
   ]
  },
  {
   "cell_type": "markdown",
   "metadata": {},
   "source": [
    "### 3.b Removing all the short headline articles "
   ]
  },
  {
   "cell_type": "markdown",
   "metadata": {},
   "source": [
    "After stop words removal from headline, the articles with very short headline may become blank headline articles. So let's remove all the articles with less words(<5) in the headline.   "
   ]
  },
  {
   "cell_type": "code",
   "execution_count": 7,
   "metadata": {},
   "outputs": [
    {
     "name": "stdout",
     "output_type": "stream",
     "text": [
      "Total number of articles after removal of headlines with short title: 8530\n"
     ]
    }
   ],
   "source": [
    "news_articles = news_articles[news_articles['headline'].apply(lambda x: len(x.split())>5)]\n",
    "print(\"Total number of articles after removal of headlines with short title:\", news_articles.shape[0])"
   ]
  },
  {
   "cell_type": "markdown",
   "metadata": {},
   "source": [
    "### 3.c Checking and removing all the duplicates"
   ]
  },
  {
   "cell_type": "markdown",
   "metadata": {},
   "source": [
    "Since some articles are exactly same in headlines, so let's remove all such articles having duplicate headline appearance."
   ]
  },
  {
   "cell_type": "code",
   "execution_count": 8,
   "metadata": {},
   "outputs": [
    {
     "name": "stdout",
     "output_type": "stream",
     "text": [
      "Total number of articles after removing duplicates: 8485\n"
     ]
    }
   ],
   "source": [
    "news_articles.sort_values('headline',inplace=True, ascending=False)\n",
    "duplicated_articles_series = news_articles.duplicated('headline', keep = False)\n",
    "news_articles = news_articles[~duplicated_articles_series]\n",
    "print(\"Total number of articles after removing duplicates:\", news_articles.shape[0])"
   ]
  },
  {
   "cell_type": "markdown",
   "metadata": {},
   "source": [
    "### 3.d Checking for missing values"
   ]
  },
  {
   "cell_type": "code",
   "execution_count": 9,
   "metadata": {},
   "outputs": [
    {
     "data": {
      "text/plain": [
       "category             0\n",
       "headline             0\n",
       "authors              0\n",
       "link                 0\n",
       "short_description    0\n",
       "date                 0\n",
       "dtype: int64"
      ]
     },
     "execution_count": 9,
     "metadata": {},
     "output_type": "execute_result"
    }
   ],
   "source": [
    "news_articles.isna().sum()"
   ]
  },
  {
   "cell_type": "markdown",
   "metadata": {},
   "source": [
    "## 4. Basic Data Exploration "
   ]
  },
  {
   "cell_type": "markdown",
   "metadata": {},
   "source": [
    "### 4.a Basic statistics - Number of articles,authors,categories"
   ]
  },
  {
   "cell_type": "code",
   "execution_count": 10,
   "metadata": {},
   "outputs": [
    {
     "name": "stdout",
     "output_type": "stream",
     "text": [
      "Total number of articles :  8485\n",
      "Total number of authors :  892\n",
      "Total number of unqiue categories :  26\n"
     ]
    }
   ],
   "source": [
    "print(\"Total number of articles : \", news_articles.shape[0])\n",
    "print(\"Total number of authors : \", news_articles[\"authors\"].nunique())\n",
    "print(\"Total number of unqiue categories : \", news_articles[\"category\"].nunique())"
   ]
  },
  {
   "cell_type": "markdown",
   "metadata": {},
   "source": [
    "### 4.b Distribution of articles category-wise"
   ]
  },
  {
   "cell_type": "code",
   "execution_count": 11,
   "metadata": {},
   "outputs": [
    {
     "data": {
      "text/html": [
       "        <script type=\"text/javascript\">\n",
       "        window.PlotlyConfig = {MathJaxConfig: 'local'};\n",
       "        if (window.MathJax) {MathJax.Hub.Config({SVG: {font: \"STIX-Web\"}});}\n",
       "        if (typeof require !== 'undefined') {\n",
       "        require.undef(\"plotly\");\n",
       "        requirejs.config({\n",
       "            paths: {\n",
       "                'plotly': ['https://cdn.plot.ly/plotly-latest.min']\n",
       "            }\n",
       "        });\n",
       "        require(['plotly'], function(Plotly) {\n",
       "            window._Plotly = Plotly;\n",
       "        });\n",
       "        }\n",
       "        </script>\n",
       "        "
      ]
     },
     "metadata": {},
     "output_type": "display_data"
    },
    {
     "data": {
      "text/html": [
       "<div>\n",
       "        \n",
       "        \n",
       "            <div id=\"7e18ee9b-7b17-4faa-aad8-b82b1bd91667\" class=\"plotly-graph-div\" style=\"height:700px; width:800px;\"></div>\n",
       "            <script type=\"text/javascript\">\n",
       "                require([\"plotly\"], function(Plotly) {\n",
       "                    window.PLOTLYENV=window.PLOTLYENV || {};\n",
       "                    \n",
       "                if (document.getElementById(\"7e18ee9b-7b17-4faa-aad8-b82b1bd91667\")) {\n",
       "                    Plotly.newPlot(\n",
       "                        '7e18ee9b-7b17-4faa-aad8-b82b1bd91667',\n",
       "                        [{\"type\": \"bar\", \"x\": [\"POLITICS\", \"ENTERTAINMENT\", \"WORLD NEWS\", \"QUEER VOICES\", \"COMEDY\", \"BLACK VOICES\", \"SPORTS\", \"MEDIA\", \"WOMEN\", \"WEIRD NEWS\", \"CRIME\", \"BUSINESS\", \"LATINO VOICES\", \"IMPACT\", \"TRAVEL\", \"RELIGION\", \"TECH\", \"SCIENCE\", \"STYLE\", \"PARENTS\", \"EDUCATION\", \"GREEN\", \"HEALTHY LIVING\", \"ARTS & CULTURE\", \"TASTE\", \"COLLEGE\"], \"y\": [3042, 1699, 557, 451, 443, 406, 364, 290, 226, 205, 170, 85, 83, 73, 72, 63, 53, 40, 34, 32, 31, 28, 15, 13, 9, 1]}],\n",
       "                        {\"height\": 700, \"template\": {\"data\": {\"bar\": [{\"error_x\": {\"color\": \"#2a3f5f\"}, \"error_y\": {\"color\": \"#2a3f5f\"}, \"marker\": {\"line\": {\"color\": \"#E5ECF6\", \"width\": 0.5}}, \"type\": \"bar\"}], \"barpolar\": [{\"marker\": {\"line\": {\"color\": \"#E5ECF6\", \"width\": 0.5}}, \"type\": \"barpolar\"}], \"carpet\": [{\"aaxis\": {\"endlinecolor\": \"#2a3f5f\", \"gridcolor\": \"white\", \"linecolor\": \"white\", \"minorgridcolor\": \"white\", \"startlinecolor\": \"#2a3f5f\"}, \"baxis\": {\"endlinecolor\": \"#2a3f5f\", \"gridcolor\": \"white\", \"linecolor\": \"white\", \"minorgridcolor\": \"white\", \"startlinecolor\": \"#2a3f5f\"}, \"type\": \"carpet\"}], \"choropleth\": [{\"colorbar\": {\"outlinewidth\": 0, \"ticks\": \"\"}, \"type\": \"choropleth\"}], \"contour\": [{\"colorbar\": {\"outlinewidth\": 0, \"ticks\": \"\"}, \"colorscale\": [[0.0, \"#0d0887\"], [0.1111111111111111, \"#46039f\"], [0.2222222222222222, \"#7201a8\"], [0.3333333333333333, \"#9c179e\"], [0.4444444444444444, \"#bd3786\"], [0.5555555555555556, \"#d8576b\"], [0.6666666666666666, \"#ed7953\"], [0.7777777777777778, \"#fb9f3a\"], [0.8888888888888888, \"#fdca26\"], [1.0, \"#f0f921\"]], \"type\": \"contour\"}], \"contourcarpet\": [{\"colorbar\": {\"outlinewidth\": 0, \"ticks\": \"\"}, \"type\": \"contourcarpet\"}], \"heatmap\": [{\"colorbar\": {\"outlinewidth\": 0, \"ticks\": \"\"}, \"colorscale\": [[0.0, \"#0d0887\"], [0.1111111111111111, \"#46039f\"], [0.2222222222222222, \"#7201a8\"], [0.3333333333333333, \"#9c179e\"], [0.4444444444444444, \"#bd3786\"], [0.5555555555555556, \"#d8576b\"], [0.6666666666666666, \"#ed7953\"], [0.7777777777777778, \"#fb9f3a\"], [0.8888888888888888, \"#fdca26\"], [1.0, \"#f0f921\"]], \"type\": \"heatmap\"}], \"heatmapgl\": [{\"colorbar\": {\"outlinewidth\": 0, \"ticks\": \"\"}, \"colorscale\": [[0.0, \"#0d0887\"], [0.1111111111111111, \"#46039f\"], [0.2222222222222222, \"#7201a8\"], [0.3333333333333333, \"#9c179e\"], [0.4444444444444444, \"#bd3786\"], [0.5555555555555556, \"#d8576b\"], [0.6666666666666666, \"#ed7953\"], [0.7777777777777778, \"#fb9f3a\"], [0.8888888888888888, \"#fdca26\"], [1.0, \"#f0f921\"]], \"type\": \"heatmapgl\"}], \"histogram\": [{\"marker\": {\"colorbar\": {\"outlinewidth\": 0, \"ticks\": \"\"}}, \"type\": \"histogram\"}], \"histogram2d\": [{\"colorbar\": {\"outlinewidth\": 0, \"ticks\": \"\"}, \"colorscale\": [[0.0, \"#0d0887\"], [0.1111111111111111, \"#46039f\"], [0.2222222222222222, \"#7201a8\"], [0.3333333333333333, \"#9c179e\"], [0.4444444444444444, \"#bd3786\"], [0.5555555555555556, \"#d8576b\"], [0.6666666666666666, \"#ed7953\"], [0.7777777777777778, \"#fb9f3a\"], [0.8888888888888888, \"#fdca26\"], [1.0, \"#f0f921\"]], \"type\": \"histogram2d\"}], \"histogram2dcontour\": [{\"colorbar\": {\"outlinewidth\": 0, \"ticks\": \"\"}, \"colorscale\": [[0.0, \"#0d0887\"], [0.1111111111111111, \"#46039f\"], [0.2222222222222222, \"#7201a8\"], [0.3333333333333333, \"#9c179e\"], [0.4444444444444444, \"#bd3786\"], [0.5555555555555556, \"#d8576b\"], [0.6666666666666666, \"#ed7953\"], [0.7777777777777778, \"#fb9f3a\"], [0.8888888888888888, \"#fdca26\"], [1.0, \"#f0f921\"]], \"type\": \"histogram2dcontour\"}], \"mesh3d\": [{\"colorbar\": {\"outlinewidth\": 0, \"ticks\": \"\"}, \"type\": \"mesh3d\"}], \"parcoords\": [{\"line\": {\"colorbar\": {\"outlinewidth\": 0, \"ticks\": \"\"}}, \"type\": \"parcoords\"}], \"scatter\": [{\"marker\": {\"colorbar\": {\"outlinewidth\": 0, \"ticks\": \"\"}}, \"type\": \"scatter\"}], \"scatter3d\": [{\"line\": {\"colorbar\": {\"outlinewidth\": 0, \"ticks\": \"\"}}, \"marker\": {\"colorbar\": {\"outlinewidth\": 0, \"ticks\": \"\"}}, \"type\": \"scatter3d\"}], \"scattercarpet\": [{\"marker\": {\"colorbar\": {\"outlinewidth\": 0, \"ticks\": \"\"}}, \"type\": \"scattercarpet\"}], \"scattergeo\": [{\"marker\": {\"colorbar\": {\"outlinewidth\": 0, \"ticks\": \"\"}}, \"type\": \"scattergeo\"}], \"scattergl\": [{\"marker\": {\"colorbar\": {\"outlinewidth\": 0, \"ticks\": \"\"}}, \"type\": \"scattergl\"}], \"scattermapbox\": [{\"marker\": {\"colorbar\": {\"outlinewidth\": 0, \"ticks\": \"\"}}, \"type\": \"scattermapbox\"}], \"scatterpolar\": [{\"marker\": {\"colorbar\": {\"outlinewidth\": 0, \"ticks\": \"\"}}, \"type\": \"scatterpolar\"}], \"scatterpolargl\": [{\"marker\": {\"colorbar\": {\"outlinewidth\": 0, \"ticks\": \"\"}}, \"type\": \"scatterpolargl\"}], \"scatterternary\": [{\"marker\": {\"colorbar\": {\"outlinewidth\": 0, \"ticks\": \"\"}}, \"type\": \"scatterternary\"}], \"surface\": [{\"colorbar\": {\"outlinewidth\": 0, \"ticks\": \"\"}, \"colorscale\": [[0.0, \"#0d0887\"], [0.1111111111111111, \"#46039f\"], [0.2222222222222222, \"#7201a8\"], [0.3333333333333333, \"#9c179e\"], [0.4444444444444444, \"#bd3786\"], [0.5555555555555556, \"#d8576b\"], [0.6666666666666666, \"#ed7953\"], [0.7777777777777778, \"#fb9f3a\"], [0.8888888888888888, \"#fdca26\"], [1.0, \"#f0f921\"]], \"type\": \"surface\"}], \"table\": [{\"cells\": {\"fill\": {\"color\": \"#EBF0F8\"}, \"line\": {\"color\": \"white\"}}, \"header\": {\"fill\": {\"color\": \"#C8D4E3\"}, \"line\": {\"color\": \"white\"}}, \"type\": \"table\"}]}, \"layout\": {\"annotationdefaults\": {\"arrowcolor\": \"#2a3f5f\", \"arrowhead\": 0, \"arrowwidth\": 1}, \"colorscale\": {\"diverging\": [[0, \"#8e0152\"], [0.1, \"#c51b7d\"], [0.2, \"#de77ae\"], [0.3, \"#f1b6da\"], [0.4, \"#fde0ef\"], [0.5, \"#f7f7f7\"], [0.6, \"#e6f5d0\"], [0.7, \"#b8e186\"], [0.8, \"#7fbc41\"], [0.9, \"#4d9221\"], [1, \"#276419\"]], \"sequential\": [[0.0, \"#0d0887\"], [0.1111111111111111, \"#46039f\"], [0.2222222222222222, \"#7201a8\"], [0.3333333333333333, \"#9c179e\"], [0.4444444444444444, \"#bd3786\"], [0.5555555555555556, \"#d8576b\"], [0.6666666666666666, \"#ed7953\"], [0.7777777777777778, \"#fb9f3a\"], [0.8888888888888888, \"#fdca26\"], [1.0, \"#f0f921\"]], \"sequentialminus\": [[0.0, \"#0d0887\"], [0.1111111111111111, \"#46039f\"], [0.2222222222222222, \"#7201a8\"], [0.3333333333333333, \"#9c179e\"], [0.4444444444444444, \"#bd3786\"], [0.5555555555555556, \"#d8576b\"], [0.6666666666666666, \"#ed7953\"], [0.7777777777777778, \"#fb9f3a\"], [0.8888888888888888, \"#fdca26\"], [1.0, \"#f0f921\"]]}, \"colorway\": [\"#636efa\", \"#EF553B\", \"#00cc96\", \"#ab63fa\", \"#FFA15A\", \"#19d3f3\", \"#FF6692\", \"#B6E880\", \"#FF97FF\", \"#FECB52\"], \"font\": {\"color\": \"#2a3f5f\"}, \"geo\": {\"bgcolor\": \"white\", \"lakecolor\": \"white\", \"landcolor\": \"#E5ECF6\", \"showlakes\": true, \"showland\": true, \"subunitcolor\": \"white\"}, \"hoverlabel\": {\"align\": \"left\"}, \"hovermode\": \"closest\", \"mapbox\": {\"style\": \"light\"}, \"paper_bgcolor\": \"white\", \"plot_bgcolor\": \"#E5ECF6\", \"polar\": {\"angularaxis\": {\"gridcolor\": \"white\", \"linecolor\": \"white\", \"ticks\": \"\"}, \"bgcolor\": \"#E5ECF6\", \"radialaxis\": {\"gridcolor\": \"white\", \"linecolor\": \"white\", \"ticks\": \"\"}}, \"scene\": {\"xaxis\": {\"backgroundcolor\": \"#E5ECF6\", \"gridcolor\": \"white\", \"gridwidth\": 2, \"linecolor\": \"white\", \"showbackground\": true, \"ticks\": \"\", \"zerolinecolor\": \"white\"}, \"yaxis\": {\"backgroundcolor\": \"#E5ECF6\", \"gridcolor\": \"white\", \"gridwidth\": 2, \"linecolor\": \"white\", \"showbackground\": true, \"ticks\": \"\", \"zerolinecolor\": \"white\"}, \"zaxis\": {\"backgroundcolor\": \"#E5ECF6\", \"gridcolor\": \"white\", \"gridwidth\": 2, \"linecolor\": \"white\", \"showbackground\": true, \"ticks\": \"\", \"zerolinecolor\": \"white\"}}, \"shapedefaults\": {\"line\": {\"color\": \"#2a3f5f\"}}, \"ternary\": {\"aaxis\": {\"gridcolor\": \"white\", \"linecolor\": \"white\", \"ticks\": \"\"}, \"baxis\": {\"gridcolor\": \"white\", \"linecolor\": \"white\", \"ticks\": \"\"}, \"bgcolor\": \"#E5ECF6\", \"caxis\": {\"gridcolor\": \"white\", \"linecolor\": \"white\", \"ticks\": \"\"}}, \"title\": {\"x\": 0.05}, \"xaxis\": {\"automargin\": true, \"gridcolor\": \"white\", \"linecolor\": \"white\", \"ticks\": \"\", \"zerolinecolor\": \"white\", \"zerolinewidth\": 2}, \"yaxis\": {\"automargin\": true, \"gridcolor\": \"white\", \"linecolor\": \"white\", \"ticks\": \"\", \"zerolinecolor\": \"white\", \"zerolinewidth\": 2}}}, \"title\": {\"text\": \"Distribution of articles category-wise\", \"x\": 0.5, \"xanchor\": \"center\", \"y\": 0.9, \"yanchor\": \"top\"}, \"width\": 800, \"xaxis\": {\"title\": {\"text\": \"Category name\"}}, \"yaxis\": {\"title\": {\"text\": \"Number of articles\"}}},\n",
       "                        {\"responsive\": true}\n",
       "                    ).then(function(){\n",
       "                            \n",
       "var gd = document.getElementById('7e18ee9b-7b17-4faa-aad8-b82b1bd91667');\n",
       "var x = new MutationObserver(function (mutations, observer) {{\n",
       "        var display = window.getComputedStyle(gd).display;\n",
       "        if (!display || display === 'none') {{\n",
       "            console.log([gd, 'removed!']);\n",
       "            Plotly.purge(gd);\n",
       "            observer.disconnect();\n",
       "        }}\n",
       "}});\n",
       "\n",
       "// Listen for the removal of the full notebook cells\n",
       "var notebookContainer = gd.closest('#notebook-container');\n",
       "if (notebookContainer) {{\n",
       "    x.observe(notebookContainer, {childList: true});\n",
       "}}\n",
       "\n",
       "// Listen for the clearing of the current output cell\n",
       "var outputEl = gd.closest('.output');\n",
       "if (outputEl) {{\n",
       "    x.observe(outputEl, {childList: true});\n",
       "}}\n",
       "\n",
       "                        })\n",
       "                };\n",
       "                });\n",
       "            </script>\n",
       "        </div>"
      ]
     },
     "metadata": {},
     "output_type": "display_data"
    }
   ],
   "source": [
    "fig = go.Figure([go.Bar(x=news_articles[\"category\"].value_counts().index, y=news_articles[\"category\"].value_counts().values)])\n",
    "fig['layout'].update(title={\"text\" : 'Distribution of articles category-wise','y':0.9,'x':0.5,'xanchor': 'center','yanchor': 'top'}, xaxis_title=\"Category name\",yaxis_title=\"Number of articles\")\n",
    "fig.update_layout(width=800,height=700)\n",
    "fig"
   ]
  },
  {
   "cell_type": "markdown",
   "metadata": {},
   "source": [
    "From the bar chart, we can observe that **politics** category has **highest** number of articles then **entertainment** and so on.  "
   ]
  },
  {
   "cell_type": "markdown",
   "metadata": {},
   "source": [
    "### 4.c Number of articles per month"
   ]
  },
  {
   "cell_type": "markdown",
   "metadata": {},
   "source": [
    "Let's first group the data on monthly basis using **resample()** function. "
   ]
  },
  {
   "cell_type": "code",
   "execution_count": 12,
   "metadata": {},
   "outputs": [
    {
     "data": {
      "text/plain": [
       "date\n",
       "2018-01-31    2065\n",
       "2018-02-28    1694\n",
       "2018-03-31    1778\n",
       "2018-04-30    1580\n",
       "2018-05-31    1368\n",
       "Freq: M, Name: headline, dtype: int64"
      ]
     },
     "execution_count": 12,
     "metadata": {},
     "output_type": "execute_result"
    }
   ],
   "source": [
    "news_articles_per_month = news_articles.resample('m',on = 'date')['headline'].count()\n",
    "news_articles_per_month"
   ]
  },
  {
   "cell_type": "code",
   "execution_count": 13,
   "metadata": {},
   "outputs": [
    {
     "data": {
      "text/html": [
       "<div>\n",
       "        \n",
       "        \n",
       "            <div id=\"cdeb8fa2-4ae3-410a-92a5-ba6162bb03df\" class=\"plotly-graph-div\" style=\"height:500px; width:500px;\"></div>\n",
       "            <script type=\"text/javascript\">\n",
       "                require([\"plotly\"], function(Plotly) {\n",
       "                    window.PLOTLYENV=window.PLOTLYENV || {};\n",
       "                    \n",
       "                if (document.getElementById(\"cdeb8fa2-4ae3-410a-92a5-ba6162bb03df\")) {\n",
       "                    Plotly.newPlot(\n",
       "                        'cdeb8fa2-4ae3-410a-92a5-ba6162bb03df',\n",
       "                        [{\"type\": \"bar\", \"x\": [\"Jan\", \"Feb\", \"Mar\", \"Apr\", \"May\"], \"y\": [2065, 1694, 1778, 1580, 1368]}],\n",
       "                        {\"height\": 500, \"template\": {\"data\": {\"bar\": [{\"error_x\": {\"color\": \"#2a3f5f\"}, \"error_y\": {\"color\": \"#2a3f5f\"}, \"marker\": {\"line\": {\"color\": \"#E5ECF6\", \"width\": 0.5}}, \"type\": \"bar\"}], \"barpolar\": [{\"marker\": {\"line\": {\"color\": \"#E5ECF6\", \"width\": 0.5}}, \"type\": \"barpolar\"}], \"carpet\": [{\"aaxis\": {\"endlinecolor\": \"#2a3f5f\", \"gridcolor\": \"white\", \"linecolor\": \"white\", \"minorgridcolor\": \"white\", \"startlinecolor\": \"#2a3f5f\"}, \"baxis\": {\"endlinecolor\": \"#2a3f5f\", \"gridcolor\": \"white\", \"linecolor\": \"white\", \"minorgridcolor\": \"white\", \"startlinecolor\": \"#2a3f5f\"}, \"type\": \"carpet\"}], \"choropleth\": [{\"colorbar\": {\"outlinewidth\": 0, \"ticks\": \"\"}, \"type\": \"choropleth\"}], \"contour\": [{\"colorbar\": {\"outlinewidth\": 0, \"ticks\": \"\"}, \"colorscale\": [[0.0, \"#0d0887\"], [0.1111111111111111, \"#46039f\"], [0.2222222222222222, \"#7201a8\"], [0.3333333333333333, \"#9c179e\"], [0.4444444444444444, \"#bd3786\"], [0.5555555555555556, \"#d8576b\"], [0.6666666666666666, \"#ed7953\"], [0.7777777777777778, \"#fb9f3a\"], [0.8888888888888888, \"#fdca26\"], [1.0, \"#f0f921\"]], \"type\": \"contour\"}], \"contourcarpet\": [{\"colorbar\": {\"outlinewidth\": 0, \"ticks\": \"\"}, \"type\": \"contourcarpet\"}], \"heatmap\": [{\"colorbar\": {\"outlinewidth\": 0, \"ticks\": \"\"}, \"colorscale\": [[0.0, \"#0d0887\"], [0.1111111111111111, \"#46039f\"], [0.2222222222222222, \"#7201a8\"], [0.3333333333333333, \"#9c179e\"], [0.4444444444444444, \"#bd3786\"], [0.5555555555555556, \"#d8576b\"], [0.6666666666666666, \"#ed7953\"], [0.7777777777777778, \"#fb9f3a\"], [0.8888888888888888, \"#fdca26\"], [1.0, \"#f0f921\"]], \"type\": \"heatmap\"}], \"heatmapgl\": [{\"colorbar\": {\"outlinewidth\": 0, \"ticks\": \"\"}, \"colorscale\": [[0.0, \"#0d0887\"], [0.1111111111111111, \"#46039f\"], [0.2222222222222222, \"#7201a8\"], [0.3333333333333333, \"#9c179e\"], [0.4444444444444444, \"#bd3786\"], [0.5555555555555556, \"#d8576b\"], [0.6666666666666666, \"#ed7953\"], [0.7777777777777778, \"#fb9f3a\"], [0.8888888888888888, \"#fdca26\"], [1.0, \"#f0f921\"]], \"type\": \"heatmapgl\"}], \"histogram\": [{\"marker\": {\"colorbar\": {\"outlinewidth\": 0, \"ticks\": \"\"}}, \"type\": \"histogram\"}], \"histogram2d\": [{\"colorbar\": {\"outlinewidth\": 0, \"ticks\": \"\"}, \"colorscale\": [[0.0, \"#0d0887\"], [0.1111111111111111, \"#46039f\"], [0.2222222222222222, \"#7201a8\"], [0.3333333333333333, \"#9c179e\"], [0.4444444444444444, \"#bd3786\"], [0.5555555555555556, \"#d8576b\"], [0.6666666666666666, \"#ed7953\"], [0.7777777777777778, \"#fb9f3a\"], [0.8888888888888888, \"#fdca26\"], [1.0, \"#f0f921\"]], \"type\": \"histogram2d\"}], \"histogram2dcontour\": [{\"colorbar\": {\"outlinewidth\": 0, \"ticks\": \"\"}, \"colorscale\": [[0.0, \"#0d0887\"], [0.1111111111111111, \"#46039f\"], [0.2222222222222222, \"#7201a8\"], [0.3333333333333333, \"#9c179e\"], [0.4444444444444444, \"#bd3786\"], [0.5555555555555556, \"#d8576b\"], [0.6666666666666666, \"#ed7953\"], [0.7777777777777778, \"#fb9f3a\"], [0.8888888888888888, \"#fdca26\"], [1.0, \"#f0f921\"]], \"type\": \"histogram2dcontour\"}], \"mesh3d\": [{\"colorbar\": {\"outlinewidth\": 0, \"ticks\": \"\"}, \"type\": \"mesh3d\"}], \"parcoords\": [{\"line\": {\"colorbar\": {\"outlinewidth\": 0, \"ticks\": \"\"}}, \"type\": \"parcoords\"}], \"scatter\": [{\"marker\": {\"colorbar\": {\"outlinewidth\": 0, \"ticks\": \"\"}}, \"type\": \"scatter\"}], \"scatter3d\": [{\"line\": {\"colorbar\": {\"outlinewidth\": 0, \"ticks\": \"\"}}, \"marker\": {\"colorbar\": {\"outlinewidth\": 0, \"ticks\": \"\"}}, \"type\": \"scatter3d\"}], \"scattercarpet\": [{\"marker\": {\"colorbar\": {\"outlinewidth\": 0, \"ticks\": \"\"}}, \"type\": \"scattercarpet\"}], \"scattergeo\": [{\"marker\": {\"colorbar\": {\"outlinewidth\": 0, \"ticks\": \"\"}}, \"type\": \"scattergeo\"}], \"scattergl\": [{\"marker\": {\"colorbar\": {\"outlinewidth\": 0, \"ticks\": \"\"}}, \"type\": \"scattergl\"}], \"scattermapbox\": [{\"marker\": {\"colorbar\": {\"outlinewidth\": 0, \"ticks\": \"\"}}, \"type\": \"scattermapbox\"}], \"scatterpolar\": [{\"marker\": {\"colorbar\": {\"outlinewidth\": 0, \"ticks\": \"\"}}, \"type\": \"scatterpolar\"}], \"scatterpolargl\": [{\"marker\": {\"colorbar\": {\"outlinewidth\": 0, \"ticks\": \"\"}}, \"type\": \"scatterpolargl\"}], \"scatterternary\": [{\"marker\": {\"colorbar\": {\"outlinewidth\": 0, \"ticks\": \"\"}}, \"type\": \"scatterternary\"}], \"surface\": [{\"colorbar\": {\"outlinewidth\": 0, \"ticks\": \"\"}, \"colorscale\": [[0.0, \"#0d0887\"], [0.1111111111111111, \"#46039f\"], [0.2222222222222222, \"#7201a8\"], [0.3333333333333333, \"#9c179e\"], [0.4444444444444444, \"#bd3786\"], [0.5555555555555556, \"#d8576b\"], [0.6666666666666666, \"#ed7953\"], [0.7777777777777778, \"#fb9f3a\"], [0.8888888888888888, \"#fdca26\"], [1.0, \"#f0f921\"]], \"type\": \"surface\"}], \"table\": [{\"cells\": {\"fill\": {\"color\": \"#EBF0F8\"}, \"line\": {\"color\": \"white\"}}, \"header\": {\"fill\": {\"color\": \"#C8D4E3\"}, \"line\": {\"color\": \"white\"}}, \"type\": \"table\"}]}, \"layout\": {\"annotationdefaults\": {\"arrowcolor\": \"#2a3f5f\", \"arrowhead\": 0, \"arrowwidth\": 1}, \"colorscale\": {\"diverging\": [[0, \"#8e0152\"], [0.1, \"#c51b7d\"], [0.2, \"#de77ae\"], [0.3, \"#f1b6da\"], [0.4, \"#fde0ef\"], [0.5, \"#f7f7f7\"], [0.6, \"#e6f5d0\"], [0.7, \"#b8e186\"], [0.8, \"#7fbc41\"], [0.9, \"#4d9221\"], [1, \"#276419\"]], \"sequential\": [[0.0, \"#0d0887\"], [0.1111111111111111, \"#46039f\"], [0.2222222222222222, \"#7201a8\"], [0.3333333333333333, \"#9c179e\"], [0.4444444444444444, \"#bd3786\"], [0.5555555555555556, \"#d8576b\"], [0.6666666666666666, \"#ed7953\"], [0.7777777777777778, \"#fb9f3a\"], [0.8888888888888888, \"#fdca26\"], [1.0, \"#f0f921\"]], \"sequentialminus\": [[0.0, \"#0d0887\"], [0.1111111111111111, \"#46039f\"], [0.2222222222222222, \"#7201a8\"], [0.3333333333333333, \"#9c179e\"], [0.4444444444444444, \"#bd3786\"], [0.5555555555555556, \"#d8576b\"], [0.6666666666666666, \"#ed7953\"], [0.7777777777777778, \"#fb9f3a\"], [0.8888888888888888, \"#fdca26\"], [1.0, \"#f0f921\"]]}, \"colorway\": [\"#636efa\", \"#EF553B\", \"#00cc96\", \"#ab63fa\", \"#FFA15A\", \"#19d3f3\", \"#FF6692\", \"#B6E880\", \"#FF97FF\", \"#FECB52\"], \"font\": {\"color\": \"#2a3f5f\"}, \"geo\": {\"bgcolor\": \"white\", \"lakecolor\": \"white\", \"landcolor\": \"#E5ECF6\", \"showlakes\": true, \"showland\": true, \"subunitcolor\": \"white\"}, \"hoverlabel\": {\"align\": \"left\"}, \"hovermode\": \"closest\", \"mapbox\": {\"style\": \"light\"}, \"paper_bgcolor\": \"white\", \"plot_bgcolor\": \"#E5ECF6\", \"polar\": {\"angularaxis\": {\"gridcolor\": \"white\", \"linecolor\": \"white\", \"ticks\": \"\"}, \"bgcolor\": \"#E5ECF6\", \"radialaxis\": {\"gridcolor\": \"white\", \"linecolor\": \"white\", \"ticks\": \"\"}}, \"scene\": {\"xaxis\": {\"backgroundcolor\": \"#E5ECF6\", \"gridcolor\": \"white\", \"gridwidth\": 2, \"linecolor\": \"white\", \"showbackground\": true, \"ticks\": \"\", \"zerolinecolor\": \"white\"}, \"yaxis\": {\"backgroundcolor\": \"#E5ECF6\", \"gridcolor\": \"white\", \"gridwidth\": 2, \"linecolor\": \"white\", \"showbackground\": true, \"ticks\": \"\", \"zerolinecolor\": \"white\"}, \"zaxis\": {\"backgroundcolor\": \"#E5ECF6\", \"gridcolor\": \"white\", \"gridwidth\": 2, \"linecolor\": \"white\", \"showbackground\": true, \"ticks\": \"\", \"zerolinecolor\": \"white\"}}, \"shapedefaults\": {\"line\": {\"color\": \"#2a3f5f\"}}, \"ternary\": {\"aaxis\": {\"gridcolor\": \"white\", \"linecolor\": \"white\", \"ticks\": \"\"}, \"baxis\": {\"gridcolor\": \"white\", \"linecolor\": \"white\", \"ticks\": \"\"}, \"bgcolor\": \"#E5ECF6\", \"caxis\": {\"gridcolor\": \"white\", \"linecolor\": \"white\", \"ticks\": \"\"}}, \"title\": {\"x\": 0.05}, \"xaxis\": {\"automargin\": true, \"gridcolor\": \"white\", \"linecolor\": \"white\", \"ticks\": \"\", \"zerolinecolor\": \"white\", \"zerolinewidth\": 2}, \"yaxis\": {\"automargin\": true, \"gridcolor\": \"white\", \"linecolor\": \"white\", \"ticks\": \"\", \"zerolinecolor\": \"white\", \"zerolinewidth\": 2}}}, \"title\": {\"text\": \"Distribution of articles month-wise\", \"x\": 0.5, \"xanchor\": \"center\", \"y\": 0.9, \"yanchor\": \"top\"}, \"width\": 500, \"xaxis\": {\"title\": {\"text\": \"Month\"}}, \"yaxis\": {\"title\": {\"text\": \"Number of articles\"}}},\n",
       "                        {\"responsive\": true}\n",
       "                    ).then(function(){\n",
       "                            \n",
       "var gd = document.getElementById('cdeb8fa2-4ae3-410a-92a5-ba6162bb03df');\n",
       "var x = new MutationObserver(function (mutations, observer) {{\n",
       "        var display = window.getComputedStyle(gd).display;\n",
       "        if (!display || display === 'none') {{\n",
       "            console.log([gd, 'removed!']);\n",
       "            Plotly.purge(gd);\n",
       "            observer.disconnect();\n",
       "        }}\n",
       "}});\n",
       "\n",
       "// Listen for the removal of the full notebook cells\n",
       "var notebookContainer = gd.closest('#notebook-container');\n",
       "if (notebookContainer) {{\n",
       "    x.observe(notebookContainer, {childList: true});\n",
       "}}\n",
       "\n",
       "// Listen for the clearing of the current output cell\n",
       "var outputEl = gd.closest('.output');\n",
       "if (outputEl) {{\n",
       "    x.observe(outputEl, {childList: true});\n",
       "}}\n",
       "\n",
       "                        })\n",
       "                };\n",
       "                });\n",
       "            </script>\n",
       "        </div>"
      ]
     },
     "metadata": {},
     "output_type": "display_data"
    }
   ],
   "source": [
    "fig = go.Figure([go.Bar(x=news_articles_per_month.index.strftime(\"%b\"), y=news_articles_per_month)])\n",
    "fig['layout'].update(title={\"text\" : 'Distribution of articles month-wise','y':0.9,'x':0.5,'xanchor': 'center','yanchor': 'top'}, xaxis_title=\"Month\",yaxis_title=\"Number of articles\")\n",
    "fig.update_layout(width=500,height=500)\n",
    "fig"
   ]
  },
  {
   "cell_type": "markdown",
   "metadata": {},
   "source": [
    "From the bar chart, we can observe that **January** month has **highest** number of articles then **March** and so on.  "
   ]
  },
  {
   "cell_type": "markdown",
   "metadata": {},
   "source": [
    "### 4.d PDF for the length of headlines "
   ]
  },
  {
   "cell_type": "code",
   "execution_count": 14,
   "metadata": {},
   "outputs": [
    {
     "data": {
      "text/html": [
       "<div>\n",
       "        \n",
       "        \n",
       "            <div id=\"7894b677-a0a2-4aa9-b417-503cbe6c5f2f\" class=\"plotly-graph-div\" style=\"height:500px; width:500px;\"></div>\n",
       "            <script type=\"text/javascript\">\n",
       "                require([\"plotly\"], function(Plotly) {\n",
       "                    window.PLOTLYENV=window.PLOTLYENV || {};\n",
       "                    \n",
       "                if (document.getElementById(\"7894b677-a0a2-4aa9-b417-503cbe6c5f2f\")) {\n",
       "                    Plotly.newPlot(\n",
       "                        '7894b677-a0a2-4aa9-b417-503cbe6c5f2f',\n",
       "                        [{\"legendgroup\": \"ht\", \"marker\": {\"color\": \"rgb(31, 119, 180)\"}, \"mode\": \"lines\", \"name\": \"ht\", \"showlegend\": true, \"type\": \"scatter\", \"x\": [25.0, 25.21, 25.42, 25.63, 25.84, 26.05, 26.26, 26.47, 26.68, 26.89, 27.1, 27.31, 27.52, 27.73, 27.94, 28.15, 28.36, 28.57, 28.78, 28.990000000000002, 29.2, 29.41, 29.62, 29.83, 30.04, 30.25, 30.46, 30.67, 30.88, 31.09, 31.3, 31.509999999999998, 31.72, 31.93, 32.14, 32.35, 32.56, 32.769999999999996, 32.980000000000004, 33.19, 33.4, 33.61, 33.82, 34.03, 34.24, 34.45, 34.66, 34.87, 35.08, 35.29, 35.5, 35.71, 35.92, 36.13, 36.34, 36.55, 36.76, 36.97, 37.18, 37.39, 37.6, 37.81, 38.019999999999996, 38.230000000000004, 38.44, 38.65, 38.86, 39.07, 39.28, 39.49, 39.7, 39.91, 40.12, 40.33, 40.54, 40.75, 40.96, 41.17, 41.379999999999995, 41.59, 41.8, 42.010000000000005, 42.22, 42.43, 42.64, 42.85, 43.06, 43.269999999999996, 43.480000000000004, 43.69, 43.9, 44.11, 44.32, 44.53, 44.739999999999995, 44.95, 45.16, 45.370000000000005, 45.58, 45.79, 46.0, 46.21, 46.42, 46.629999999999995, 46.84, 47.05, 47.260000000000005, 47.47, 47.68, 47.89, 48.1, 48.31, 48.519999999999996, 48.730000000000004, 48.94, 49.15, 49.36, 49.57, 49.78, 49.989999999999995, 50.2, 50.41, 50.620000000000005, 50.83, 51.04, 51.25, 51.46, 51.67, 51.879999999999995, 52.09, 52.3, 52.510000000000005, 52.72, 52.93, 53.14, 53.35, 53.56, 53.769999999999996, 53.980000000000004, 54.19, 54.4, 54.61, 54.82, 55.03, 55.239999999999995, 55.45, 55.66, 55.870000000000005, 56.08, 56.29, 56.5, 56.71, 56.92, 57.13, 57.34, 57.55, 57.76, 57.97, 58.18, 58.39, 58.6, 58.81, 59.02, 59.23, 59.44, 59.65, 59.86, 60.07, 60.28, 60.49, 60.7, 60.91, 61.12, 61.33, 61.54, 61.75, 61.96, 62.17, 62.38, 62.59, 62.8, 63.01, 63.22, 63.43, 63.64, 63.85, 64.06, 64.27000000000001, 64.47999999999999, 64.69, 64.9, 65.11, 65.32, 65.53, 65.74000000000001, 65.95, 66.16, 66.37, 66.58, 66.78999999999999, 67.0, 67.21000000000001, 67.42, 67.63, 67.84, 68.05, 68.25999999999999, 68.47, 68.68, 68.89, 69.1, 69.31, 69.52000000000001, 69.72999999999999, 69.94, 70.15, 70.36, 70.57, 70.78, 70.99000000000001, 71.2, 71.41, 71.62, 71.83, 72.03999999999999, 72.25, 72.46000000000001, 72.67, 72.88, 73.09, 73.3, 73.50999999999999, 73.72, 73.93, 74.14, 74.35, 74.56, 74.77000000000001, 74.97999999999999, 75.19, 75.4, 75.61, 75.82, 76.03, 76.24000000000001, 76.45, 76.66, 76.87, 77.08, 77.28999999999999, 77.5, 77.71000000000001, 77.92, 78.13, 78.34, 78.55, 78.75999999999999, 78.97, 79.18, 79.39, 79.6, 79.81, 80.02000000000001, 80.22999999999999, 80.44, 80.65, 80.86, 81.07, 81.28, 81.49000000000001, 81.7, 81.91, 82.12, 82.33, 82.53999999999999, 82.75, 82.96000000000001, 83.17, 83.38, 83.59, 83.8, 84.00999999999999, 84.22, 84.43, 84.64, 84.85, 85.06, 85.27000000000001, 85.47999999999999, 85.69, 85.9, 86.11, 86.32, 86.53, 86.74000000000001, 86.95, 87.16, 87.37, 87.58, 87.78999999999999, 88.0, 88.21000000000001, 88.42, 88.63, 88.84, 89.05, 89.26, 89.47, 89.68, 89.89, 90.1, 90.31, 90.52, 90.73, 90.94, 91.15, 91.36, 91.57, 91.78, 91.99, 92.2, 92.41, 92.62, 92.83, 93.04, 93.25, 93.46, 93.67, 93.88, 94.09, 94.3, 94.51, 94.72, 94.93, 95.14, 95.35, 95.56, 95.77, 95.98, 96.19, 96.4, 96.61, 96.82, 97.03, 97.24, 97.45, 97.66, 97.87, 98.08, 98.29, 98.5, 98.71, 98.92, 99.13, 99.34, 99.55, 99.76, 99.97, 100.18, 100.39, 100.6, 100.81, 101.02, 101.23, 101.44, 101.65, 101.86, 102.07, 102.28, 102.49, 102.7, 102.91, 103.12, 103.33, 103.54, 103.75, 103.96, 104.17, 104.38, 104.59, 104.8, 105.01, 105.22, 105.43, 105.64, 105.85, 106.06, 106.27, 106.48, 106.69, 106.9, 107.11, 107.32, 107.53, 107.74, 107.95, 108.16, 108.37, 108.58, 108.79, 109.0, 109.21, 109.42, 109.63, 109.84, 110.05, 110.26, 110.47, 110.68, 110.89, 111.1, 111.31, 111.52, 111.73, 111.94, 112.15, 112.36, 112.57, 112.78, 112.99, 113.2, 113.41, 113.62, 113.83, 114.04, 114.25, 114.46, 114.67, 114.88, 115.09, 115.3, 115.51, 115.72, 115.93, 116.14, 116.35, 116.56, 116.77, 116.98, 117.19, 117.4, 117.61, 117.82, 118.03, 118.24, 118.45, 118.66, 118.87, 119.08, 119.29, 119.5, 119.71, 119.92, 120.13, 120.34, 120.55, 120.76, 120.97, 121.18, 121.39, 121.6, 121.81, 122.02, 122.23, 122.44, 122.65, 122.86, 123.07, 123.28, 123.49, 123.7, 123.91, 124.12, 124.33, 124.54, 124.75, 124.96, 125.17, 125.38, 125.59, 125.8, 126.01, 126.22, 126.43, 126.64, 126.85, 127.06, 127.27, 127.48, 127.69, 127.9, 128.11, 128.32, 128.53, 128.74, 128.95, 129.16, 129.37, 129.57999999999998, 129.79000000000002], \"xaxis\": \"x\", \"y\": [9.761758669784215e-05, 0.00010325831164921103, 0.0001084329845912932, 0.0001131355320267272, 0.00011739554705294587, 0.00012127819250782847, 0.00012488160912757547, 0.00012833195525104211, 0.00013177643189014795, 0.000135374848979986, 0.00013929044182645805, 0.00014368073236925103, 0.00014868923626863332, 0.0001544387412644792, 0.00016102673140292527, 0.00016852332096544393, 0.00017697181358664377, 0.00018639174269529776, 0.00019678400672695868, 0.0002081375120278088, 0.00022043659839849893, 0.00023366845992195287, 0.00024782979166326974, 0.0002629319869246314, 0.00027900436808591143, 0.0002960951387077445, 0.0003142699738284915, 0.0003336083963901047, 0.0003541982989159281, 0.00037612914273380015, 0.0003994844888055315, 0.0004243345767575593, 0.00045072966975756806, 0.00047869482521141623, 0.0005082266416629181, 0.0005392923804376617, 0.0005718316778924338, 0.0006057608628306198, 0.0006409796861002985, 0.0006773800678026515, 0.0007148562837941945, 0.0007533158588123265, 0.0007926903196818814, 0.0008329448989887273, 0.0008740862762707749, 0.0009161675068253669, 0.00095928942092176, 0.0010035979772622108, 0.0010492773171879265, 0.0010965385775688287, 0.0011456048617448987, 0.001196693115262218, 0.0012499939786775143, 0.0013056509639736594, 0.0013637404956690037, 0.0014242544477831784, 0.0014870867751478572, 0.001552025672616529, 0.0016187523995630352, 0.0016868474921832935, 0.0017558045765632, 0.0018250514258213717, 0.0018939773179972484, 0.0019619651964370545, 0.002028426661705342, 0.002092837481302812, 0.002154771130992942, 0.0022139279074072076, 0.0022701573875331094, 0.0023234724490875354, 0.0023740536784553823, 0.0024222437319847473, 0.0024685320178051318, 0.0025135308541624256, 0.0025579449587034044, 0.0026025366590684204, 0.0026480895309619686, 0.002695373230119138, 0.0027451120812465066, 0.002797959541451437, 0.002854480016790886, 0.002915138749240913, 0.0029802996917890727, 0.0030502305384277665, 0.003125113452383846, 0.003205059600984135, 0.0032901253954067365, 0.003380328356429597, 0.0034756607640522358, 0.0035760996575330086, 0.0036816122753240543, 0.0037921565971155463, 0.0039076772101853275, 0.004028097216372367, 0.004153307285671967, 0.004283153225892821, 0.004417423569427549, 0.004555838685686466, 0.004698042827815269, 0.00484360033585292, 0.004991996966339557, 0.005142647018395638, 0.005294906591970928, 0.005448092954861864, 0.005601509618588827, 0.005754476337090127, 0.005906362857341759, 0.00605662488365812, 0.006204840390061565, 0.006350744155946926, 0.006494258241045015, 0.006635516087953936, 0.006774878070925938, 0.006912936614930908, 0.007050509491608967, 0.007188620543307961, 0.0073284678589321944, 0.007471380274267577, 0.00761876392957106, 0.007772041415647669, 0.007932586703422562, 0.00810165951621963, 0.008280343019261574, 0.008469488639556887, 0.008669671488645657, 0.008881159263509299, 0.009103896693224561, 0.009337506644419905, 0.00958130797181679, 0.009834349178494899, 0.01009545600655938, 0.010363290273910298, 0.010636416652497602, 0.010913373675907502, 0.011192745080378578, 0.011473227619748626, 0.011753691736740034, 0.01203323189875493, 0.012311203990691555, 0.012587247873389516, 0.012861294036193871, 0.013133554165455382, 0.013404496382548736, 0.013674806832988261, 0.01394534018145866, 0.01421706232659694, 0.01449098922929828, 0.014768126084912342, 0.015049411107787467, 0.015335667900042675, 0.015627569737537993, 0.01592561815283594, 0.01623013699422801, 0.016541281794396054, 0.016859062921967375, 0.01718337975698376, 0.017514062164769452, 0.017850914954905414, 0.018193760874126694, 0.018542478010862867, 0.018897028242755947, 0.019257474439761984, 0.019623985404989063, 0.019996828831073166, 0.020376353710116785, 0.020762964522700458, 0.021157090052918406, 0.02155914979521024, 0.02196952065867375, 0.022388506113396996, 0.02281630917847914, 0.023253009859076357, 0.02369854693237771, 0.024152703467159562, 0.024615095204686112, 0.02508516094701054, 0.02556215436005776, 0.02604513703087201, 0.026532973123543694, 0.027024326452204935, 0.027517661139171378, 0.02801124718531895, 0.028503172217300417, 0.028991360399367127, 0.029473599046849944, 0.029947572917581714, 0.03041090556071104, 0.03086120654021602, 0.03129612287941681, 0.03171339272826884, 0.03211089905005894, 0.032486721052225984, 0.03283918112957734, 0.03316688522641146, 0.033468754741167714, 0.03374404838726987, 0.03399237279136029, 0.03421368106624736, 0.03440825915069343, 0.03457670036141293, 0.034719869335134323, 0.03483885730674201, 0.034934931405029956, 0.03500948126300701, 0.03506396663960631, 0.035099869846005056, 0.035118656498551774, 0.03512174745673859, 0.03511050377380055, 0.03508622516799521, 0.03505016104214987, 0.03500353160186725, 0.034947555330075576, 0.0348834781418276, 0.034812599111200486, 0.03473628782074213, 0.0346559891519142, 0.034573212653510835, 0.0344895053604274, 0.034406408892512674, 0.034325403609304, 0.03424784428914458, 0.03417489302194894, 0.03410745558923842, 0.03404612746690158, 0.033991154731795856, 0.033942413682985444, 0.033899411084066404, 0.03386130483422515, 0.0338269428466241, 0.033794916205301395, 0.033763621490200436, 0.03373132663232513, 0.033696234822439323, 0.03365654178638746, 0.03361048301286217, 0.03355636906990358, 0.033492608741665486, 0.033417721132612016, 0.03333033894003943, 0.03322920567349602, 0.03311316966962091, 0.03298117736471167, 0.03283226756715941, 0.032665567586965094, 0.032480291215573213, 0.03227573787612208, 0.032051291907231445, 0.03180642096275049, 0.03154067289115714, 0.031253671116212925, 0.0309451093341004, 0.030614747099714783, 0.03026240842306135, 0.029887985691917845, 0.029491450989889874, 0.02907287617237718, 0.028632461957088434, 0.028170574912188905, 0.027687789769248308, 0.02718493316267165, 0.02666312391157663, 0.02612380448881393, 0.0255687584782191, 0.02500010963834814, 0.024420299614257797, 0.023832043230493483, 0.02323826245339298, 0.022642002282646793, 0.02204633376441573, 0.02145425077817548, 0.020868568057493438, 0.020291827958758456, 0.0197262227790953, 0.01917353802408022, 0.01863512009661765, 0.01811186963905955, 0.01760425946131928, 0.017112373878386284, 0.016635964581261684, 0.01617451704070547, 0.015727320985906, 0.015293538723397424, 0.01487226590182291, 0.014462580657378881, 0.014063578718992014, 0.013674393814412477, 0.01329420440202257, 0.01292222918420533, 0.01255771490230424, 0.012199920487473221, 0.011848101719050482, 0.01150150014980254, 0.011159339269712945, 0.010820829806407566, 0.010485184831237986, 0.01015164409176957, 0.009819505851874674, 0.009488163597470156, 0.009157144337846507, 0.008826144944319955, 0.008495063029400233, 0.008164019257937803, 0.007833368646307655, 0.00750369927544615, 0.007175817834576238, 0.006850722436117663, 0.006529564112763868, 0.0062135992484505685, 0.005904135843798515, 0.005602476929538283, 0.005309864594709188, 0.005027427987457314, 0.004756138292900874, 0.004496773131135141, 0.0042498921005831485, 0.004015824379964543, 0.0037946684640526944, 0.0035863033116586, 0.0033904094901321493, 0.003206498358536381, 0.003033946974806971, 0.0028720362550548, 0.002719989950545626, 0.002577012216579763, 0.002442321889809449, 0.0023151820195234916, 0.0021949236640659273, 0.0020809634189888617, 0.0019728145506063225, 0.0018700919417583308, 0.0017725113046804877, 0.0016798832816906659, 0.0015921031519892112, 0.001509136913218505, 0.0014310045323554647, 0.0013577611816062431, 0.0012894773035462624, 0.0012262183884862697, 0.001168025388752301, 0.0011148967240168163, 0.0010667728292998277, 0.0010235241431301465, 0.0009849433127080212, 0.0009507421994354607, 0.0009205540065175131, 0.0008939405364246929, 0.000870404245388501, 0.0008494044264998877, 0.0008303765557562883, 0.0008127536067378973, 0.0007959880022272285, 0.0007795728373271684, 0.0007630610790948529, 0.000746081611881537, 0.0007283512360024428, 0.000709682014966627, 0.0006899836763023676, 0.000669261077688122, 0.0006476070326815711, 0.0006251910337996199, 0.0006022446062442176, 0.0005790441698250868, 0.0005558923801139234, 0.0005330989651360286, 0.0005109620739265167, 0.0004897511103212791, 0.0004696919406688828, 0.0004509552384143406, 0.0004336485628647663, 0.0004178125668635519, 0.000403421494630712, 0.00039038787667853057, 0.00037857106760395696, 0.0003677890222683074, 0.0003578324859798905, 0.00034848060430634604, 0.0003395168551154121, 0.000330744181636901, 0.000321998266313707, 0.00031315802865766073, 0.0003041526458663784, 0.0002949646649582695, 0.0002856290765215268, 0.0002762285267053313, 0.00026688512948290055, 0.00025774958180250205, 0.00024898846138829254, 0.0002407706887933597, 0.00023325415753354194, 0.0002265734818276414, 0.00022082969010333501, 0.000216082518202526, 0.0002123457461118489, 0.00020958579383335932, 0.00020772356259108298, 0.00020663929173416813, 0.00020618001147838997, 0.0002061690161497189, 0.00020641666830967248, 0.00020673177525479134, 0.0002069327582488494, 0.0002068578622038712, 0.0002063737284513548, 0.0002053817728525292, 0.00020382197047437542, 0.00020167383821166255, 0.00019895461673475332, 0.0001957148686637743, 0.00019203191425218262, 0.00018800170132821073, 0.00018372983559342062, 0.00017932256599836435, 0.000174878517809498, 0.0001704818895276084, 0.00016619768293563917, 0.00016206933002503704, 0.00015811883534701628, 0.00015434929194561324, 0.00015074938091707603, 0.00014729925612926842, 0.00014397707060405878, 0.00014076533689631502, 0.0001376563390122931, 0.0001346559263229148, 0.00013178520860665854, 0.0001290799148395765, 0.00012658744905577656, 0.0001243619436129864, 0.0001224578429895678, 0.00012092272337107191, 0.00011979014557421581, 0.00011907334162947718, 0.00011876044947758102, 0.00011881184688309127, 0.00011915991472134372, 0.00011971130730353343, 0.00012035155230739875, 0.00012095157346921203, 0.00012137554976341175, 0.0001214894129054644, 0.00012116924966130134, 0.00012030891639003097, 0.00011882628149137478, 0.00011666767079289509, 0.00011381028041287294, 0.00011026251835882504, 0.0001060624181660303, 0.00010127441697416693, 9.598489390850045e-05, 9.029691647679635e-05, 8.432464370171399e-05, 7.818779165260996e-05, 7.200649115269524e-05, 6.589677244719024e-05, 5.9966811671791446e-05, 5.431398173119905e-05, 4.902267543072437e-05, 4.4162817353004514e-05, 3.9788954960531854e-05, 3.593981696316475e-05, 3.2638243429310416e-05, 2.989142087057638e-05, 2.769138926443666e-05, 2.601581965971535e-05, 2.4829084747520574e-05, 2.4083656444045812e-05, 2.372186207596672e-05, 2.367801429032204e-05, 2.3880901419585085e-05, 2.425658843725816e-05, 2.4731438684004562e-05, 2.52352286037523e-05, 2.5704197071359343e-05, 2.608385205999885e-05, 2.6331353663338638e-05, 2.6417305467678368e-05, 2.63268157085411e-05, 2.6059733445391758e-05, 2.563001945037811e-05, 2.5064271781007865e-05, 2.439948666165286e-05, 2.3680190946740838e-05, 2.29551283137235e-05, 2.22737137497139e-05, 2.16824875252199e-05, 2.1221799811869423e-05, 2.092294087816006e-05, 2.080590101343646e-05, 2.087790147978194e-05, 2.1132785959737773e-05, 2.1551304597523976e-05, 2.2102263451051494e-05, 2.2744454675241208e-05, 2.342923070272761e-05, 2.410354257825299e-05, 2.471323160799353e-05, 2.5206347199808914e-05, 2.5536263922106548e-05, 2.5664387958778052e-05], \"yaxis\": \"y\"}],\n",
       "                        {\"barmode\": \"overlay\", \"height\": 500, \"hovermode\": \"closest\", \"legend\": {\"traceorder\": \"reversed\"}, \"showlegend\": false, \"template\": {\"data\": {\"bar\": [{\"error_x\": {\"color\": \"#2a3f5f\"}, \"error_y\": {\"color\": \"#2a3f5f\"}, \"marker\": {\"line\": {\"color\": \"#E5ECF6\", \"width\": 0.5}}, \"type\": \"bar\"}], \"barpolar\": [{\"marker\": {\"line\": {\"color\": \"#E5ECF6\", \"width\": 0.5}}, \"type\": \"barpolar\"}], \"carpet\": [{\"aaxis\": {\"endlinecolor\": \"#2a3f5f\", \"gridcolor\": \"white\", \"linecolor\": \"white\", \"minorgridcolor\": \"white\", \"startlinecolor\": \"#2a3f5f\"}, \"baxis\": {\"endlinecolor\": \"#2a3f5f\", \"gridcolor\": \"white\", \"linecolor\": \"white\", \"minorgridcolor\": \"white\", \"startlinecolor\": \"#2a3f5f\"}, \"type\": \"carpet\"}], \"choropleth\": [{\"colorbar\": {\"outlinewidth\": 0, \"ticks\": \"\"}, \"type\": \"choropleth\"}], \"contour\": [{\"colorbar\": {\"outlinewidth\": 0, \"ticks\": \"\"}, \"colorscale\": [[0.0, \"#0d0887\"], [0.1111111111111111, \"#46039f\"], [0.2222222222222222, \"#7201a8\"], [0.3333333333333333, \"#9c179e\"], [0.4444444444444444, \"#bd3786\"], [0.5555555555555556, \"#d8576b\"], [0.6666666666666666, \"#ed7953\"], [0.7777777777777778, \"#fb9f3a\"], [0.8888888888888888, \"#fdca26\"], [1.0, \"#f0f921\"]], \"type\": \"contour\"}], \"contourcarpet\": [{\"colorbar\": {\"outlinewidth\": 0, \"ticks\": \"\"}, \"type\": \"contourcarpet\"}], \"heatmap\": [{\"colorbar\": {\"outlinewidth\": 0, \"ticks\": \"\"}, \"colorscale\": [[0.0, \"#0d0887\"], [0.1111111111111111, \"#46039f\"], [0.2222222222222222, \"#7201a8\"], [0.3333333333333333, \"#9c179e\"], [0.4444444444444444, \"#bd3786\"], [0.5555555555555556, \"#d8576b\"], [0.6666666666666666, \"#ed7953\"], [0.7777777777777778, \"#fb9f3a\"], [0.8888888888888888, \"#fdca26\"], [1.0, \"#f0f921\"]], \"type\": \"heatmap\"}], \"heatmapgl\": [{\"colorbar\": {\"outlinewidth\": 0, \"ticks\": \"\"}, \"colorscale\": [[0.0, \"#0d0887\"], [0.1111111111111111, \"#46039f\"], [0.2222222222222222, \"#7201a8\"], [0.3333333333333333, \"#9c179e\"], [0.4444444444444444, \"#bd3786\"], [0.5555555555555556, \"#d8576b\"], [0.6666666666666666, \"#ed7953\"], [0.7777777777777778, \"#fb9f3a\"], [0.8888888888888888, \"#fdca26\"], [1.0, \"#f0f921\"]], \"type\": \"heatmapgl\"}], \"histogram\": [{\"marker\": {\"colorbar\": {\"outlinewidth\": 0, \"ticks\": \"\"}}, \"type\": \"histogram\"}], \"histogram2d\": [{\"colorbar\": {\"outlinewidth\": 0, \"ticks\": \"\"}, \"colorscale\": [[0.0, \"#0d0887\"], [0.1111111111111111, \"#46039f\"], [0.2222222222222222, \"#7201a8\"], [0.3333333333333333, \"#9c179e\"], [0.4444444444444444, \"#bd3786\"], [0.5555555555555556, \"#d8576b\"], [0.6666666666666666, \"#ed7953\"], [0.7777777777777778, \"#fb9f3a\"], [0.8888888888888888, \"#fdca26\"], [1.0, \"#f0f921\"]], \"type\": \"histogram2d\"}], \"histogram2dcontour\": [{\"colorbar\": {\"outlinewidth\": 0, \"ticks\": \"\"}, \"colorscale\": [[0.0, \"#0d0887\"], [0.1111111111111111, \"#46039f\"], [0.2222222222222222, \"#7201a8\"], [0.3333333333333333, \"#9c179e\"], [0.4444444444444444, \"#bd3786\"], [0.5555555555555556, \"#d8576b\"], [0.6666666666666666, \"#ed7953\"], [0.7777777777777778, \"#fb9f3a\"], [0.8888888888888888, \"#fdca26\"], [1.0, \"#f0f921\"]], \"type\": \"histogram2dcontour\"}], \"mesh3d\": [{\"colorbar\": {\"outlinewidth\": 0, \"ticks\": \"\"}, \"type\": \"mesh3d\"}], \"parcoords\": [{\"line\": {\"colorbar\": {\"outlinewidth\": 0, \"ticks\": \"\"}}, \"type\": \"parcoords\"}], \"scatter\": [{\"marker\": {\"colorbar\": {\"outlinewidth\": 0, \"ticks\": \"\"}}, \"type\": \"scatter\"}], \"scatter3d\": [{\"line\": {\"colorbar\": {\"outlinewidth\": 0, \"ticks\": \"\"}}, \"marker\": {\"colorbar\": {\"outlinewidth\": 0, \"ticks\": \"\"}}, \"type\": \"scatter3d\"}], \"scattercarpet\": [{\"marker\": {\"colorbar\": {\"outlinewidth\": 0, \"ticks\": \"\"}}, \"type\": \"scattercarpet\"}], \"scattergeo\": [{\"marker\": {\"colorbar\": {\"outlinewidth\": 0, \"ticks\": \"\"}}, \"type\": \"scattergeo\"}], \"scattergl\": [{\"marker\": {\"colorbar\": {\"outlinewidth\": 0, \"ticks\": \"\"}}, \"type\": \"scattergl\"}], \"scattermapbox\": [{\"marker\": {\"colorbar\": {\"outlinewidth\": 0, \"ticks\": \"\"}}, \"type\": \"scattermapbox\"}], \"scatterpolar\": [{\"marker\": {\"colorbar\": {\"outlinewidth\": 0, \"ticks\": \"\"}}, \"type\": \"scatterpolar\"}], \"scatterpolargl\": [{\"marker\": {\"colorbar\": {\"outlinewidth\": 0, \"ticks\": \"\"}}, \"type\": \"scatterpolargl\"}], \"scatterternary\": [{\"marker\": {\"colorbar\": {\"outlinewidth\": 0, \"ticks\": \"\"}}, \"type\": \"scatterternary\"}], \"surface\": [{\"colorbar\": {\"outlinewidth\": 0, \"ticks\": \"\"}, \"colorscale\": [[0.0, \"#0d0887\"], [0.1111111111111111, \"#46039f\"], [0.2222222222222222, \"#7201a8\"], [0.3333333333333333, \"#9c179e\"], [0.4444444444444444, \"#bd3786\"], [0.5555555555555556, \"#d8576b\"], [0.6666666666666666, \"#ed7953\"], [0.7777777777777778, \"#fb9f3a\"], [0.8888888888888888, \"#fdca26\"], [1.0, \"#f0f921\"]], \"type\": \"surface\"}], \"table\": [{\"cells\": {\"fill\": {\"color\": \"#EBF0F8\"}, \"line\": {\"color\": \"white\"}}, \"header\": {\"fill\": {\"color\": \"#C8D4E3\"}, \"line\": {\"color\": \"white\"}}, \"type\": \"table\"}]}, \"layout\": {\"annotationdefaults\": {\"arrowcolor\": \"#2a3f5f\", \"arrowhead\": 0, \"arrowwidth\": 1}, \"colorscale\": {\"diverging\": [[0, \"#8e0152\"], [0.1, \"#c51b7d\"], [0.2, \"#de77ae\"], [0.3, \"#f1b6da\"], [0.4, \"#fde0ef\"], [0.5, \"#f7f7f7\"], [0.6, \"#e6f5d0\"], [0.7, \"#b8e186\"], [0.8, \"#7fbc41\"], [0.9, \"#4d9221\"], [1, \"#276419\"]], \"sequential\": [[0.0, \"#0d0887\"], [0.1111111111111111, \"#46039f\"], [0.2222222222222222, \"#7201a8\"], [0.3333333333333333, \"#9c179e\"], [0.4444444444444444, \"#bd3786\"], [0.5555555555555556, \"#d8576b\"], [0.6666666666666666, \"#ed7953\"], [0.7777777777777778, \"#fb9f3a\"], [0.8888888888888888, \"#fdca26\"], [1.0, \"#f0f921\"]], \"sequentialminus\": [[0.0, \"#0d0887\"], [0.1111111111111111, \"#46039f\"], [0.2222222222222222, \"#7201a8\"], [0.3333333333333333, \"#9c179e\"], [0.4444444444444444, \"#bd3786\"], [0.5555555555555556, \"#d8576b\"], [0.6666666666666666, \"#ed7953\"], [0.7777777777777778, \"#fb9f3a\"], [0.8888888888888888, \"#fdca26\"], [1.0, \"#f0f921\"]]}, \"colorway\": [\"#636efa\", \"#EF553B\", \"#00cc96\", \"#ab63fa\", \"#FFA15A\", \"#19d3f3\", \"#FF6692\", \"#B6E880\", \"#FF97FF\", \"#FECB52\"], \"font\": {\"color\": \"#2a3f5f\"}, \"geo\": {\"bgcolor\": \"white\", \"lakecolor\": \"white\", \"landcolor\": \"#E5ECF6\", \"showlakes\": true, \"showland\": true, \"subunitcolor\": \"white\"}, \"hoverlabel\": {\"align\": \"left\"}, \"hovermode\": \"closest\", \"mapbox\": {\"style\": \"light\"}, \"paper_bgcolor\": \"white\", \"plot_bgcolor\": \"#E5ECF6\", \"polar\": {\"angularaxis\": {\"gridcolor\": \"white\", \"linecolor\": \"white\", \"ticks\": \"\"}, \"bgcolor\": \"#E5ECF6\", \"radialaxis\": {\"gridcolor\": \"white\", \"linecolor\": \"white\", \"ticks\": \"\"}}, \"scene\": {\"xaxis\": {\"backgroundcolor\": \"#E5ECF6\", \"gridcolor\": \"white\", \"gridwidth\": 2, \"linecolor\": \"white\", \"showbackground\": true, \"ticks\": \"\", \"zerolinecolor\": \"white\"}, \"yaxis\": {\"backgroundcolor\": \"#E5ECF6\", \"gridcolor\": \"white\", \"gridwidth\": 2, \"linecolor\": \"white\", \"showbackground\": true, \"ticks\": \"\", \"zerolinecolor\": \"white\"}, \"zaxis\": {\"backgroundcolor\": \"#E5ECF6\", \"gridcolor\": \"white\", \"gridwidth\": 2, \"linecolor\": \"white\", \"showbackground\": true, \"ticks\": \"\", \"zerolinecolor\": \"white\"}}, \"shapedefaults\": {\"line\": {\"color\": \"#2a3f5f\"}}, \"ternary\": {\"aaxis\": {\"gridcolor\": \"white\", \"linecolor\": \"white\", \"ticks\": \"\"}, \"baxis\": {\"gridcolor\": \"white\", \"linecolor\": \"white\", \"ticks\": \"\"}, \"bgcolor\": \"#E5ECF6\", \"caxis\": {\"gridcolor\": \"white\", \"linecolor\": \"white\", \"ticks\": \"\"}}, \"title\": {\"x\": 0.05}, \"xaxis\": {\"automargin\": true, \"gridcolor\": \"white\", \"linecolor\": \"white\", \"ticks\": \"\", \"zerolinecolor\": \"white\", \"zerolinewidth\": 2}, \"yaxis\": {\"automargin\": true, \"gridcolor\": \"white\", \"linecolor\": \"white\", \"ticks\": \"\", \"zerolinecolor\": \"white\", \"zerolinewidth\": 2}}}, \"title\": {\"text\": \"PDF\", \"x\": 0.5, \"xanchor\": \"center\", \"y\": 0.9, \"yanchor\": \"top\"}, \"width\": 500, \"xaxis\": {\"anchor\": \"y2\", \"domain\": [0.0, 1.0], \"title\": {\"text\": \"Length of a headline\"}, \"zeroline\": false}, \"yaxis\": {\"anchor\": \"free\", \"domain\": [0.0, 1], \"position\": 0.0, \"title\": {\"text\": \"probability\"}}},\n",
       "                        {\"responsive\": true}\n",
       "                    ).then(function(){\n",
       "                            \n",
       "var gd = document.getElementById('7894b677-a0a2-4aa9-b417-503cbe6c5f2f');\n",
       "var x = new MutationObserver(function (mutations, observer) {{\n",
       "        var display = window.getComputedStyle(gd).display;\n",
       "        if (!display || display === 'none') {{\n",
       "            console.log([gd, 'removed!']);\n",
       "            Plotly.purge(gd);\n",
       "            observer.disconnect();\n",
       "        }}\n",
       "}});\n",
       "\n",
       "// Listen for the removal of the full notebook cells\n",
       "var notebookContainer = gd.closest('#notebook-container');\n",
       "if (notebookContainer) {{\n",
       "    x.observe(notebookContainer, {childList: true});\n",
       "}}\n",
       "\n",
       "// Listen for the clearing of the current output cell\n",
       "var outputEl = gd.closest('.output');\n",
       "if (outputEl) {{\n",
       "    x.observe(outputEl, {childList: true});\n",
       "}}\n",
       "\n",
       "                        })\n",
       "                };\n",
       "                });\n",
       "            </script>\n",
       "        </div>"
      ]
     },
     "metadata": {},
     "output_type": "display_data"
    }
   ],
   "source": [
    "fig = ff.create_distplot([news_articles['headline'].str.len()], [\"ht\"],show_hist=False,show_rug=False)\n",
    "fig['layout'].update(title={'text':'PDF','y':0.9,'x':0.5,'xanchor': 'center','yanchor': 'top'}, xaxis_title=\"Length of a headline\",yaxis_title=\"probability\")\n",
    "fig.update_layout(showlegend = False,width=500,height=500)\n",
    "fig"
   ]
  },
  {
   "cell_type": "markdown",
   "metadata": {},
   "source": [
    "The probability distribution function of headline length is almost similar to a **Guassian distribution**, where most of the headlines are 58 to 80 words long in length. "
   ]
  },
  {
   "cell_type": "markdown",
   "metadata": {},
   "source": [
    "By Data processing in Step 2, we get a subset of original dataset which has different index labels so let's make the indices uniform ranging from 0 to total number of articles. "
   ]
  },
  {
   "cell_type": "code",
   "execution_count": 15,
   "metadata": {},
   "outputs": [],
   "source": [
    "news_articles.index = range(news_articles.shape[0])"
   ]
  },
  {
   "cell_type": "code",
   "execution_count": 16,
   "metadata": {},
   "outputs": [],
   "source": [
    "# Adding a new column containing both day of the week and month, it will be required later while recommending based on day of the week and month\n",
    "news_articles[\"day and month\"] = news_articles[\"date\"].dt.strftime(\"%a\") + \"_\" + news_articles[\"date\"].dt.strftime(\"%b\")"
   ]
  },
  {
   "cell_type": "markdown",
   "metadata": {},
   "source": [
    "Since after text preprocessing the original headlines will be modified and it doesn't make sense to recommend articles by displaying modified headlines so let's copy the dataset into some other dataset and perform text preprocessing on the later."
   ]
  },
  {
   "cell_type": "code",
   "execution_count": 17,
   "metadata": {},
   "outputs": [],
   "source": [
    "news_articles_temp = news_articles.copy()"
   ]
  },
  {
   "cell_type": "markdown",
   "metadata": {},
   "source": [
    "## 5. Text Preprocessing"
   ]
  },
  {
   "cell_type": "markdown",
   "metadata": {},
   "source": [
    "### 5.a Stopwords removal"
   ]
  },
  {
   "cell_type": "markdown",
   "metadata": {},
   "source": [
    "Stop words are not much helpful in analyis and also their inclusion consumes much time during processing so let's remove these. "
   ]
  },
  {
   "cell_type": "code",
   "execution_count": 18,
   "metadata": {},
   "outputs": [],
   "source": [
    "stop_words = set(stopwords.words('english'))"
   ]
  },
  {
   "cell_type": "code",
   "execution_count": 19,
   "metadata": {},
   "outputs": [
    {
     "name": "stdout",
     "output_type": "stream",
     "text": [
      "0\n",
      "1000\n",
      "2000\n",
      "3000\n",
      "4000\n",
      "5000\n",
      "6000\n",
      "7000\n",
      "8000\n"
     ]
    }
   ],
   "source": [
    "for i in range(len(news_articles_temp[\"headline\"])):\n",
    "    string = \"\"\n",
    "    for word in news_articles_temp[\"headline\"][i].split():\n",
    "        word = (\"\".join(e for e in word if e.isalnum()))\n",
    "        word = word.lower()\n",
    "        if not word in stop_words:\n",
    "          string += word + \" \"  \n",
    "    if(i%1000==0):\n",
    "      print(i)           # To track number of records processed\n",
    "    news_articles_temp.at[i,\"headline\"] = string.strip()"
   ]
  },
  {
   "cell_type": "markdown",
   "metadata": {},
   "source": [
    "### 5.b Lemmatization"
   ]
  },
  {
   "cell_type": "markdown",
   "metadata": {},
   "source": [
    "Let's find the base form(lemma) of words to consider different inflections of a word same as lemma."
   ]
  },
  {
   "cell_type": "code",
   "execution_count": 20,
   "metadata": {},
   "outputs": [],
   "source": [
    "lemmatizer = WordNetLemmatizer()"
   ]
  },
  {
   "cell_type": "code",
   "execution_count": 21,
   "metadata": {},
   "outputs": [
    {
     "name": "stdout",
     "output_type": "stream",
     "text": [
      "0\n",
      "1000\n",
      "2000\n",
      "3000\n",
      "4000\n",
      "5000\n",
      "6000\n",
      "7000\n",
      "8000\n"
     ]
    }
   ],
   "source": [
    "for i in range(len(news_articles_temp[\"headline\"])):\n",
    "    string = \"\"\n",
    "    for w in word_tokenize(news_articles_temp[\"headline\"][i]):\n",
    "        string += lemmatizer.lemmatize(w,pos = \"v\") + \" \"\n",
    "    news_articles_temp.at[i, \"headline\"] = string.strip()\n",
    "    if(i%1000==0):\n",
    "        print(i)           # To track number of records processed"
   ]
  },
  {
   "cell_type": "markdown",
   "metadata": {},
   "source": [
    "## 6. Headline based similarity on new articles"
   ]
  },
  {
   "cell_type": "markdown",
   "metadata": {},
   "source": [
    "Generally, we assess **similarity** based on **distance**. If the **distance** is minimum then high **similarity** and if it is maximum then low **similarity**.\n",
    "To calculate the **distance**, we need to represent the headline as a **d-dimensional** vector. Then we can find out the **similarity** based on the **distance** between vectors.\n",
    "\n",
    "There are multiple methods to represent a **text** as **d-dimensional** vector like **Bag of words**, **TF-IDF method**, **Word2Vec embedding** etc. Each method has its own advantages and disadvantages. \n",
    "\n",
    "Let's see the feature representation of headline through all the methods one by one."
   ]
  },
  {
   "cell_type": "markdown",
   "metadata": {},
   "source": [
    "### 6.a Using Bag of Words method"
   ]
  },
  {
   "cell_type": "markdown",
   "metadata": {},
   "source": [
    "A **Bag of Words(BoW)** method represents the occurence of words within a **document**. Here, each headline can be considered as a **document** and set of all headlines form a **corpus**.\n",
    "\n",
    "Using **BoW** approach, each **document** is represented by a **d-dimensional** vector, where **d** is total number of **unique words** in the corpus. The set of such unique words forms the **Vocabulary**."
   ]
  },
  {
   "cell_type": "code",
   "execution_count": 22,
   "metadata": {},
   "outputs": [],
   "source": [
    "headline_vectorizer = CountVectorizer()\n",
    "headline_features   = headline_vectorizer.fit_transform(news_articles_temp['headline'])"
   ]
  },
  {
   "cell_type": "code",
   "execution_count": 23,
   "metadata": {},
   "outputs": [
    {
     "data": {
      "text/plain": [
       "(8485, 11122)"
      ]
     },
     "execution_count": 23,
     "metadata": {},
     "output_type": "execute_result"
    }
   ],
   "source": [
    "headline_features.get_shape()"
   ]
  },
  {
   "cell_type": "markdown",
   "metadata": {},
   "source": [
    "The output **BoW matrix**(headline_features) is a sparse matrix."
   ]
  },
  {
   "cell_type": "code",
   "execution_count": 24,
   "metadata": {},
   "outputs": [],
   "source": [
    "pd.set_option('display.max_colwidth', -1)  # To display a very long headline completely"
   ]
  },
  {
   "cell_type": "code",
   "execution_count": 25,
   "metadata": {},
   "outputs": [
    {
     "name": "stdout",
     "output_type": "stream",
     "text": [
      "============================== Queried article details ==============================\n",
      "headline :  Woman Fired After Flipping Off Trump's Motorcade Sues Former Employer\n",
      "\n",
      " ========================= Recommended articles :  =======================\n"
     ]
    },
    {
     "data": {
      "text/html": [
       "<div>\n",
       "<style scoped>\n",
       "    .dataframe tbody tr th:only-of-type {\n",
       "        vertical-align: middle;\n",
       "    }\n",
       "\n",
       "    .dataframe tbody tr th {\n",
       "        vertical-align: top;\n",
       "    }\n",
       "\n",
       "    .dataframe thead th {\n",
       "        text-align: right;\n",
       "    }\n",
       "</style>\n",
       "<table border=\"1\" class=\"dataframe\">\n",
       "  <thead>\n",
       "    <tr style=\"text-align: right;\">\n",
       "      <th></th>\n",
       "      <th>publish_date</th>\n",
       "      <th>headline</th>\n",
       "      <th>Euclidean similarity with the queried article</th>\n",
       "    </tr>\n",
       "  </thead>\n",
       "  <tbody>\n",
       "    <tr>\n",
       "      <th>1</th>\n",
       "      <td>2018-04-02</td>\n",
       "      <td>The Trump Administration Is Suing California Again</td>\n",
       "      <td>2.828427</td>\n",
       "    </tr>\n",
       "    <tr>\n",
       "      <th>2</th>\n",
       "      <td>2018-05-01</td>\n",
       "      <td>Texas Sues Trump Administration To End DACA</td>\n",
       "      <td>3.162278</td>\n",
       "    </tr>\n",
       "    <tr>\n",
       "      <th>3</th>\n",
       "      <td>2018-03-07</td>\n",
       "      <td>Stormy Daniels Suing Trump Over Nondisclosure Agreement</td>\n",
       "      <td>3.162278</td>\n",
       "    </tr>\n",
       "    <tr>\n",
       "      <th>4</th>\n",
       "      <td>2018-04-28</td>\n",
       "      <td>Trump: Mueller Should Never Have Been Appointed</td>\n",
       "      <td>3.162278</td>\n",
       "    </tr>\n",
       "    <tr>\n",
       "      <th>5</th>\n",
       "      <td>2018-04-24</td>\n",
       "      <td>Spanish Woman Looks More Like Trump Than The Donald Himself</td>\n",
       "      <td>3.162278</td>\n",
       "    </tr>\n",
       "    <tr>\n",
       "      <th>6</th>\n",
       "      <td>2018-02-12</td>\n",
       "      <td>What You Should Know About Trump's Nihilist Budget</td>\n",
       "      <td>3.162278</td>\n",
       "    </tr>\n",
       "    <tr>\n",
       "      <th>7</th>\n",
       "      <td>2018-05-09</td>\n",
       "      <td>The Caliphate Of Trump And A Planet In Ruins</td>\n",
       "      <td>3.162278</td>\n",
       "    </tr>\n",
       "    <tr>\n",
       "      <th>8</th>\n",
       "      <td>2018-03-26</td>\n",
       "      <td>Trump Ally Sues Qatar For Hacking His Email</td>\n",
       "      <td>3.162278</td>\n",
       "    </tr>\n",
       "    <tr>\n",
       "      <th>9</th>\n",
       "      <td>2018-02-21</td>\n",
       "      <td>All They Will Call You Will Be Deportees</td>\n",
       "      <td>3.162278</td>\n",
       "    </tr>\n",
       "    <tr>\n",
       "      <th>10</th>\n",
       "      <td>2018-04-11</td>\n",
       "      <td>Pursuing Desegregation In The Trump Era</td>\n",
       "      <td>3.162278</td>\n",
       "    </tr>\n",
       "  </tbody>\n",
       "</table>\n",
       "</div>"
      ],
      "text/plain": [
       "   publish_date                                                     headline  \\\n",
       "1  2018-04-02    The Trump Administration Is Suing California Again            \n",
       "2  2018-05-01    Texas Sues Trump Administration To End DACA                   \n",
       "3  2018-03-07    Stormy Daniels Suing Trump Over Nondisclosure Agreement       \n",
       "4  2018-04-28    Trump: Mueller Should Never Have Been Appointed               \n",
       "5  2018-04-24    Spanish Woman Looks More Like Trump Than The Donald Himself   \n",
       "6  2018-02-12    What You Should Know About Trump's Nihilist Budget            \n",
       "7  2018-05-09    The Caliphate Of Trump And A Planet In Ruins                  \n",
       "8  2018-03-26    Trump Ally Sues Qatar For Hacking His Email                   \n",
       "9  2018-02-21    All They Will Call You Will Be Deportees                      \n",
       "10 2018-04-11    Pursuing Desegregation In The Trump Era                       \n",
       "\n",
       "    Euclidean similarity with the queried article  \n",
       "1   2.828427                                       \n",
       "2   3.162278                                       \n",
       "3   3.162278                                       \n",
       "4   3.162278                                       \n",
       "5   3.162278                                       \n",
       "6   3.162278                                       \n",
       "7   3.162278                                       \n",
       "8   3.162278                                       \n",
       "9   3.162278                                       \n",
       "10  3.162278                                       "
      ]
     },
     "execution_count": 25,
     "metadata": {},
     "output_type": "execute_result"
    }
   ],
   "source": [
    "def bag_of_words_based_model(row_index, num_similar_items):\n",
    "    couple_dist = pairwise_distances(headline_features,headline_features[row_index])\n",
    "    indices = np.argsort(couple_dist.ravel())[0:num_similar_items]\n",
    "    df = pd.DataFrame({'publish_date': news_articles['date'][indices].values,\n",
    "               'headline':news_articles['headline'][indices].values,\n",
    "                'Euclidean similarity with the queried article': couple_dist[indices].ravel()})\n",
    "    print(\"=\"*30,\"Queried article details\",\"=\"*30)\n",
    "    print('headline : ',news_articles['headline'][indices[0]])\n",
    "    print(\"\\n\",\"=\"*25,\"Recommended articles : \",\"=\"*23)\n",
    "    #return df.iloc[1:,1]\n",
    "    return df.iloc[1:,]\n",
    "\n",
    "bag_of_words_based_model(133, 11) # Change the row index for any other queried article"
   ]
  },
  {
   "cell_type": "markdown",
   "metadata": {},
   "source": [
    "Above function recommends **10 similar** articles to the **queried**(read) article based on the headline. It accepts two arguments - index of already read artile and the total number of articles to be recommended.\n",
    "\n",
    "Based on the **Euclidean distance** it finds out 10 nearest neighbors and recommends. \n",
    "\n",
    "**Disadvantages**\n",
    "1. It gives very low **importance** to less frequently observed words in the corpus. Few words from the queried article like \"employer\", \"flip\", \"fire\" appear less frequently in the entire corpus so **BoW** method does not recommend any article whose headline contains these words. Since **trump** is commonly observed word in the corpus so it is recommending the articles with headline containing \"trump\".   \n",
    "2. **BoW** method doesn't preserve the order of words.\n",
    "\n",
    "To overcome the first disadvantage we use **TF-IDF** method for feature representation. \n"
   ]
  },
  {
   "cell_type": "markdown",
   "metadata": {},
   "source": [
    "### 6.b Using TF-IDF method"
   ]
  },
  {
   "cell_type": "markdown",
   "metadata": {},
   "source": [
    "**TF-IDF** method is a weighted measure which gives more importance to less frequent words in a corpus. It assigns a weight to each term(word) in a document based on **Term frequency(TF)** and **inverse document frequency(IDF)**.\n",
    "\n",
    "**TF(i,j)** = (# times word i appears in document j) / (# words in document j)\n",
    "\n",
    "**IDF(i,D)** = log_e(#documents in the corpus D) / (#documents containing word i)\n",
    "\n",
    "weight(i,j) = **TF(i,j)** x **IDF(i,D)**\n",
    "\n",
    "So if a word occurs more number of times in a document but less number of times in all other documents then its **TF-IDF** value will be high.\n"
   ]
  },
  {
   "cell_type": "code",
   "execution_count": 26,
   "metadata": {},
   "outputs": [],
   "source": [
    "tfidf_headline_vectorizer = TfidfVectorizer(min_df = 0)\n",
    "tfidf_headline_features = tfidf_headline_vectorizer.fit_transform(news_articles_temp['headline'])"
   ]
  },
  {
   "cell_type": "code",
   "execution_count": 27,
   "metadata": {},
   "outputs": [
    {
     "name": "stdout",
     "output_type": "stream",
     "text": [
      "============================== Queried article details ==============================\n",
      "headline :  Woman Fired After Flipping Off Trump's Motorcade Sues Former Employer\n",
      "\n",
      " ========================= Recommended articles :  =======================\n"
     ]
    },
    {
     "data": {
      "text/html": [
       "<div>\n",
       "<style scoped>\n",
       "    .dataframe tbody tr th:only-of-type {\n",
       "        vertical-align: middle;\n",
       "    }\n",
       "\n",
       "    .dataframe tbody tr th {\n",
       "        vertical-align: top;\n",
       "    }\n",
       "\n",
       "    .dataframe thead th {\n",
       "        text-align: right;\n",
       "    }\n",
       "</style>\n",
       "<table border=\"1\" class=\"dataframe\">\n",
       "  <thead>\n",
       "    <tr style=\"text-align: right;\">\n",
       "      <th></th>\n",
       "      <th>publish_date</th>\n",
       "      <th>headline</th>\n",
       "      <th>Euclidean similarity with the queried article</th>\n",
       "    </tr>\n",
       "  </thead>\n",
       "  <tbody>\n",
       "    <tr>\n",
       "      <th>1</th>\n",
       "      <td>2018-05-21</td>\n",
       "      <td>The Supreme Court Just Made It A Lot Harder For You To Sue Your Employer</td>\n",
       "      <td>1.164067</td>\n",
       "    </tr>\n",
       "    <tr>\n",
       "      <th>2</th>\n",
       "      <td>2018-04-02</td>\n",
       "      <td>The Trump Administration Is Suing California Again</td>\n",
       "      <td>1.253867</td>\n",
       "    </tr>\n",
       "    <tr>\n",
       "      <th>3</th>\n",
       "      <td>2018-04-10</td>\n",
       "      <td>Lou Dobbs Flips Out On Live TV, Urges Trump To 'Fire The SOB' Robert Mueller</td>\n",
       "      <td>1.258810</td>\n",
       "    </tr>\n",
       "    <tr>\n",
       "      <th>4</th>\n",
       "      <td>2018-04-26</td>\n",
       "      <td>Cardi B's Former Manager Sues Her For $10 Million</td>\n",
       "      <td>1.268704</td>\n",
       "    </tr>\n",
       "    <tr>\n",
       "      <th>5</th>\n",
       "      <td>2018-04-03</td>\n",
       "      <td>A Third Woman Is Suing To Break A Trump-Related Nondisclosure Agreement</td>\n",
       "      <td>1.274264</td>\n",
       "    </tr>\n",
       "    <tr>\n",
       "      <th>6</th>\n",
       "      <td>2018-02-24</td>\n",
       "      <td>Former RNC Chair Fires Back At Claim He Was Only Hired Because He Was Black</td>\n",
       "      <td>1.274847</td>\n",
       "    </tr>\n",
       "    <tr>\n",
       "      <th>7</th>\n",
       "      <td>2018-01-16</td>\n",
       "      <td>State Employer Side Payroll Taxes And Loser Liberalism</td>\n",
       "      <td>1.276696</td>\n",
       "    </tr>\n",
       "    <tr>\n",
       "      <th>8</th>\n",
       "      <td>2018-02-21</td>\n",
       "      <td>Democrats Flip Kentucky State House Seat Where Trump Won Overwhelmingly</td>\n",
       "      <td>1.282008</td>\n",
       "    </tr>\n",
       "    <tr>\n",
       "      <th>9</th>\n",
       "      <td>2018-01-09</td>\n",
       "      <td>Big Tax Game Hunting: Employer Side Payroll Taxes</td>\n",
       "      <td>1.285147</td>\n",
       "    </tr>\n",
       "    <tr>\n",
       "      <th>10</th>\n",
       "      <td>2018-02-28</td>\n",
       "      <td>Democrats Flip 2 More GOP-Held State House Seats</td>\n",
       "      <td>1.287403</td>\n",
       "    </tr>\n",
       "  </tbody>\n",
       "</table>\n",
       "</div>"
      ],
      "text/plain": [
       "   publish_date  \\\n",
       "1  2018-05-21     \n",
       "2  2018-04-02     \n",
       "3  2018-04-10     \n",
       "4  2018-04-26     \n",
       "5  2018-04-03     \n",
       "6  2018-02-24     \n",
       "7  2018-01-16     \n",
       "8  2018-02-21     \n",
       "9  2018-01-09     \n",
       "10 2018-02-28     \n",
       "\n",
       "                                                                        headline  \\\n",
       "1   The Supreme Court Just Made It A Lot Harder For You To Sue Your Employer       \n",
       "2   The Trump Administration Is Suing California Again                             \n",
       "3   Lou Dobbs Flips Out On Live TV, Urges Trump To 'Fire The SOB' Robert Mueller   \n",
       "4   Cardi B's Former Manager Sues Her For $10 Million                              \n",
       "5   A Third Woman Is Suing To Break A Trump-Related Nondisclosure Agreement        \n",
       "6   Former RNC Chair Fires Back At Claim He Was Only Hired Because He Was Black    \n",
       "7   State Employer Side Payroll Taxes And Loser Liberalism                         \n",
       "8   Democrats Flip Kentucky State House Seat Where Trump Won Overwhelmingly        \n",
       "9   Big Tax Game Hunting: Employer Side Payroll Taxes                              \n",
       "10  Democrats Flip 2 More GOP-Held State House Seats                               \n",
       "\n",
       "    Euclidean similarity with the queried article  \n",
       "1   1.164067                                       \n",
       "2   1.253867                                       \n",
       "3   1.258810                                       \n",
       "4   1.268704                                       \n",
       "5   1.274264                                       \n",
       "6   1.274847                                       \n",
       "7   1.276696                                       \n",
       "8   1.282008                                       \n",
       "9   1.285147                                       \n",
       "10  1.287403                                       "
      ]
     },
     "execution_count": 27,
     "metadata": {},
     "output_type": "execute_result"
    }
   ],
   "source": [
    "def tfidf_based_model(row_index, num_similar_items):\n",
    "    couple_dist = pairwise_distances(tfidf_headline_features,tfidf_headline_features[row_index])\n",
    "    indices = np.argsort(couple_dist.ravel())[0:num_similar_items]\n",
    "    df = pd.DataFrame({'publish_date': news_articles['date'][indices].values,\n",
    "               'headline':news_articles['headline'][indices].values,\n",
    "                'Euclidean similarity with the queried article': couple_dist[indices].ravel()})\n",
    "    print(\"=\"*30,\"Queried article details\",\"=\"*30)\n",
    "    print('headline : ',news_articles['headline'][indices[0]])\n",
    "    print(\"\\n\",\"=\"*25,\"Recommended articles : \",\"=\"*23)\n",
    "    \n",
    "    #return df.iloc[1:,1]\n",
    "    return df.iloc[1:,]\n",
    "tfidf_based_model(133, 11)"
   ]
  },
  {
   "cell_type": "markdown",
   "metadata": {},
   "source": [
    "Compared to **BoW** method, here **TF-IDF** method recommends the articles with headline containing words like \"employer\", \"fire\", \"flip\" in top 5 recommendations and these words occur less frequently in the corpus.   "
   ]
  },
  {
   "cell_type": "markdown",
   "metadata": {},
   "source": [
    "**Disadvantages :- **\n",
    "\n",
    "**Bow** and **TF-IDF** method do not capture **semantic** and **syntactic** similarity of a given word with other words but this can be captured using **Word embeddings**.\n",
    "\n",
    "For example: there is a good association between words like \"trump\" and \"white house\", \"office and employee\", \"tiger\" and \"leopard\", \"USA\" and \"Washington D.C\" etc. Such kind of **semantic** similarity can be captured using **word embedding** techniques.\n",
    "**Word embedding** techniques like **Word2Vec**, **GloVe** and **fastText** leverage semantic similarity between words. "
   ]
  },
  {
   "cell_type": "markdown",
   "metadata": {},
   "source": [
    "### 6.c Using Word2Vec embedding"
   ]
  },
  {
   "cell_type": "markdown",
   "metadata": {},
   "source": [
    "**Word2Vec** is one of the techniques for **semantic** similarity which was invented by **Google** in 2013. For a given corpus, during training it observes the patterns and respresents each word by a **d-dimensional** vector. To get better results we need fairly large corpus.\n",
    "\n",
    "Since our corpus size is small so let's use Google's pretrained model on **google news** articles. This standard model contains vector representation for billions of words obtained by training on millions of new articles. Here, each word is represented by a **300** dimensional dense vector. \n",
    "\n",
    "\n"
   ]
  },
  {
   "cell_type": "code",
   "execution_count": 28,
   "metadata": {},
   "outputs": [],
   "source": [
    "from gensim.models import Word2Vec\n",
    "from gensim.models import KeyedVectors\n",
    "import pickle"
   ]
  },
  {
   "cell_type": "markdown",
   "metadata": {},
   "source": [
    "Since this **pre-trained Word2Vec** model is **1.5 GB** in compressed form. So it needs a high end RAM to load it in the memory after unzipping.\n",
    "\n",
    "Here, we are loading this pre-build model from a **pickle** file which contains this model in advance."
   ]
  },
  {
   "cell_type": "code",
   "execution_count": 29,
   "metadata": {},
   "outputs": [],
   "source": [
    "os.chdir(r'/kaggle/input/')"
   ]
  },
  {
   "cell_type": "code",
   "execution_count": 30,
   "metadata": {},
   "outputs": [
    {
     "name": "stdout",
     "output_type": "stream",
     "text": [
      "googlew2v  news-category-dataset\r\n"
     ]
    }
   ],
   "source": [
    "!ls"
   ]
  },
  {
   "cell_type": "code",
   "execution_count": 31,
   "metadata": {},
   "outputs": [],
   "source": [
    "with open('googlew2v/word2vec_model', 'rb') as file:\n",
    "    loaded_model = pickle.load(file)"
   ]
  },
  {
   "cell_type": "markdown",
   "metadata": {},
   "source": [
    "Since the model gives vector representation for each **word** but we calculate the distance between **headlines** so we need to obtain vector representation for each **headline**. One way to obtain this is by first adding vector representation of all the words available in the **headline** and then calculating the average. It is also known as **average Word2Vec** model.   \n",
    "\n",
    "Below code cell performs the same. "
   ]
  },
  {
   "cell_type": "code",
   "execution_count": 32,
   "metadata": {},
   "outputs": [],
   "source": [
    "vocabulary = loaded_model.keys()\n",
    "w2v_headline = []\n",
    "for i in news_articles_temp['headline']:\n",
    "    w2Vec_word = np.zeros(300, dtype=\"float32\")\n",
    "    for word in i.split():\n",
    "        if word in vocabulary:\n",
    "            w2Vec_word = np.add(w2Vec_word, loaded_model[word])\n",
    "    w2Vec_word = np.divide(w2Vec_word, len(i.split()))\n",
    "    w2v_headline.append(w2Vec_word)\n",
    "w2v_headline = np.array(w2v_headline)"
   ]
  },
  {
   "cell_type": "code",
   "execution_count": 33,
   "metadata": {},
   "outputs": [
    {
     "name": "stdout",
     "output_type": "stream",
     "text": [
      "============================== Queried article details ==============================\n",
      "headline :  Woman Fired After Flipping Off Trump's Motorcade Sues Former Employer\n",
      "\n",
      " ========================= Recommended articles :  =======================\n"
     ]
    },
    {
     "data": {
      "text/html": [
       "<div>\n",
       "<style scoped>\n",
       "    .dataframe tbody tr th:only-of-type {\n",
       "        vertical-align: middle;\n",
       "    }\n",
       "\n",
       "    .dataframe tbody tr th {\n",
       "        vertical-align: top;\n",
       "    }\n",
       "\n",
       "    .dataframe thead th {\n",
       "        text-align: right;\n",
       "    }\n",
       "</style>\n",
       "<table border=\"1\" class=\"dataframe\">\n",
       "  <thead>\n",
       "    <tr style=\"text-align: right;\">\n",
       "      <th></th>\n",
       "      <th>publish_date</th>\n",
       "      <th>headline</th>\n",
       "      <th>Euclidean similarity with the queried article</th>\n",
       "    </tr>\n",
       "  </thead>\n",
       "  <tbody>\n",
       "    <tr>\n",
       "      <th>1</th>\n",
       "      <td>2018-03-19</td>\n",
       "      <td>White House Lawyer Insists Trump Isn't Considering Firing Mueller</td>\n",
       "      <td>0.746579</td>\n",
       "    </tr>\n",
       "    <tr>\n",
       "      <th>2</th>\n",
       "      <td>2018-01-26</td>\n",
       "      <td>White House Spent Months Denying That Trump Considered Firing Mueller</td>\n",
       "      <td>0.773220</td>\n",
       "    </tr>\n",
       "    <tr>\n",
       "      <th>3</th>\n",
       "      <td>2018-02-20</td>\n",
       "      <td>Trump Claims He 'Never Met' Woman Accusing Him Of Sexually Assaulting Her In Trump Tower</td>\n",
       "      <td>0.802719</td>\n",
       "    </tr>\n",
       "    <tr>\n",
       "      <th>4</th>\n",
       "      <td>2018-04-03</td>\n",
       "      <td>17 States Sue Trump Administration Over Census Citizenship Question</td>\n",
       "      <td>0.803982</td>\n",
       "    </tr>\n",
       "    <tr>\n",
       "      <th>5</th>\n",
       "      <td>2018-02-03</td>\n",
       "      <td>Husband Of Former Trump Household Staffer Now An EPA Official</td>\n",
       "      <td>0.809882</td>\n",
       "    </tr>\n",
       "    <tr>\n",
       "      <th>6</th>\n",
       "      <td>2018-05-04</td>\n",
       "      <td>Giuliani Tells Mueller To Back Off ‘Fine Woman’ Ivanka Trump But Calls Kushner 'Disposable'</td>\n",
       "      <td>0.824002</td>\n",
       "    </tr>\n",
       "    <tr>\n",
       "      <th>7</th>\n",
       "      <td>2018-03-07</td>\n",
       "      <td>Former Trump Attorney Stuns 'Fox &amp; Friends,' Says Stormy Daniels NDA Is Likely Invalid</td>\n",
       "      <td>0.837785</td>\n",
       "    </tr>\n",
       "    <tr>\n",
       "      <th>8</th>\n",
       "      <td>2018-05-03</td>\n",
       "      <td>Giuliani Says Trump Repaid Lawyer For $130,000 Payment To Stormy Daniels</td>\n",
       "      <td>0.839581</td>\n",
       "    </tr>\n",
       "    <tr>\n",
       "      <th>9</th>\n",
       "      <td>2018-02-25</td>\n",
       "      <td>Olympian Gus Kenworthy Burns Ivanka Trump: 'TF Is She Doing Here?'</td>\n",
       "      <td>0.839814</td>\n",
       "    </tr>\n",
       "    <tr>\n",
       "      <th>10</th>\n",
       "      <td>2018-01-25</td>\n",
       "      <td>Trump HUD Official Lynne Patton Under Fire After Calling Journalist 'Miss Piggy'</td>\n",
       "      <td>0.842145</td>\n",
       "    </tr>\n",
       "  </tbody>\n",
       "</table>\n",
       "</div>"
      ],
      "text/plain": [
       "   publish_date  \\\n",
       "1  2018-03-19     \n",
       "2  2018-01-26     \n",
       "3  2018-02-20     \n",
       "4  2018-04-03     \n",
       "5  2018-02-03     \n",
       "6  2018-05-04     \n",
       "7  2018-03-07     \n",
       "8  2018-05-03     \n",
       "9  2018-02-25     \n",
       "10 2018-01-25     \n",
       "\n",
       "                                                                                       headline  \\\n",
       "1   White House Lawyer Insists Trump Isn't Considering Firing Mueller                             \n",
       "2   White House Spent Months Denying That Trump Considered Firing Mueller                         \n",
       "3   Trump Claims He 'Never Met' Woman Accusing Him Of Sexually Assaulting Her In Trump Tower      \n",
       "4   17 States Sue Trump Administration Over Census Citizenship Question                           \n",
       "5   Husband Of Former Trump Household Staffer Now An EPA Official                                 \n",
       "6   Giuliani Tells Mueller To Back Off ‘Fine Woman’ Ivanka Trump But Calls Kushner 'Disposable'   \n",
       "7   Former Trump Attorney Stuns 'Fox & Friends,' Says Stormy Daniels NDA Is Likely Invalid        \n",
       "8   Giuliani Says Trump Repaid Lawyer For $130,000 Payment To Stormy Daniels                      \n",
       "9   Olympian Gus Kenworthy Burns Ivanka Trump: 'TF Is She Doing Here?'                            \n",
       "10  Trump HUD Official Lynne Patton Under Fire After Calling Journalist 'Miss Piggy'              \n",
       "\n",
       "    Euclidean similarity with the queried article  \n",
       "1   0.746579                                       \n",
       "2   0.773220                                       \n",
       "3   0.802719                                       \n",
       "4   0.803982                                       \n",
       "5   0.809882                                       \n",
       "6   0.824002                                       \n",
       "7   0.837785                                       \n",
       "8   0.839581                                       \n",
       "9   0.839814                                       \n",
       "10  0.842145                                       "
      ]
     },
     "execution_count": 33,
     "metadata": {},
     "output_type": "execute_result"
    }
   ],
   "source": [
    "def avg_w2v_based_model(row_index, num_similar_items):\n",
    "    couple_dist = pairwise_distances(w2v_headline, w2v_headline[row_index].reshape(1,-1))\n",
    "    indices = np.argsort(couple_dist.ravel())[0:num_similar_items]\n",
    "    df = pd.DataFrame({'publish_date': news_articles['date'][indices].values,\n",
    "               'headline':news_articles['headline'][indices].values,\n",
    "                'Euclidean similarity with the queried article': couple_dist[indices].ravel()})\n",
    "    print(\"=\"*30,\"Queried article details\",\"=\"*30)\n",
    "    print('headline : ',news_articles['headline'][indices[0]])\n",
    "    print(\"\\n\",\"=\"*25,\"Recommended articles : \",\"=\"*23)\n",
    "    #return df.iloc[1:,1]\n",
    "    return df.iloc[1:,]\n",
    "\n",
    "avg_w2v_based_model(133, 11)"
   ]
  },
  {
   "cell_type": "markdown",
   "metadata": {},
   "source": [
    "Here, **Word2Vec** based representation recommends the headlines containing the word **white house** which is associated with the word **trump** in the queried article. Similarly, it recommends the headlines with words like \"offical\", \"insist\" which have semantic similarity to the words \"employer\", \"sue\" in the queried headline."
   ]
  },
  {
   "cell_type": "markdown",
   "metadata": {},
   "source": [
    "So far we were recommending using only one feature i.e. **headline** but in order to make a **robust** recommender system we need to consider **multiple** features at a time. Based on the business interest and rules, we can decide weight for each feature.\n",
    "\n",
    "Let's see different models with combinations of different features for article similarity."
   ]
  },
  {
   "cell_type": "markdown",
   "metadata": {},
   "source": [
    "### 6.d Weighted similarity based on headline and category"
   ]
  },
  {
   "cell_type": "markdown",
   "metadata": {},
   "source": [
    "Let's first see articles similarity based on **headline** and **category**. We are using **onehot encoding** to get feature representation for **category**.\n",
    "\n",
    "Sometimes as per the business requirements, we may need to give more preference to the articles from the same **category**. In such cases we can assign more weight to **category** while recommending. Higher the weight, more the significance. Similarly less weight leads to less signficance to a particular feature.\n"
   ]
  },
  {
   "cell_type": "code",
   "execution_count": 34,
   "metadata": {},
   "outputs": [],
   "source": [
    "from sklearn.preprocessing import OneHotEncoder "
   ]
  },
  {
   "cell_type": "code",
   "execution_count": 35,
   "metadata": {},
   "outputs": [],
   "source": [
    "category_onehot_encoded = OneHotEncoder().fit_transform(np.array(news_articles_temp[\"category\"]).reshape(-1,1))"
   ]
  },
  {
   "cell_type": "code",
   "execution_count": 36,
   "metadata": {},
   "outputs": [
    {
     "name": "stdout",
     "output_type": "stream",
     "text": [
      "============================== Queried article details ==============================\n",
      "headline :  Universities Tell Applicants That Protesting Gun Violence Won’t Affect Admissions\n",
      "Categoty :  EDUCATION\n",
      "\n",
      " ========================= Recommended articles :  =======================\n"
     ]
    },
    {
     "data": {
      "text/html": [
       "<div>\n",
       "<style scoped>\n",
       "    .dataframe tbody tr th:only-of-type {\n",
       "        vertical-align: middle;\n",
       "    }\n",
       "\n",
       "    .dataframe tbody tr th {\n",
       "        vertical-align: top;\n",
       "    }\n",
       "\n",
       "    .dataframe thead th {\n",
       "        text-align: right;\n",
       "    }\n",
       "</style>\n",
       "<table border=\"1\" class=\"dataframe\">\n",
       "  <thead>\n",
       "    <tr style=\"text-align: right;\">\n",
       "      <th></th>\n",
       "      <th>publish_date</th>\n",
       "      <th>headline</th>\n",
       "      <th>Weighted Euclidean similarity with the queried article</th>\n",
       "      <th>Word2Vec based Euclidean similarity</th>\n",
       "      <th>Category based Euclidean similarity</th>\n",
       "      <th>Categoty</th>\n",
       "    </tr>\n",
       "  </thead>\n",
       "  <tbody>\n",
       "    <tr>\n",
       "      <th>1</th>\n",
       "      <td>2018-02-21</td>\n",
       "      <td>Texas District Says Students Protesting Gun Violence Will Get Suspended</td>\n",
       "      <td>0.969627</td>\n",
       "      <td>0.726643</td>\n",
       "      <td>1.0</td>\n",
       "      <td>EDUCATION</td>\n",
       "    </tr>\n",
       "    <tr>\n",
       "      <th>2</th>\n",
       "      <td>2018-04-02</td>\n",
       "      <td>Teachers Swarm Kentucky Capitol To Protest Pension Changes, School Budget Cuts</td>\n",
       "      <td>0.988327</td>\n",
       "      <td>0.894946</td>\n",
       "      <td>1.0</td>\n",
       "      <td>EDUCATION</td>\n",
       "    </tr>\n",
       "    <tr>\n",
       "      <th>3</th>\n",
       "      <td>2018-02-07</td>\n",
       "      <td>While Teachers Fight For Better Pay, West Virginia Lawmakers Discuss Opossums</td>\n",
       "      <td>0.995150</td>\n",
       "      <td>0.956346</td>\n",
       "      <td>1.0</td>\n",
       "      <td>EDUCATION</td>\n",
       "    </tr>\n",
       "    <tr>\n",
       "      <th>4</th>\n",
       "      <td>2018-04-16</td>\n",
       "      <td>Beyoncé Announces $100,000 In Scholarships For HBCU Students</td>\n",
       "      <td>0.995467</td>\n",
       "      <td>0.959200</td>\n",
       "      <td>1.0</td>\n",
       "      <td>EDUCATION</td>\n",
       "    </tr>\n",
       "    <tr>\n",
       "      <th>5</th>\n",
       "      <td>2018-04-04</td>\n",
       "      <td>Oklahoma Teachers Begin 110-Mile March To Protest Education Funding</td>\n",
       "      <td>0.999916</td>\n",
       "      <td>0.999242</td>\n",
       "      <td>1.0</td>\n",
       "      <td>EDUCATION</td>\n",
       "    </tr>\n",
       "    <tr>\n",
       "      <th>6</th>\n",
       "      <td>2018-02-06</td>\n",
       "      <td>Homeless Students, Destroyed Campuses, ‘Invisible Injuries’: What California Schools Learned From Recent Disasters</td>\n",
       "      <td>1.002493</td>\n",
       "      <td>1.022439</td>\n",
       "      <td>1.0</td>\n",
       "      <td>EDUCATION</td>\n",
       "    </tr>\n",
       "    <tr>\n",
       "      <th>7</th>\n",
       "      <td>2018-04-19</td>\n",
       "      <td>Desperate For Teachers, Districts Beg Retirees To Come Back</td>\n",
       "      <td>1.002621</td>\n",
       "      <td>1.023586</td>\n",
       "      <td>1.0</td>\n",
       "      <td>EDUCATION</td>\n",
       "    </tr>\n",
       "    <tr>\n",
       "      <th>8</th>\n",
       "      <td>2018-04-06</td>\n",
       "      <td>Puerto Rico To Shutter 283 More Schools This Summer As Education Crisis Deepens</td>\n",
       "      <td>1.003193</td>\n",
       "      <td>1.028740</td>\n",
       "      <td>1.0</td>\n",
       "      <td>EDUCATION</td>\n",
       "    </tr>\n",
       "    <tr>\n",
       "      <th>9</th>\n",
       "      <td>2018-02-20</td>\n",
       "      <td>Company That Sells Bulletproof Gucci And Hermès Bags Sees Huge Sales In School Backpacks</td>\n",
       "      <td>1.005712</td>\n",
       "      <td>1.051409</td>\n",
       "      <td>1.0</td>\n",
       "      <td>EDUCATION</td>\n",
       "    </tr>\n",
       "  </tbody>\n",
       "</table>\n",
       "</div>"
      ],
      "text/plain": [
       "  publish_date  \\\n",
       "1 2018-02-21     \n",
       "2 2018-04-02     \n",
       "3 2018-02-07     \n",
       "4 2018-04-16     \n",
       "5 2018-04-04     \n",
       "6 2018-02-06     \n",
       "7 2018-04-19     \n",
       "8 2018-04-06     \n",
       "9 2018-02-20     \n",
       "\n",
       "                                                                                                             headline  \\\n",
       "1  Texas District Says Students Protesting Gun Violence Will Get Suspended                                              \n",
       "2  Teachers Swarm Kentucky Capitol To Protest Pension Changes, School Budget Cuts                                       \n",
       "3  While Teachers Fight For Better Pay, West Virginia Lawmakers Discuss Opossums                                        \n",
       "4  Beyoncé Announces $100,000 In Scholarships For HBCU Students                                                         \n",
       "5  Oklahoma Teachers Begin 110-Mile March To Protest Education Funding                                                  \n",
       "6  Homeless Students, Destroyed Campuses, ‘Invisible Injuries’: What California Schools Learned From Recent Disasters   \n",
       "7  Desperate For Teachers, Districts Beg Retirees To Come Back                                                          \n",
       "8  Puerto Rico To Shutter 283 More Schools This Summer As Education Crisis Deepens                                      \n",
       "9  Company That Sells Bulletproof Gucci And Hermès Bags Sees Huge Sales In School Backpacks                             \n",
       "\n",
       "   Weighted Euclidean similarity with the queried article  \\\n",
       "1  0.969627                                                 \n",
       "2  0.988327                                                 \n",
       "3  0.995150                                                 \n",
       "4  0.995467                                                 \n",
       "5  0.999916                                                 \n",
       "6  1.002493                                                 \n",
       "7  1.002621                                                 \n",
       "8  1.003193                                                 \n",
       "9  1.005712                                                 \n",
       "\n",
       "   Word2Vec based Euclidean similarity  Category based Euclidean similarity  \\\n",
       "1  0.726643                             1.0                                   \n",
       "2  0.894946                             1.0                                   \n",
       "3  0.956346                             1.0                                   \n",
       "4  0.959200                             1.0                                   \n",
       "5  0.999242                             1.0                                   \n",
       "6  1.022439                             1.0                                   \n",
       "7  1.023586                             1.0                                   \n",
       "8  1.028740                             1.0                                   \n",
       "9  1.051409                             1.0                                   \n",
       "\n",
       "    Categoty  \n",
       "1  EDUCATION  \n",
       "2  EDUCATION  \n",
       "3  EDUCATION  \n",
       "4  EDUCATION  \n",
       "5  EDUCATION  \n",
       "6  EDUCATION  \n",
       "7  EDUCATION  \n",
       "8  EDUCATION  \n",
       "9  EDUCATION  "
      ]
     },
     "execution_count": 36,
     "metadata": {},
     "output_type": "execute_result"
    }
   ],
   "source": [
    "def avg_w2v_with_category(row_index, num_similar_items, w1,w2): #headline_preference = True, category_preference = False):\n",
    "    w2v_dist  = pairwise_distances(w2v_headline, w2v_headline[row_index].reshape(1,-1))\n",
    "    category_dist = pairwise_distances(category_onehot_encoded, category_onehot_encoded[row_index]) + 1\n",
    "    weighted_couple_dist   = (w1 * w2v_dist +  w2 * category_dist)/float(w1 + w2)\n",
    "    indices = np.argsort(weighted_couple_dist.flatten())[0:num_similar_items].tolist()\n",
    "    df = pd.DataFrame({'publish_date': news_articles['date'][indices].values,\n",
    "               'headline':news_articles['headline'][indices].values,\n",
    "                'Weighted Euclidean similarity with the queried article': weighted_couple_dist[indices].ravel(),\n",
    "                'Word2Vec based Euclidean similarity': w2v_dist[indices].ravel(),\n",
    "                 'Category based Euclidean similarity': category_dist[indices].ravel(),\n",
    "                'Categoty': news_articles['category'][indices].values})\n",
    "    \n",
    "    print(\"=\"*30,\"Queried article details\",\"=\"*30)\n",
    "    print('headline : ',news_articles['headline'][indices[0]])\n",
    "    print('Categoty : ', news_articles['category'][indices[0]])\n",
    "    print(\"\\n\",\"=\"*25,\"Recommended articles : \",\"=\"*23)\n",
    "    #return df.iloc[1:,[1,5]]\n",
    "    return df.iloc[1:, ]\n",
    "\n",
    "avg_w2v_with_category(528,10,0.1,0.8)"
   ]
  },
  {
   "cell_type": "markdown",
   "metadata": {},
   "source": [
    "Above function takes two extra arguments **w1** and **w2** for weights corresponding to **headline** and **category**. It is always a good practice to pass the **weights** in a range scaled from **0 to 1**, where a value close to 1 indicates high weight whereas close to 0 indicates less weight.  \n",
    "\n",
    "Here, we can observe that the recommended articles are from the same **category** as the queried article **category**. This is due to passing of high value to **w2**."
   ]
  },
  {
   "cell_type": "markdown",
   "metadata": {},
   "source": [
    "### 6.e Weighted similarity based on headline, category and author"
   ]
  },
  {
   "cell_type": "markdown",
   "metadata": {},
   "source": [
    "Now let's see calcualte articles similarity based on **author** along with **headline** and **category**. Again, we are encoding **author** through **onehot encoding**."
   ]
  },
  {
   "cell_type": "code",
   "execution_count": 37,
   "metadata": {},
   "outputs": [],
   "source": [
    "authors_onehot_encoded = OneHotEncoder().fit_transform(np.array(news_articles_temp[\"authors\"]).reshape(-1,1))"
   ]
  },
  {
   "cell_type": "code",
   "execution_count": 38,
   "metadata": {},
   "outputs": [
    {
     "name": "stdout",
     "output_type": "stream",
     "text": [
      "============================== Queried article details ==============================\n",
      "headline :  Universities Tell Applicants That Protesting Gun Violence Won’t Affect Admissions\n",
      "Categoty :  EDUCATION\n",
      "Authors :  Carla Herreria\n",
      "\n",
      " ========================= Recommended articles :  =======================\n"
     ]
    },
    {
     "data": {
      "text/html": [
       "<div>\n",
       "<style scoped>\n",
       "    .dataframe tbody tr th:only-of-type {\n",
       "        vertical-align: middle;\n",
       "    }\n",
       "\n",
       "    .dataframe tbody tr th {\n",
       "        vertical-align: top;\n",
       "    }\n",
       "\n",
       "    .dataframe thead th {\n",
       "        text-align: right;\n",
       "    }\n",
       "</style>\n",
       "<table border=\"1\" class=\"dataframe\">\n",
       "  <thead>\n",
       "    <tr style=\"text-align: right;\">\n",
       "      <th></th>\n",
       "      <th>publish_date</th>\n",
       "      <th>headline</th>\n",
       "      <th>Weighted Euclidean similarity with the queried article</th>\n",
       "      <th>Word2Vec based Euclidean similarity</th>\n",
       "      <th>Category based Euclidean similarity</th>\n",
       "      <th>Authors based Euclidean similarity</th>\n",
       "      <th>Categoty</th>\n",
       "      <th>Authors</th>\n",
       "    </tr>\n",
       "  </thead>\n",
       "  <tbody>\n",
       "    <tr>\n",
       "      <th>1</th>\n",
       "      <td>2018-04-29</td>\n",
       "      <td>Thousands Protest Across Spain After 5 Men Are Cleared Of Gang Rape</td>\n",
       "      <td>1.104443</td>\n",
       "      <td>0.839104</td>\n",
       "      <td>2.414214</td>\n",
       "      <td>1.0</td>\n",
       "      <td>WORLD NEWS</td>\n",
       "      <td>Carla Herreria</td>\n",
       "    </tr>\n",
       "    <tr>\n",
       "      <th>2</th>\n",
       "      <td>2018-01-24</td>\n",
       "      <td>Trustee Defends MSU President, Dismissing Sex Abuse Reports As ‘Nassar Thing’</td>\n",
       "      <td>1.104771</td>\n",
       "      <td>0.843041</td>\n",
       "      <td>2.414214</td>\n",
       "      <td>1.0</td>\n",
       "      <td>SPORTS</td>\n",
       "      <td>Carla Herreria</td>\n",
       "    </tr>\n",
       "    <tr>\n",
       "      <th>3</th>\n",
       "      <td>2018-03-23</td>\n",
       "      <td>Protests Shut Down Sacramento Kings Game, Freeways Over Stephon Clark's Death</td>\n",
       "      <td>1.106933</td>\n",
       "      <td>0.868987</td>\n",
       "      <td>2.414214</td>\n",
       "      <td>1.0</td>\n",
       "      <td>BLACK VOICES</td>\n",
       "      <td>Carla Herreria</td>\n",
       "    </tr>\n",
       "    <tr>\n",
       "      <th>4</th>\n",
       "      <td>2018-01-28</td>\n",
       "      <td>Garrison Keillor, Fired For Harassment, Goes After MPR And Accuser In Statement</td>\n",
       "      <td>1.107877</td>\n",
       "      <td>0.880313</td>\n",
       "      <td>2.414214</td>\n",
       "      <td>1.0</td>\n",
       "      <td>MEDIA</td>\n",
       "      <td>Carla Herreria</td>\n",
       "    </tr>\n",
       "    <tr>\n",
       "      <th>5</th>\n",
       "      <td>2018-01-26</td>\n",
       "      <td>GOP Rep. Pat Meehan Retiring Amid Reports Of Taxpayer-Funded Harassment Settlement</td>\n",
       "      <td>1.110423</td>\n",
       "      <td>0.910866</td>\n",
       "      <td>2.414214</td>\n",
       "      <td>1.0</td>\n",
       "      <td>POLITICS</td>\n",
       "      <td>Carla Herreria</td>\n",
       "    </tr>\n",
       "    <tr>\n",
       "      <th>6</th>\n",
       "      <td>2018-02-01</td>\n",
       "      <td>Rep. Adam Schiff: GOP's FBI Memo Could Lead To 'Constitutional Crisis'</td>\n",
       "      <td>1.111024</td>\n",
       "      <td>0.918069</td>\n",
       "      <td>2.414214</td>\n",
       "      <td>1.0</td>\n",
       "      <td>POLITICS</td>\n",
       "      <td>Carla Herreria</td>\n",
       "    </tr>\n",
       "    <tr>\n",
       "      <th>7</th>\n",
       "      <td>2018-05-25</td>\n",
       "      <td>Rachel Dolezal Faces Felony Charges For Welfare Fraud</td>\n",
       "      <td>1.111283</td>\n",
       "      <td>0.921177</td>\n",
       "      <td>2.414214</td>\n",
       "      <td>1.0</td>\n",
       "      <td>CRIME</td>\n",
       "      <td>Carla Herreria</td>\n",
       "    </tr>\n",
       "    <tr>\n",
       "      <th>8</th>\n",
       "      <td>2018-04-15</td>\n",
       "      <td>Prominent LGBTQ Lawyer Sets Self On Fire In 'Protest Suicide' Of Climate Change</td>\n",
       "      <td>1.111568</td>\n",
       "      <td>0.924607</td>\n",
       "      <td>2.414214</td>\n",
       "      <td>1.0</td>\n",
       "      <td>QUEER VOICES</td>\n",
       "      <td>Carla Herreria</td>\n",
       "    </tr>\n",
       "    <tr>\n",
       "      <th>9</th>\n",
       "      <td>2018-01-06</td>\n",
       "      <td>White Supremacist Charged With Terrorism After Alleged Attempt To Derail Train</td>\n",
       "      <td>1.112158</td>\n",
       "      <td>0.931681</td>\n",
       "      <td>2.414214</td>\n",
       "      <td>1.0</td>\n",
       "      <td>CRIME</td>\n",
       "      <td>Carla Herreria</td>\n",
       "    </tr>\n",
       "  </tbody>\n",
       "</table>\n",
       "</div>"
      ],
      "text/plain": [
       "  publish_date  \\\n",
       "1 2018-04-29     \n",
       "2 2018-01-24     \n",
       "3 2018-03-23     \n",
       "4 2018-01-28     \n",
       "5 2018-01-26     \n",
       "6 2018-02-01     \n",
       "7 2018-05-25     \n",
       "8 2018-04-15     \n",
       "9 2018-01-06     \n",
       "\n",
       "                                                                             headline  \\\n",
       "1  Thousands Protest Across Spain After 5 Men Are Cleared Of Gang Rape                  \n",
       "2  Trustee Defends MSU President, Dismissing Sex Abuse Reports As ‘Nassar Thing’        \n",
       "3  Protests Shut Down Sacramento Kings Game, Freeways Over Stephon Clark's Death        \n",
       "4  Garrison Keillor, Fired For Harassment, Goes After MPR And Accuser In Statement      \n",
       "5  GOP Rep. Pat Meehan Retiring Amid Reports Of Taxpayer-Funded Harassment Settlement   \n",
       "6  Rep. Adam Schiff: GOP's FBI Memo Could Lead To 'Constitutional Crisis'               \n",
       "7  Rachel Dolezal Faces Felony Charges For Welfare Fraud                                \n",
       "8  Prominent LGBTQ Lawyer Sets Self On Fire In 'Protest Suicide' Of Climate Change      \n",
       "9  White Supremacist Charged With Terrorism After Alleged Attempt To Derail Train       \n",
       "\n",
       "   Weighted Euclidean similarity with the queried article  \\\n",
       "1  1.104443                                                 \n",
       "2  1.104771                                                 \n",
       "3  1.106933                                                 \n",
       "4  1.107877                                                 \n",
       "5  1.110423                                                 \n",
       "6  1.111024                                                 \n",
       "7  1.111283                                                 \n",
       "8  1.111568                                                 \n",
       "9  1.112158                                                 \n",
       "\n",
       "   Word2Vec based Euclidean similarity  Category based Euclidean similarity  \\\n",
       "1  0.839104                             2.414214                              \n",
       "2  0.843041                             2.414214                              \n",
       "3  0.868987                             2.414214                              \n",
       "4  0.880313                             2.414214                              \n",
       "5  0.910866                             2.414214                              \n",
       "6  0.918069                             2.414214                              \n",
       "7  0.921177                             2.414214                              \n",
       "8  0.924607                             2.414214                              \n",
       "9  0.931681                             2.414214                              \n",
       "\n",
       "   Authors based Euclidean similarity      Categoty         Authors  \n",
       "1  1.0                                 WORLD NEWS    Carla Herreria  \n",
       "2  1.0                                 SPORTS        Carla Herreria  \n",
       "3  1.0                                 BLACK VOICES  Carla Herreria  \n",
       "4  1.0                                 MEDIA         Carla Herreria  \n",
       "5  1.0                                 POLITICS      Carla Herreria  \n",
       "6  1.0                                 POLITICS      Carla Herreria  \n",
       "7  1.0                                 CRIME         Carla Herreria  \n",
       "8  1.0                                 QUEER VOICES  Carla Herreria  \n",
       "9  1.0                                 CRIME         Carla Herreria  "
      ]
     },
     "execution_count": 38,
     "metadata": {},
     "output_type": "execute_result"
    }
   ],
   "source": [
    "def avg_w2v_with_category_and_authors(row_index, num_similar_items, w1,w2,w3): #headline_preference = True, category_preference = False):\n",
    "    w2v_dist  = pairwise_distances(w2v_headline, w2v_headline[row_index].reshape(1,-1))\n",
    "    category_dist = pairwise_distances(category_onehot_encoded, category_onehot_encoded[row_index]) + 1\n",
    "    authors_dist = pairwise_distances(authors_onehot_encoded, authors_onehot_encoded[row_index]) + 1\n",
    "    weighted_couple_dist   = (w1 * w2v_dist +  w2 * category_dist + w3 * authors_dist)/float(w1 + w2 + w3)\n",
    "    indices = np.argsort(weighted_couple_dist.flatten())[0:num_similar_items].tolist()\n",
    "    df = pd.DataFrame({'publish_date': news_articles['date'][indices].values,\n",
    "                'headline':news_articles['headline'][indices].values,\n",
    "                'Weighted Euclidean similarity with the queried article': weighted_couple_dist[indices].ravel(),\n",
    "                'Word2Vec based Euclidean similarity': w2v_dist[indices].ravel(),\n",
    "                'Category based Euclidean similarity': category_dist[indices].ravel(),\n",
    "                'Authors based Euclidean similarity': authors_dist[indices].ravel(),       \n",
    "                'Categoty': news_articles['category'][indices].values,\n",
    "                'Authors': news_articles['authors'][indices].values})\n",
    "    print(\"=\"*30,\"Queried article details\",\"=\"*30)\n",
    "    print('headline : ',news_articles['headline'][indices[0]])\n",
    "    print('Categoty : ', news_articles['category'][indices[0]])\n",
    "    print('Authors : ', news_articles['authors'][indices[0]])\n",
    "    print(\"\\n\",\"=\"*25,\"Recommended articles : \",\"=\"*23)\n",
    "    #return df.iloc[1:,[1,6,7]]\n",
    "    return df.iloc[1:, ]\n",
    "\n",
    "\n",
    "avg_w2v_with_category_and_authors(528,10,0.1,0.1,1)"
   ]
  },
  {
   "cell_type": "markdown",
   "metadata": {},
   "source": [
    "Above function takes one extra weight argument **w3** for **author**.\n",
    "\n",
    "In the ouput, we can observe that the recommended articles are from the same **author** as the queried article **author** due to high weightage to **w3**."
   ]
  },
  {
   "cell_type": "markdown",
   "metadata": {},
   "source": [
    "### 6.f Weighted similarity based on headline, category, author and publishing day "
   ]
  },
  {
   "cell_type": "markdown",
   "metadata": {},
   "source": [
    "Now let's see calcualte articles similarity based on the publishing **week day** **author** along with **headline**, **category** and **author**. Again, we are encoding this new feature through **onehot encoding**."
   ]
  },
  {
   "cell_type": "code",
   "execution_count": 39,
   "metadata": {},
   "outputs": [],
   "source": [
    "publishingday_onehot_encoded = OneHotEncoder().fit_transform(np.array(news_articles_temp[\"day and month\"]).reshape(-1,1))"
   ]
  },
  {
   "cell_type": "code",
   "execution_count": 40,
   "metadata": {},
   "outputs": [
    {
     "name": "stdout",
     "output_type": "stream",
     "text": [
      "============================== Queried article details ==============================\n",
      "headline :  Universities Tell Applicants That Protesting Gun Violence Won’t Affect Admissions\n",
      "Categoty :  EDUCATION\n",
      "Authors :  Carla Herreria\n",
      "Day and month :  Sat_Feb\n",
      "\n",
      " ========================= Recommended articles :  =======================\n"
     ]
    },
    {
     "data": {
      "text/html": [
       "<div>\n",
       "<style scoped>\n",
       "    .dataframe tbody tr th:only-of-type {\n",
       "        vertical-align: middle;\n",
       "    }\n",
       "\n",
       "    .dataframe tbody tr th {\n",
       "        vertical-align: top;\n",
       "    }\n",
       "\n",
       "    .dataframe thead th {\n",
       "        text-align: right;\n",
       "    }\n",
       "</style>\n",
       "<table border=\"1\" class=\"dataframe\">\n",
       "  <thead>\n",
       "    <tr style=\"text-align: right;\">\n",
       "      <th></th>\n",
       "      <th>publish_date</th>\n",
       "      <th>headline_text</th>\n",
       "      <th>Weighted Euclidean similarity with the queried article</th>\n",
       "      <th>Word2Vec based Euclidean similarity</th>\n",
       "      <th>Category based Euclidean similarity</th>\n",
       "      <th>Authors based Euclidean similarity</th>\n",
       "      <th>Publishing day based Euclidean similarity</th>\n",
       "      <th>Categoty</th>\n",
       "      <th>Authors</th>\n",
       "      <th>Day and month</th>\n",
       "    </tr>\n",
       "  </thead>\n",
       "  <tbody>\n",
       "    <tr>\n",
       "      <th>1</th>\n",
       "      <td>2018-02-24</td>\n",
       "      <td>Tribal Filipinos Were A Surprising Muse For ‘Black Panther’s’ Dora Milaje</td>\n",
       "      <td>1.120093</td>\n",
       "      <td>1.146997</td>\n",
       "      <td>2.414214</td>\n",
       "      <td>1.000000</td>\n",
       "      <td>1.0</td>\n",
       "      <td>BLACK VOICES</td>\n",
       "      <td>Carla Herreria</td>\n",
       "      <td>Sat_Feb</td>\n",
       "    </tr>\n",
       "    <tr>\n",
       "      <th>2</th>\n",
       "      <td>2018-02-17</td>\n",
       "      <td>Florida Gubernatorial Candidate Calls On Governor To Halt AR-15 Sales</td>\n",
       "      <td>1.123805</td>\n",
       "      <td>1.195254</td>\n",
       "      <td>2.414214</td>\n",
       "      <td>1.000000</td>\n",
       "      <td>1.0</td>\n",
       "      <td>POLITICS</td>\n",
       "      <td>Carla Herreria</td>\n",
       "      <td>Sat_Feb</td>\n",
       "    </tr>\n",
       "    <tr>\n",
       "      <th>3</th>\n",
       "      <td>2018-02-17</td>\n",
       "      <td>U.S. Figure Skater Nathan Chen Redeems Himself With Record-Setting Skate</td>\n",
       "      <td>1.131725</td>\n",
       "      <td>1.298216</td>\n",
       "      <td>2.414214</td>\n",
       "      <td>1.000000</td>\n",
       "      <td>1.0</td>\n",
       "      <td>SPORTS</td>\n",
       "      <td>Carla Herreria</td>\n",
       "      <td>Sat_Feb</td>\n",
       "    </tr>\n",
       "    <tr>\n",
       "      <th>4</th>\n",
       "      <td>2018-02-24</td>\n",
       "      <td>This Is What A Serious Gun Violence Policy Would Look Like</td>\n",
       "      <td>1.197894</td>\n",
       "      <td>0.744200</td>\n",
       "      <td>2.414214</td>\n",
       "      <td>2.414214</td>\n",
       "      <td>1.0</td>\n",
       "      <td>POLITICS</td>\n",
       "      <td>Jonathan Cohn</td>\n",
       "      <td>Sat_Feb</td>\n",
       "    </tr>\n",
       "    <tr>\n",
       "      <th>5</th>\n",
       "      <td>2018-02-03</td>\n",
       "      <td>Uma Thurman Says Harvey Weinstein Assaulted Her</td>\n",
       "      <td>1.201029</td>\n",
       "      <td>0.784947</td>\n",
       "      <td>2.414214</td>\n",
       "      <td>2.414214</td>\n",
       "      <td>1.0</td>\n",
       "      <td>ENTERTAINMENT</td>\n",
       "      <td>Hilary Hanson</td>\n",
       "      <td>Sat_Feb</td>\n",
       "    </tr>\n",
       "    <tr>\n",
       "      <th>6</th>\n",
       "      <td>2018-02-24</td>\n",
       "      <td>Bombing In Syria's Ghouta Won't Let Up Long Enough For Rescuers To Count Bodies</td>\n",
       "      <td>1.206645</td>\n",
       "      <td>0.857960</td>\n",
       "      <td>2.414214</td>\n",
       "      <td>2.414214</td>\n",
       "      <td>1.0</td>\n",
       "      <td>WORLD NEWS</td>\n",
       "      <td></td>\n",
       "      <td>Sat_Feb</td>\n",
       "    </tr>\n",
       "    <tr>\n",
       "      <th>7</th>\n",
       "      <td>2018-02-24</td>\n",
       "      <td>Evangelical Leaders Say 'Pro-Life Ethic' Means Fighting For Gun Reform</td>\n",
       "      <td>1.206681</td>\n",
       "      <td>0.858428</td>\n",
       "      <td>2.414214</td>\n",
       "      <td>2.414214</td>\n",
       "      <td>1.0</td>\n",
       "      <td>POLITICS</td>\n",
       "      <td>Carol Kuruvilla</td>\n",
       "      <td>Sat_Feb</td>\n",
       "    </tr>\n",
       "    <tr>\n",
       "      <th>8</th>\n",
       "      <td>2018-02-17</td>\n",
       "      <td>Floridians Tell Politicians Who Do The NRA’s Bidding Their Time Is Up</td>\n",
       "      <td>1.208333</td>\n",
       "      <td>0.879902</td>\n",
       "      <td>2.414214</td>\n",
       "      <td>2.414214</td>\n",
       "      <td>1.0</td>\n",
       "      <td>POLITICS</td>\n",
       "      <td>Sebastian Murdock</td>\n",
       "      <td>Sat_Feb</td>\n",
       "    </tr>\n",
       "    <tr>\n",
       "      <th>9</th>\n",
       "      <td>2018-02-03</td>\n",
       "      <td>Bill Maher Mocks Devin Nunes’ Memo As Nothing More Than 'A Facebook Post'</td>\n",
       "      <td>1.210100</td>\n",
       "      <td>0.902875</td>\n",
       "      <td>2.414214</td>\n",
       "      <td>2.414214</td>\n",
       "      <td>1.0</td>\n",
       "      <td>COMEDY</td>\n",
       "      <td>Lee Moran</td>\n",
       "      <td>Sat_Feb</td>\n",
       "    </tr>\n",
       "  </tbody>\n",
       "</table>\n",
       "</div>"
      ],
      "text/plain": [
       "  publish_date  \\\n",
       "1 2018-02-24     \n",
       "2 2018-02-17     \n",
       "3 2018-02-17     \n",
       "4 2018-02-24     \n",
       "5 2018-02-03     \n",
       "6 2018-02-24     \n",
       "7 2018-02-24     \n",
       "8 2018-02-17     \n",
       "9 2018-02-03     \n",
       "\n",
       "                                                                     headline_text  \\\n",
       "1  Tribal Filipinos Were A Surprising Muse For ‘Black Panther’s’ Dora Milaje         \n",
       "2  Florida Gubernatorial Candidate Calls On Governor To Halt AR-15 Sales             \n",
       "3  U.S. Figure Skater Nathan Chen Redeems Himself With Record-Setting Skate          \n",
       "4  This Is What A Serious Gun Violence Policy Would Look Like                        \n",
       "5  Uma Thurman Says Harvey Weinstein Assaulted Her                                   \n",
       "6  Bombing In Syria's Ghouta Won't Let Up Long Enough For Rescuers To Count Bodies   \n",
       "7  Evangelical Leaders Say 'Pro-Life Ethic' Means Fighting For Gun Reform            \n",
       "8  Floridians Tell Politicians Who Do The NRA’s Bidding Their Time Is Up             \n",
       "9  Bill Maher Mocks Devin Nunes’ Memo As Nothing More Than 'A Facebook Post'         \n",
       "\n",
       "   Weighted Euclidean similarity with the queried article  \\\n",
       "1  1.120093                                                 \n",
       "2  1.123805                                                 \n",
       "3  1.131725                                                 \n",
       "4  1.197894                                                 \n",
       "5  1.201029                                                 \n",
       "6  1.206645                                                 \n",
       "7  1.206681                                                 \n",
       "8  1.208333                                                 \n",
       "9  1.210100                                                 \n",
       "\n",
       "   Word2Vec based Euclidean similarity  Category based Euclidean similarity  \\\n",
       "1  1.146997                             2.414214                              \n",
       "2  1.195254                             2.414214                              \n",
       "3  1.298216                             2.414214                              \n",
       "4  0.744200                             2.414214                              \n",
       "5  0.784947                             2.414214                              \n",
       "6  0.857960                             2.414214                              \n",
       "7  0.858428                             2.414214                              \n",
       "8  0.879902                             2.414214                              \n",
       "9  0.902875                             2.414214                              \n",
       "\n",
       "   Authors based Euclidean similarity  \\\n",
       "1  1.000000                             \n",
       "2  1.000000                             \n",
       "3  1.000000                             \n",
       "4  2.414214                             \n",
       "5  2.414214                             \n",
       "6  2.414214                             \n",
       "7  2.414214                             \n",
       "8  2.414214                             \n",
       "9  2.414214                             \n",
       "\n",
       "   Publishing day based Euclidean similarity       Categoty  \\\n",
       "1  1.0                                        BLACK VOICES    \n",
       "2  1.0                                        POLITICS        \n",
       "3  1.0                                        SPORTS          \n",
       "4  1.0                                        POLITICS        \n",
       "5  1.0                                        ENTERTAINMENT   \n",
       "6  1.0                                        WORLD NEWS      \n",
       "7  1.0                                        POLITICS        \n",
       "8  1.0                                        POLITICS        \n",
       "9  1.0                                        COMEDY          \n",
       "\n",
       "             Authors Day and month  \n",
       "1  Carla Herreria     Sat_Feb       \n",
       "2  Carla Herreria     Sat_Feb       \n",
       "3  Carla Herreria     Sat_Feb       \n",
       "4  Jonathan Cohn      Sat_Feb       \n",
       "5  Hilary Hanson      Sat_Feb       \n",
       "6                     Sat_Feb       \n",
       "7  Carol Kuruvilla    Sat_Feb       \n",
       "8  Sebastian Murdock  Sat_Feb       \n",
       "9  Lee Moran          Sat_Feb       "
      ]
     },
     "execution_count": 40,
     "metadata": {},
     "output_type": "execute_result"
    }
   ],
   "source": [
    "def avg_w2v_with_category_authors_and_publshing_day(row_index, num_similar_items, w1,w2,w3,w4): #headline_preference = True, category_preference = False):\n",
    "    w2v_dist  = pairwise_distances(w2v_headline, w2v_headline[row_index].reshape(1,-1))\n",
    "    category_dist = pairwise_distances(category_onehot_encoded, category_onehot_encoded[row_index]) + 1\n",
    "    authors_dist = pairwise_distances(authors_onehot_encoded, authors_onehot_encoded[row_index]) + 1\n",
    "    publishingday_dist = pairwise_distances(publishingday_onehot_encoded, publishingday_onehot_encoded[row_index]) + 1\n",
    "    weighted_couple_dist   = (w1 * w2v_dist +  w2 * category_dist + w3 * authors_dist + w4 * publishingday_dist)/float(w1 + w2 + w3 + w4)\n",
    "    indices = np.argsort(weighted_couple_dist.flatten())[0:num_similar_items].tolist()\n",
    "    df = pd.DataFrame({'publish_date': news_articles['date'][indices].values,\n",
    "                'headline_text':news_articles['headline'][indices].values,\n",
    "                'Weighted Euclidean similarity with the queried article': weighted_couple_dist[indices].ravel(),\n",
    "                'Word2Vec based Euclidean similarity': w2v_dist[indices].ravel(),\n",
    "                'Category based Euclidean similarity': category_dist[indices].ravel(),\n",
    "                'Authors based Euclidean similarity': authors_dist[indices].ravel(),   \n",
    "                'Publishing day based Euclidean similarity': publishingday_dist[indices].ravel(), \n",
    "                'Categoty': news_articles['category'][indices].values,\n",
    "                'Authors': news_articles['authors'][indices].values,\n",
    "                'Day and month': news_articles['day and month'][indices].values})\n",
    "    print(\"=\"*30,\"Queried article details\",\"=\"*30)\n",
    "    print('headline : ',news_articles['headline'][indices[0]])\n",
    "    print('Categoty : ', news_articles['category'][indices[0]])\n",
    "    print('Authors : ', news_articles['authors'][indices[0]])\n",
    "    print('Day and month : ', news_articles['day and month'][indices[0]])\n",
    "    print(\"\\n\",\"=\"*25,\"Recommended articles : \",\"=\"*23)\n",
    "    #return df.iloc[1:,[1,7,8,9]]\n",
    "    return df.iloc[1:, ]\n",
    "\n",
    "\n",
    "avg_w2v_with_category_authors_and_publshing_day(528,10,0.1,0.1,0.1,1)"
   ]
  },
  {
   "cell_type": "markdown",
   "metadata": {},
   "source": [
    "Above function takes one extra weight argument **w4** for **day of the week and month**.\n",
    "\n",
    "In the ouput, we can observe that the recommended articles are from the same **day of the week and month** as the queried article due to high weightage to **w4**."
   ]
  }
 ],
 "metadata": {
  "kernelspec": {
   "display_name": "Python 3",
   "language": "python",
   "name": "python3"
  },
  "language_info": {
   "codemirror_mode": {
    "name": "ipython",
    "version": 3
   },
   "file_extension": ".py",
   "mimetype": "text/x-python",
   "name": "python",
   "nbconvert_exporter": "python",
   "pygments_lexer": "ipython3",
   "version": "3.6.6"
  }
 },
 "nbformat": 4,
 "nbformat_minor": 1
}
